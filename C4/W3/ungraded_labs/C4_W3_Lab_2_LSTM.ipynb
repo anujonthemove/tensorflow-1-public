{
 "cells": [
  {
   "cell_type": "markdown",
   "metadata": {},
   "source": [
    "<a href=\"https://colab.research.google.com/github/https-deeplearning-ai/tensorflow-1-public/blob/main/C4/W3/ungraded_labs/C4_W3_Lab_2_LSTM.ipynb\" target=\"_parent\"><img src=\"https://colab.research.google.com/assets/colab-badge.svg\" alt=\"Open In Colab\"/></a>"
   ]
  },
  {
   "cell_type": "markdown",
   "metadata": {
    "id": "sV_nvXSQGJPK"
   },
   "source": [
    "# Ungraded Lab: Using a multi-layer LSTM for forecasting\n",
    "\n",
    "In this lab, you will use the same RNN architecure in the first lab but will instead stack [LSTM](https://www.tensorflow.org/api_docs/python/tf/keras/layers/LSTM) layers instead of `SimpleRNN`."
   ]
  },
  {
   "cell_type": "markdown",
   "metadata": {
    "id": "3IMbAWETGOWD"
   },
   "source": [
    "## Imports"
   ]
  },
  {
   "cell_type": "code",
   "execution_count": 1,
   "metadata": {
    "id": "BOjujz601HcS"
   },
   "outputs": [],
   "source": [
    "import tensorflow as tf\n",
    "import numpy as np\n",
    "import matplotlib.pyplot as plt"
   ]
  },
  {
   "cell_type": "markdown",
   "metadata": {
    "id": "kD7RQQ0xGQVH"
   },
   "source": [
    "## Utilities"
   ]
  },
  {
   "cell_type": "code",
   "execution_count": 2,
   "metadata": {
    "id": "Zswl7jRtGzkk"
   },
   "outputs": [],
   "source": [
    "def plot_series(time, series, format=\"-\", start=0, end=None):\n",
    "    \"\"\"\n",
    "    Visualizes time series data\n",
    "\n",
    "    Args:\n",
    "      time (array of int) - contains the time steps\n",
    "      series (array of int) - contains the measurements for each time step\n",
    "      format - line style when plotting the graph\n",
    "      start - first time step to plot\n",
    "      end - last time step to plot\n",
    "    \"\"\"\n",
    "\n",
    "    # Setup dimensions of the graph figure\n",
    "    plt.figure(figsize=(10, 6))\n",
    "    \n",
    "    if type(series) is tuple:\n",
    "\n",
    "      for series_num in series:\n",
    "        # Plot the time series data\n",
    "        plt.plot(time[start:end], series_num[start:end], format)\n",
    "\n",
    "    else:\n",
    "      # Plot the time series data\n",
    "      plt.plot(time[start:end], series[start:end], format)\n",
    "\n",
    "    # Label the x-axis\n",
    "    plt.xlabel(\"Time\")\n",
    "\n",
    "    # Label the y-axis\n",
    "    plt.ylabel(\"Value\")\n",
    "\n",
    "    # Overlay a grid on the graph\n",
    "    plt.grid(True)\n",
    "\n",
    "    # Draw the graph on screen\n",
    "    plt.show()\n",
    "\n",
    "def trend(time, slope=0):\n",
    "    \"\"\"\n",
    "    Generates synthetic data that follows a straight line given a slope value.\n",
    "\n",
    "    Args:\n",
    "      time (array of int) - contains the time steps\n",
    "      slope (float) - determines the direction and steepness of the line\n",
    "\n",
    "    Returns:\n",
    "      series (array of float) - measurements that follow a straight line\n",
    "    \"\"\"\n",
    "\n",
    "    # Compute the linear series given the slope\n",
    "    series = slope * time\n",
    "\n",
    "    return series\n",
    "\n",
    "def seasonal_pattern(season_time):\n",
    "    \"\"\"\n",
    "    Just an arbitrary pattern, you can change it if you wish\n",
    "    \n",
    "    Args:\n",
    "      season_time (array of float) - contains the measurements per time step\n",
    "\n",
    "    Returns:\n",
    "      data_pattern (array of float) -  contains revised measurement values according \n",
    "                                  to the defined pattern\n",
    "    \"\"\"\n",
    "\n",
    "    # Generate the values using an arbitrary pattern\n",
    "    data_pattern = np.where(season_time < 0.4,\n",
    "                    np.cos(season_time * 2 * np.pi),\n",
    "                    1 / np.exp(3 * season_time))\n",
    "    \n",
    "    return data_pattern\n",
    "\n",
    "def seasonality(time, period, amplitude=1, phase=0):\n",
    "    \"\"\"\n",
    "    Repeats the same pattern at each period\n",
    "\n",
    "    Args:\n",
    "      time (array of int) - contains the time steps\n",
    "      period (int) - number of time steps before the pattern repeats\n",
    "      amplitude (int) - peak measured value in a period\n",
    "      phase (int) - number of time steps to shift the measured values\n",
    "\n",
    "    Returns:\n",
    "      data_pattern (array of float) - seasonal data scaled by the defined amplitude\n",
    "    \"\"\"\n",
    "    \n",
    "    # Define the measured values per period\n",
    "    season_time = ((time + phase) % period) / period\n",
    "\n",
    "    # Generates the seasonal data scaled by the defined amplitude\n",
    "    data_pattern = amplitude * seasonal_pattern(season_time)\n",
    "\n",
    "    return data_pattern\n",
    "\n",
    "def noise(time, noise_level=1, seed=None):\n",
    "    \"\"\"Generates a normally distributed noisy signal\n",
    "\n",
    "    Args:\n",
    "      time (array of int) - contains the time steps\n",
    "      noise_level (float) - scaling factor for the generated signal\n",
    "      seed (int) - number generator seed for repeatability\n",
    "\n",
    "    Returns:\n",
    "      noise (array of float) - the noisy signal\n",
    "    \"\"\"\n",
    "\n",
    "    # Initialize the random number generator\n",
    "    rnd = np.random.RandomState(seed)\n",
    "\n",
    "    # Generate a random number for each time step and scale by the noise level\n",
    "    noise = rnd.randn(len(time)) * noise_level\n",
    "    \n",
    "    return noise"
   ]
  },
  {
   "cell_type": "markdown",
   "metadata": {
    "id": "yxNyeFWjGSdj"
   },
   "source": [
    "## Generate the Synthetic Data"
   ]
  },
  {
   "cell_type": "code",
   "execution_count": 3,
   "metadata": {
    "id": "KYEUfDbdpHPm"
   },
   "outputs": [
    {
     "data": {
      "image/png": "[encoded data removed]",
      "text/plain": [
       "<Figure size 720x432 with 1 Axes>"
      ]
     },
     "metadata": {
      "needs_background": "light"
     },
     "output_type": "display_data"
    }
   ],
   "source": [
    "# Parameters\n",
    "time = np.arange(4 * 365 + 1, dtype=\"float32\")\n",
    "baseline = 10\n",
    "amplitude = 40\n",
    "slope = 0.05\n",
    "noise_level = 5\n",
    "\n",
    "# Create the series\n",
    "series = baseline + trend(time, slope) + seasonality(time, period=365, amplitude=amplitude)\n",
    "\n",
    "# Update with noise\n",
    "series += noise(time, noise_level, seed=42)\n",
    "\n",
    "# Plot the results\n",
    "plot_series(time, series)"
   ]
  },
  {
   "cell_type": "markdown",
   "metadata": {
    "id": "MYKCvv-eGWRc"
   },
   "source": [
    "## Split the Dataset"
   ]
  },
  {
   "cell_type": "code",
   "execution_count": 4,
   "metadata": {
    "id": "hpp0slenpKVD"
   },
   "outputs": [],
   "source": [
    "# Define the split time\n",
    "split_time = 1000\n",
    "\n",
    "# Get the train set \n",
    "time_train = time[:split_time]\n",
    "x_train = series[:split_time]\n",
    "\n",
    "# Get the validation set\n",
    "time_valid = time[split_time:]\n",
    "x_valid = series[split_time:]"
   ]
  },
  {
   "cell_type": "markdown",
   "metadata": {
    "id": "cktHz9aOGYtV"
   },
   "source": [
    "## Prepare Features and Labels"
   ]
  },
  {
   "cell_type": "code",
   "execution_count": 5,
   "metadata": {
    "id": "G_j_2_Mqwn7-"
   },
   "outputs": [],
   "source": [
    "# Parameters\n",
    "window_size = 20\n",
    "batch_size = 32\n",
    "shuffle_buffer_size = 1000"
   ]
  },
  {
   "cell_type": "code",
   "execution_count": 6,
   "metadata": {
    "id": "4sTTIOCbyShY"
   },
   "outputs": [],
   "source": [
    "def windowed_dataset(series, window_size, batch_size, shuffle_buffer):\n",
    "    \"\"\"Generates dataset windows\n",
    "\n",
    "    Args:\n",
    "      series (array of float) - contains the values of the time series\n",
    "      window_size (int) - the number of time steps to include in the feature\n",
    "      batch_size (int) - the batch size\n",
    "      shuffle_buffer(int) - buffer size to use for the shuffle method\n",
    "\n",
    "    Returns:\n",
    "      dataset (TF Dataset) - TF Dataset containing time windows\n",
    "    \"\"\"\n",
    "  \n",
    "    # Generate a TF Dataset from the series values\n",
    "    dataset = tf.data.Dataset.from_tensor_slices(series)\n",
    "    \n",
    "    # Window the data but only take those with the specified size\n",
    "    dataset = dataset.window(window_size + 1, shift=1, drop_remainder=True)\n",
    "    \n",
    "    # Flatten the windows by putting its elements in a single batch\n",
    "    dataset = dataset.flat_map(lambda window: window.batch(window_size + 1))\n",
    "\n",
    "    # Create tuples with features and labels \n",
    "    dataset = dataset.map(lambda window: (window[:-1], window[-1]))\n",
    "\n",
    "    # Shuffle the windows\n",
    "    dataset = dataset.shuffle(shuffle_buffer)\n",
    "    \n",
    "    # Create batches of windows\n",
    "    dataset = dataset.batch(batch_size).prefetch(1)\n",
    "    \n",
    "    return dataset"
   ]
  },
  {
   "cell_type": "code",
   "execution_count": 7,
   "metadata": {
    "id": "vGj5-InSwtQQ"
   },
   "outputs": [
    {
     "name": "stderr",
     "output_type": "stream",
     "text": [
      "2022-05-09 08:48:33.413499: I tensorflow/stream_executor/cuda/cuda_gpu_executor.cc:936] successful NUMA node read from SysFS had negative value (-1), but there must be at least one NUMA node, so returning NUMA node zero\n",
      "2022-05-09 08:48:33.442308: I tensorflow/stream_executor/cuda/cuda_gpu_executor.cc:936] successful NUMA node read from SysFS had negative value (-1), but there must be at least one NUMA node, so returning NUMA node zero\n",
      "2022-05-09 08:48:33.442701: I tensorflow/stream_executor/cuda/cuda_gpu_executor.cc:936] successful NUMA node read from SysFS had negative value (-1), but there must be at least one NUMA node, so returning NUMA node zero\n",
      "2022-05-09 08:48:33.444316: I tensorflow/core/platform/cpu_feature_guard.cc:151] This TensorFlow binary is optimized with oneAPI Deep Neural Network Library (oneDNN) to use the following CPU instructions in performance-critical operations:  AVX2 AVX512F FMA\n",
      "To enable them in other operations, rebuild TensorFlow with the appropriate compiler flags.\n",
      "2022-05-09 08:48:33.445693: I tensorflow/stream_executor/cuda/cuda_gpu_executor.cc:936] successful NUMA node read from SysFS had negative value (-1), but there must be at least one NUMA node, so returning NUMA node zero\n",
      "2022-05-09 08:48:33.446172: I tensorflow/stream_executor/cuda/cuda_gpu_executor.cc:936] successful NUMA node read from SysFS had negative value (-1), but there must be at least one NUMA node, so returning NUMA node zero\n",
      "2022-05-09 08:48:33.446505: I tensorflow/stream_executor/cuda/cuda_gpu_executor.cc:936] successful NUMA node read from SysFS had negative value (-1), but there must be at least one NUMA node, so returning NUMA node zero\n",
      "2022-05-09 08:48:33.789645: I tensorflow/stream_executor/cuda/cuda_gpu_executor.cc:936] successful NUMA node read from SysFS had negative value (-1), but there must be at least one NUMA node, so returning NUMA node zero\n",
      "2022-05-09 08:48:33.790013: I tensorflow/stream_executor/cuda/cuda_gpu_executor.cc:936] successful NUMA node read from SysFS had negative value (-1), but there must be at least one NUMA node, so returning NUMA node zero\n",
      "2022-05-09 08:48:33.790330: I tensorflow/stream_executor/cuda/cuda_gpu_executor.cc:936] successful NUMA node read from SysFS had negative value (-1), but there must be at least one NUMA node, so returning NUMA node zero\n",
      "2022-05-09 08:48:33.790647: I tensorflow/core/common_runtime/gpu/gpu_device.cc:1525] Created device /job:localhost/replica:0/task:0/device:GPU:0 with 6073 MB memory:  -> device: 0, name: NVIDIA GeForce RTX 3070 Laptop GPU, pci bus id: 0000:01:00.0, compute capability: 8.6\n"
     ]
    }
   ],
   "source": [
    "# Generate the dataset windows\n",
    "dataset = windowed_dataset(x_train, window_size, batch_size, shuffle_buffer_size)"
   ]
  },
  {
   "cell_type": "markdown",
   "metadata": {
    "id": "p9-Ke8ZaGcjd"
   },
   "source": [
    "## Build the Model\n",
    "\n",
    "As mentioned, you will swap `SimpleRNN` for `LSTM` in this lab. It is also set as bidirectional below but feel free to revise later and see what results you get. LSTMs are much more complex in their internal architecture than simpleRNNs. It implements a cell state that allows it to remember sequences better than simple implementations. This added complexity results in a bigger set of parameters to train and you'll see that when you print the model summary below."
   ]
  },
  {
   "cell_type": "code",
   "execution_count": 8,
   "metadata": {
    "id": "A1Hl39rklkLm"
   },
   "outputs": [
    {
     "name": "stdout",
     "output_type": "stream",
     "text": [
      "Model: \"sequential\"\n",
      "_________________________________________________________________\n",
      " Layer (type)                Output Shape              Param #   \n",
      "=================================================================\n",
      " lambda (Lambda)             (None, 20, 1)             0         \n",
      "                                                                 \n",
      " bidirectional (Bidirectiona  (None, 20, 64)           8704      \n",
      " l)                                                              \n",
      "                                                                 \n",
      " bidirectional_1 (Bidirectio  (None, 64)               24832     \n",
      " nal)                                                            \n",
      "                                                                 \n",
      " dense (Dense)               (None, 1)                 65        \n",
      "                                                                 \n",
      " lambda_1 (Lambda)           (None, 1)                 0         \n",
      "                                                                 \n",
      "=================================================================\n",
      "Total params: 33,601\n",
      "Trainable params: 33,601\n",
      "Non-trainable params: 0\n",
      "_________________________________________________________________\n"
     ]
    }
   ],
   "source": [
    "# Build the Model\n",
    "model_tune = tf.keras.models.Sequential([\n",
    "  tf.keras.layers.Lambda(lambda x: tf.expand_dims(x, axis=-1),\n",
    "                      input_shape=[window_size]),\n",
    "    tf.keras.layers.Bidirectional(tf.keras.layers.LSTM(32, return_sequences=True)),\n",
    "  tf.keras.layers.Bidirectional(tf.keras.layers.LSTM(32)),\n",
    "  tf.keras.layers.Dense(1),\n",
    "  tf.keras.layers.Lambda(lambda x: x * 100.0)\n",
    "])\n",
    "\n",
    "# Print the model summary\n",
    "model_tune.summary()"
   ]
  },
  {
   "cell_type": "markdown",
   "metadata": {
    "id": "FHaFblbwq0GV"
   },
   "source": [
    "## Tune the Learning Rate\n",
    "\n",
    "As usual, you will pick a learning rate by running the tuning code below."
   ]
  },
  {
   "cell_type": "code",
   "execution_count": 9,
   "metadata": {
    "id": "qE7al18qw48G"
   },
   "outputs": [
    {
     "name": "stdout",
     "output_type": "stream",
     "text": [
      "Epoch 1/100\n"
     ]
    },
    {
     "name": "stderr",
     "output_type": "stream",
     "text": [
      "2022-05-09 08:53:41.705993: I tensorflow/stream_executor/cuda/cuda_dnn.cc:368] Loaded cuDNN version 8400\n",
      "2022-05-09 08:53:41.848596: I tensorflow/stream_executor/cuda/cuda_blas.cc:1786] TensorFloat-32 will be used for the matrix multiplication. This will only be logged once.\n"
     ]
    },
    {
     "name": "stdout",
     "output_type": "stream",
     "text": [
      "31/31 [==============================] - 4s 10ms/step - loss: 70.0824 - lr: 1.0000e-08\n",
      "Epoch 2/100\n",
      "31/31 [==============================] - 0s 6ms/step - loss: 68.7583 - lr: 1.1220e-08\n",
      "Epoch 3/100\n",
      "31/31 [==============================] - 0s 6ms/step - loss: 67.1595 - lr: 1.2589e-08\n",
      "Epoch 4/100\n",
      "31/31 [==============================] - 0s 6ms/step - loss: 65.3691 - lr: 1.4125e-08\n",
      "Epoch 5/100\n",
      "31/31 [==============================] - 0s 6ms/step - loss: 63.3719 - lr: 1.5849e-08\n",
      "Epoch 6/100\n",
      "31/31 [==============================] - 0s 6ms/step - loss: 61.1348 - lr: 1.7783e-08\n",
      "Epoch 7/100\n",
      "31/31 [==============================] - 0s 6ms/step - loss: 58.6374 - lr: 1.9953e-08\n",
      "Epoch 8/100\n",
      "31/31 [==============================] - 0s 6ms/step - loss: 55.8754 - lr: 2.2387e-08\n",
      "Epoch 9/100\n",
      "31/31 [==============================] - 0s 6ms/step - loss: 52.7830 - lr: 2.5119e-08\n",
      "Epoch 10/100\n",
      "31/31 [==============================] - 0s 6ms/step - loss: 49.3584 - lr: 2.8184e-08\n",
      "Epoch 11/100\n",
      "31/31 [==============================] - 0s 6ms/step - loss: 45.5698 - lr: 3.1623e-08\n",
      "Epoch 12/100\n",
      "31/31 [==============================] - 0s 5ms/step - loss: 41.3648 - lr: 3.5481e-08\n",
      "Epoch 13/100\n",
      "31/31 [==============================] - 0s 6ms/step - loss: 36.7793 - lr: 3.9811e-08\n",
      "Epoch 14/100\n",
      "31/31 [==============================] - 0s 6ms/step - loss: 31.7638 - lr: 4.4668e-08\n",
      "Epoch 15/100\n",
      "31/31 [==============================] - 0s 5ms/step - loss: 26.5086 - lr: 5.0119e-08\n",
      "Epoch 16/100\n",
      "31/31 [==============================] - 0s 5ms/step - loss: 21.3987 - lr: 5.6234e-08\n",
      "Epoch 17/100\n",
      "31/31 [==============================] - 0s 5ms/step - loss: 17.2509 - lr: 6.3096e-08\n",
      "Epoch 18/100\n",
      "31/31 [==============================] - 0s 6ms/step - loss: 14.7301 - lr: 7.0795e-08\n",
      "Epoch 19/100\n",
      "31/31 [==============================] - 0s 6ms/step - loss: 13.3967 - lr: 7.9433e-08\n",
      "Epoch 20/100\n",
      "31/31 [==============================] - 0s 6ms/step - loss: 12.6050 - lr: 8.9125e-08\n",
      "Epoch 21/100\n",
      "31/31 [==============================] - 0s 5ms/step - loss: 12.0796 - lr: 1.0000e-07\n",
      "Epoch 22/100\n",
      "31/31 [==============================] - 0s 6ms/step - loss: 11.7353 - lr: 1.1220e-07\n",
      "Epoch 23/100\n",
      "31/31 [==============================] - 0s 6ms/step - loss: 11.4274 - lr: 1.2589e-07\n",
      "Epoch 24/100\n",
      "31/31 [==============================] - 0s 5ms/step - loss: 11.1049 - lr: 1.4125e-07\n",
      "Epoch 25/100\n",
      "31/31 [==============================] - 0s 6ms/step - loss: 10.7372 - lr: 1.5849e-07\n",
      "Epoch 26/100\n",
      "31/31 [==============================] - 0s 6ms/step - loss: 10.3173 - lr: 1.7783e-07\n",
      "Epoch 27/100\n",
      "31/31 [==============================] - 0s 5ms/step - loss: 9.8525 - lr: 1.9953e-07\n",
      "Epoch 28/100\n",
      "31/31 [==============================] - 0s 5ms/step - loss: 9.3532 - lr: 2.2387e-07\n",
      "Epoch 29/100\n",
      "31/31 [==============================] - 0s 6ms/step - loss: 8.8523 - lr: 2.5119e-07\n",
      "Epoch 30/100\n",
      "31/31 [==============================] - 0s 5ms/step - loss: 8.3717 - lr: 2.8184e-07\n",
      "Epoch 31/100\n",
      "31/31 [==============================] - 0s 5ms/step - loss: 7.9447 - lr: 3.1623e-07\n",
      "Epoch 32/100\n",
      "31/31 [==============================] - 0s 6ms/step - loss: 7.5985 - lr: 3.5481e-07\n",
      "Epoch 33/100\n",
      "31/31 [==============================] - 0s 5ms/step - loss: 7.3007 - lr: 3.9811e-07\n",
      "Epoch 34/100\n",
      "31/31 [==============================] - 0s 6ms/step - loss: 7.0521 - lr: 4.4668e-07\n",
      "Epoch 35/100\n",
      "31/31 [==============================] - 0s 6ms/step - loss: 6.8651 - lr: 5.0119e-07\n",
      "Epoch 36/100\n",
      "31/31 [==============================] - 0s 6ms/step - loss: 6.6927 - lr: 5.6234e-07\n",
      "Epoch 37/100\n",
      "31/31 [==============================] - 0s 5ms/step - loss: 6.5431 - lr: 6.3096e-07\n",
      "Epoch 38/100\n",
      "31/31 [==============================] - 0s 5ms/step - loss: 6.3978 - lr: 7.0795e-07\n",
      "Epoch 39/100\n",
      "31/31 [==============================] - 0s 5ms/step - loss: 6.2825 - lr: 7.9433e-07\n",
      "Epoch 40/100\n",
      "31/31 [==============================] - 0s 5ms/step - loss: 6.1906 - lr: 8.9125e-07\n",
      "Epoch 41/100\n",
      "31/31 [==============================] - 0s 5ms/step - loss: 6.0952 - lr: 1.0000e-06\n",
      "Epoch 42/100\n",
      "31/31 [==============================] - 0s 5ms/step - loss: 5.9883 - lr: 1.1220e-06\n",
      "Epoch 43/100\n",
      "31/31 [==============================] - 0s 5ms/step - loss: 5.9184 - lr: 1.2589e-06\n",
      "Epoch 44/100\n",
      "31/31 [==============================] - 0s 6ms/step - loss: 5.8498 - lr: 1.4125e-06\n",
      "Epoch 45/100\n",
      "31/31 [==============================] - 0s 6ms/step - loss: 5.7371 - lr: 1.5849e-06\n",
      "Epoch 46/100\n",
      "31/31 [==============================] - 0s 6ms/step - loss: 5.7166 - lr: 1.7783e-06\n",
      "Epoch 47/100\n",
      "31/31 [==============================] - 0s 6ms/step - loss: 5.5939 - lr: 1.9953e-06\n",
      "Epoch 48/100\n",
      "31/31 [==============================] - 0s 6ms/step - loss: 5.6162 - lr: 2.2387e-06\n",
      "Epoch 49/100\n",
      "31/31 [==============================] - 0s 6ms/step - loss: 5.5608 - lr: 2.5119e-06\n",
      "Epoch 50/100\n",
      "31/31 [==============================] - 0s 6ms/step - loss: 5.4584 - lr: 2.8184e-06\n",
      "Epoch 51/100\n",
      "31/31 [==============================] - 0s 6ms/step - loss: 5.4464 - lr: 3.1623e-06\n",
      "Epoch 52/100\n",
      "31/31 [==============================] - 0s 6ms/step - loss: 5.4296 - lr: 3.5481e-06\n",
      "Epoch 53/100\n",
      "31/31 [==============================] - 0s 5ms/step - loss: 5.3174 - lr: 3.9811e-06\n",
      "Epoch 54/100\n",
      "31/31 [==============================] - 0s 6ms/step - loss: 5.3480 - lr: 4.4668e-06\n",
      "Epoch 55/100\n",
      "31/31 [==============================] - 0s 6ms/step - loss: 5.4168 - lr: 5.0119e-06\n",
      "Epoch 56/100\n",
      "31/31 [==============================] - 0s 6ms/step - loss: 5.4281 - lr: 5.6234e-06\n",
      "Epoch 57/100\n",
      "31/31 [==============================] - 0s 5ms/step - loss: 5.2877 - lr: 6.3096e-06\n",
      "Epoch 58/100\n",
      "31/31 [==============================] - 0s 6ms/step - loss: 5.5778 - lr: 7.0795e-06\n",
      "Epoch 59/100\n",
      "31/31 [==============================] - 0s 6ms/step - loss: 5.6223 - lr: 7.9433e-06\n",
      "Epoch 60/100\n",
      "31/31 [==============================] - 0s 6ms/step - loss: 5.0795 - lr: 8.9125e-06\n",
      "Epoch 61/100\n",
      "31/31 [==============================] - 0s 6ms/step - loss: 5.0770 - lr: 1.0000e-05\n",
      "Epoch 62/100\n",
      "31/31 [==============================] - 0s 6ms/step - loss: 5.6248 - lr: 1.1220e-05\n",
      "Epoch 63/100\n",
      "31/31 [==============================] - 0s 5ms/step - loss: 5.4274 - lr: 1.2589e-05\n",
      "Epoch 64/100\n",
      "31/31 [==============================] - 0s 5ms/step - loss: 5.2169 - lr: 1.4125e-05\n",
      "Epoch 65/100\n",
      "31/31 [==============================] - 0s 6ms/step - loss: 5.0211 - lr: 1.5849e-05\n",
      "Epoch 66/100\n",
      "31/31 [==============================] - 0s 6ms/step - loss: 5.4503 - lr: 1.7783e-05\n",
      "Epoch 67/100\n",
      "31/31 [==============================] - 0s 6ms/step - loss: 4.8973 - lr: 1.9953e-05\n",
      "Epoch 68/100\n",
      "31/31 [==============================] - 0s 6ms/step - loss: 5.2357 - lr: 2.2387e-05\n",
      "Epoch 69/100\n",
      "31/31 [==============================] - 0s 6ms/step - loss: 5.2785 - lr: 2.5119e-05\n",
      "Epoch 70/100\n",
      "31/31 [==============================] - 0s 6ms/step - loss: 5.5564 - lr: 2.8184e-05\n",
      "Epoch 71/100\n",
      "31/31 [==============================] - 0s 6ms/step - loss: 6.0158 - lr: 3.1623e-05\n",
      "Epoch 72/100\n",
      "31/31 [==============================] - 0s 6ms/step - loss: 5.1275 - lr: 3.5481e-05\n",
      "Epoch 73/100\n",
      "31/31 [==============================] - 0s 5ms/step - loss: 4.9848 - lr: 3.9811e-05\n",
      "Epoch 74/100\n",
      "31/31 [==============================] - 0s 5ms/step - loss: 6.0956 - lr: 4.4668e-05\n",
      "Epoch 75/100\n",
      "31/31 [==============================] - 0s 5ms/step - loss: 8.6757 - lr: 5.0119e-05\n",
      "Epoch 76/100\n",
      "31/31 [==============================] - 0s 5ms/step - loss: 8.4530 - lr: 5.6234e-05\n",
      "Epoch 77/100\n",
      "31/31 [==============================] - 0s 5ms/step - loss: 5.9764 - lr: 6.3096e-05\n",
      "Epoch 78/100\n",
      "31/31 [==============================] - 0s 5ms/step - loss: 5.9212 - lr: 7.0795e-05\n",
      "Epoch 79/100\n",
      "31/31 [==============================] - 0s 6ms/step - loss: 5.4876 - lr: 7.9433e-05\n",
      "Epoch 80/100\n",
      "31/31 [==============================] - 0s 5ms/step - loss: 7.6899 - lr: 8.9125e-05\n",
      "Epoch 81/100\n",
      "31/31 [==============================] - 0s 5ms/step - loss: 7.5431 - lr: 1.0000e-04\n",
      "Epoch 82/100\n",
      "31/31 [==============================] - 0s 5ms/step - loss: 6.0335 - lr: 1.1220e-04\n",
      "Epoch 83/100\n",
      "31/31 [==============================] - 0s 5ms/step - loss: 5.7464 - lr: 1.2589e-04\n",
      "Epoch 84/100\n"
     ]
    },
    {
     "name": "stdout",
     "output_type": "stream",
     "text": [
      "31/31 [==============================] - 0s 5ms/step - loss: 6.2743 - lr: 1.4125e-04\n",
      "Epoch 85/100\n",
      "31/31 [==============================] - 0s 6ms/step - loss: 6.7197 - lr: 1.5849e-04\n",
      "Epoch 86/100\n",
      "31/31 [==============================] - 0s 5ms/step - loss: 7.8496 - lr: 1.7783e-04\n",
      "Epoch 87/100\n",
      "31/31 [==============================] - 0s 5ms/step - loss: 7.4980 - lr: 1.9953e-04\n",
      "Epoch 88/100\n",
      "31/31 [==============================] - 0s 5ms/step - loss: 7.3148 - lr: 2.2387e-04\n",
      "Epoch 89/100\n",
      "31/31 [==============================] - 0s 6ms/step - loss: 9.1408 - lr: 2.5119e-04\n",
      "Epoch 90/100\n",
      "31/31 [==============================] - 0s 5ms/step - loss: 9.4835 - lr: 2.8184e-04\n",
      "Epoch 91/100\n",
      "31/31 [==============================] - 0s 5ms/step - loss: 6.4294 - lr: 3.1623e-04\n",
      "Epoch 92/100\n",
      "31/31 [==============================] - 0s 6ms/step - loss: 6.6000 - lr: 3.5481e-04\n",
      "Epoch 93/100\n",
      "31/31 [==============================] - 0s 5ms/step - loss: 9.2382 - lr: 3.9811e-04\n",
      "Epoch 94/100\n",
      "31/31 [==============================] - 0s 6ms/step - loss: 9.9694 - lr: 4.4668e-04\n",
      "Epoch 95/100\n",
      "31/31 [==============================] - 0s 6ms/step - loss: 12.0714 - lr: 5.0119e-04\n",
      "Epoch 96/100\n",
      "31/31 [==============================] - 0s 6ms/step - loss: 11.2565 - lr: 5.6234e-04\n",
      "Epoch 97/100\n",
      "31/31 [==============================] - 0s 5ms/step - loss: 10.4246 - lr: 6.3096e-04\n",
      "Epoch 98/100\n",
      "31/31 [==============================] - 0s 5ms/step - loss: 10.7751 - lr: 7.0795e-04\n",
      "Epoch 99/100\n",
      "31/31 [==============================] - 0s 6ms/step - loss: 13.1293 - lr: 7.9433e-04\n",
      "Epoch 100/100\n",
      "31/31 [==============================] - 0s 5ms/step - loss: 11.4887 - lr: 8.9125e-04\n"
     ]
    }
   ],
   "source": [
    "# Set the learning rate scheduler\n",
    "lr_schedule = tf.keras.callbacks.LearningRateScheduler(\n",
    "    lambda epoch: 1e-8 * 10**(epoch / 20))\n",
    "\n",
    "# Initialize the optimizer\n",
    "optimizer = tf.keras.optimizers.SGD(momentum=0.9)\n",
    "\n",
    "# Set the training parameters\n",
    "model_tune.compile(loss=tf.keras.losses.Huber(), optimizer=optimizer)\n",
    "\n",
    "# Train the model\n",
    "history = model_tune.fit(dataset, epochs=100, callbacks=[lr_schedule])"
   ]
  },
  {
   "cell_type": "code",
   "execution_count": 10,
   "metadata": {
    "id": "AkBsrsXMzoWR"
   },
   "outputs": [
    {
     "data": {
      "text/plain": [
       "(1e-08, 0.001, 0.0, 30.0)"
      ]
     },
     "execution_count": 10,
     "metadata": {},
     "output_type": "execute_result"
    },
    {
     "data": {
      "image/png": "[encoded data removed]",
      "text/plain": [
       "<Figure size 720x432 with 1 Axes>"
      ]
     },
     "metadata": {
      "needs_background": "light"
     },
     "output_type": "display_data"
    }
   ],
   "source": [
    "# Define the learning rate array\n",
    "lrs = 1e-8 * (10 ** (np.arange(100) / 20))\n",
    "\n",
    "# Set the figure size\n",
    "plt.figure(figsize=(10, 6))\n",
    "\n",
    "# Set the grid\n",
    "plt.grid(True)\n",
    "\n",
    "# Plot the loss in log scale\n",
    "plt.semilogx(lrs, history.history[\"loss\"])\n",
    "\n",
    "# Increase the tickmarks size\n",
    "plt.tick_params('both', length=10, width=1, which='both')\n",
    "\n",
    "# Set the plot boundaries\n",
    "plt.axis([1e-8, 1e-3, 0, 30])"
   ]
  },
  {
   "cell_type": "markdown",
   "metadata": {
    "id": "i-lKNp4pq_w8"
   },
   "source": [
    "## Train the Model\n",
    "\n",
    "You can then proceed to train the model with your chosen learning rate. \n",
    "\n",
    "*Tip: When experimenting and you find yourself running different iterations of a model, you may want to use the [`clear_session()`](https://www.tensorflow.org/api_docs/python/tf/keras/backend/clear_session) method to declutter memory used by Keras. This is added in the first line below.*\n"
   ]
  },
  {
   "cell_type": "code",
   "execution_count": 11,
   "metadata": {
    "id": "4uh-97bpLZCA"
   },
   "outputs": [
    {
     "name": "stdout",
     "output_type": "stream",
     "text": [
      "Epoch 1/100\n",
      "31/31 [==============================] - 3s 6ms/step - loss: 14.7699 - mae: 15.2622\n",
      "Epoch 2/100\n",
      "31/31 [==============================] - 0s 6ms/step - loss: 9.2507 - mae: 9.7395\n",
      "Epoch 3/100\n",
      "31/31 [==============================] - 0s 6ms/step - loss: 9.4049 - mae: 9.8945\n",
      "Epoch 4/100\n",
      "31/31 [==============================] - 0s 6ms/step - loss: 8.0709 - mae: 8.5544\n",
      "Epoch 5/100\n",
      "31/31 [==============================] - 0s 6ms/step - loss: 6.6309 - mae: 7.1133\n",
      "Epoch 6/100\n",
      "31/31 [==============================] - 0s 6ms/step - loss: 6.0069 - mae: 6.4891\n",
      "Epoch 7/100\n",
      "31/31 [==============================] - 0s 6ms/step - loss: 5.7634 - mae: 6.2446\n",
      "Epoch 8/100\n",
      "31/31 [==============================] - 0s 6ms/step - loss: 5.5922 - mae: 6.0710\n",
      "Epoch 9/100\n",
      "31/31 [==============================] - 0s 6ms/step - loss: 5.5813 - mae: 6.0609\n",
      "Epoch 10/100\n",
      "31/31 [==============================] - 0s 6ms/step - loss: 5.4338 - mae: 5.9146\n",
      "Epoch 11/100\n",
      "31/31 [==============================] - 0s 6ms/step - loss: 5.2978 - mae: 5.7757\n",
      "Epoch 12/100\n",
      "31/31 [==============================] - 0s 6ms/step - loss: 5.2389 - mae: 5.7165\n",
      "Epoch 13/100\n",
      "31/31 [==============================] - 0s 6ms/step - loss: 5.1042 - mae: 5.5814\n",
      "Epoch 14/100\n",
      "31/31 [==============================] - 0s 6ms/step - loss: 5.0555 - mae: 5.5318\n",
      "Epoch 15/100\n",
      "31/31 [==============================] - 0s 6ms/step - loss: 5.1805 - mae: 5.6562\n",
      "Epoch 16/100\n",
      "31/31 [==============================] - 0s 6ms/step - loss: 5.0139 - mae: 5.4921\n",
      "Epoch 17/100\n",
      "31/31 [==============================] - 0s 6ms/step - loss: 4.9658 - mae: 5.4412\n",
      "Epoch 18/100\n",
      "31/31 [==============================] - 0s 6ms/step - loss: 4.9709 - mae: 5.4464\n",
      "Epoch 19/100\n",
      "31/31 [==============================] - 0s 6ms/step - loss: 4.9426 - mae: 5.4210\n",
      "Epoch 20/100\n",
      "31/31 [==============================] - 0s 6ms/step - loss: 4.9349 - mae: 5.4067\n",
      "Epoch 21/100\n",
      "31/31 [==============================] - 0s 6ms/step - loss: 4.9295 - mae: 5.4094\n",
      "Epoch 22/100\n",
      "31/31 [==============================] - 0s 6ms/step - loss: 4.8471 - mae: 5.3264\n",
      "Epoch 23/100\n",
      "31/31 [==============================] - 0s 6ms/step - loss: 4.8518 - mae: 5.3295\n",
      "Epoch 24/100\n",
      "31/31 [==============================] - 0s 5ms/step - loss: 4.7713 - mae: 5.2467\n",
      "Epoch 25/100\n",
      "31/31 [==============================] - 0s 6ms/step - loss: 4.7755 - mae: 5.2509\n",
      "Epoch 26/100\n",
      "31/31 [==============================] - 0s 6ms/step - loss: 4.8468 - mae: 5.3235\n",
      "Epoch 27/100\n",
      "31/31 [==============================] - 0s 6ms/step - loss: 4.7781 - mae: 5.2536\n",
      "Epoch 28/100\n",
      "31/31 [==============================] - 0s 6ms/step - loss: 4.7145 - mae: 5.1917\n",
      "Epoch 29/100\n",
      "31/31 [==============================] - 0s 6ms/step - loss: 4.7334 - mae: 5.2088\n",
      "Epoch 30/100\n",
      "31/31 [==============================] - 0s 6ms/step - loss: 4.6877 - mae: 5.1654\n",
      "Epoch 31/100\n",
      "31/31 [==============================] - 0s 6ms/step - loss: 4.7097 - mae: 5.1845\n",
      "Epoch 32/100\n",
      "31/31 [==============================] - 0s 6ms/step - loss: 5.0946 - mae: 5.5749\n",
      "Epoch 33/100\n",
      "31/31 [==============================] - 0s 6ms/step - loss: 4.9156 - mae: 5.3903\n",
      "Epoch 34/100\n",
      "31/31 [==============================] - 0s 6ms/step - loss: 4.7581 - mae: 5.2338\n",
      "Epoch 35/100\n",
      "31/31 [==============================] - 0s 6ms/step - loss: 4.7200 - mae: 5.1948\n",
      "Epoch 36/100\n",
      "31/31 [==============================] - 0s 6ms/step - loss: 4.7079 - mae: 5.1832\n",
      "Epoch 37/100\n",
      "31/31 [==============================] - 0s 6ms/step - loss: 4.6325 - mae: 5.1085\n",
      "Epoch 38/100\n",
      "31/31 [==============================] - 0s 6ms/step - loss: 4.6110 - mae: 5.0848\n",
      "Epoch 39/100\n",
      "31/31 [==============================] - 0s 6ms/step - loss: 4.6031 - mae: 5.0767\n",
      "Epoch 40/100\n",
      "31/31 [==============================] - 0s 5ms/step - loss: 4.6022 - mae: 5.0761\n",
      "Epoch 41/100\n",
      "31/31 [==============================] - 0s 6ms/step - loss: 4.5851 - mae: 5.0599\n",
      "Epoch 42/100\n",
      "31/31 [==============================] - 0s 6ms/step - loss: 4.8311 - mae: 5.3069\n",
      "Epoch 43/100\n",
      "31/31 [==============================] - 0s 6ms/step - loss: 4.6033 - mae: 5.0749\n",
      "Epoch 44/100\n",
      "31/31 [==============================] - 0s 6ms/step - loss: 4.5682 - mae: 5.0453\n",
      "Epoch 45/100\n",
      "31/31 [==============================] - 0s 6ms/step - loss: 4.5619 - mae: 5.0375\n",
      "Epoch 46/100\n",
      "31/31 [==============================] - 0s 6ms/step - loss: 4.7017 - mae: 5.1759\n",
      "Epoch 47/100\n",
      "31/31 [==============================] - 0s 6ms/step - loss: 4.5314 - mae: 5.0058\n",
      "Epoch 48/100\n",
      "31/31 [==============================] - 0s 6ms/step - loss: 4.5661 - mae: 5.0410\n",
      "Epoch 49/100\n",
      "31/31 [==============================] - 0s 6ms/step - loss: 4.5359 - mae: 5.0099\n",
      "Epoch 50/100\n",
      "31/31 [==============================] - 0s 6ms/step - loss: 4.5670 - mae: 5.0426\n",
      "Epoch 51/100\n",
      "31/31 [==============================] - 0s 6ms/step - loss: 4.5695 - mae: 5.0415\n",
      "Epoch 52/100\n",
      "31/31 [==============================] - 0s 5ms/step - loss: 4.4935 - mae: 4.9646\n",
      "Epoch 53/100\n",
      "31/31 [==============================] - 0s 6ms/step - loss: 4.6037 - mae: 5.0781\n",
      "Epoch 54/100\n",
      "31/31 [==============================] - 0s 6ms/step - loss: 4.6751 - mae: 5.1499\n",
      "Epoch 55/100\n",
      "31/31 [==============================] - 0s 6ms/step - loss: 4.7613 - mae: 5.2398\n",
      "Epoch 56/100\n",
      "31/31 [==============================] - 0s 6ms/step - loss: 4.6642 - mae: 5.1385\n",
      "Epoch 57/100\n",
      "31/31 [==============================] - 0s 6ms/step - loss: 4.5888 - mae: 5.0621\n",
      "Epoch 58/100\n",
      "31/31 [==============================] - 0s 6ms/step - loss: 4.6339 - mae: 5.1101\n",
      "Epoch 59/100\n",
      "31/31 [==============================] - 0s 5ms/step - loss: 4.5393 - mae: 5.0149\n",
      "Epoch 60/100\n",
      "31/31 [==============================] - 0s 6ms/step - loss: 4.5122 - mae: 4.9900\n",
      "Epoch 61/100\n",
      "31/31 [==============================] - 0s 6ms/step - loss: 4.4983 - mae: 4.9760\n",
      "Epoch 62/100\n",
      "31/31 [==============================] - 0s 6ms/step - loss: 4.5430 - mae: 5.0186\n",
      "Epoch 63/100\n",
      "31/31 [==============================] - 0s 6ms/step - loss: 4.5043 - mae: 4.9785\n",
      "Epoch 64/100\n",
      "31/31 [==============================] - 0s 6ms/step - loss: 4.4836 - mae: 4.9592\n",
      "Epoch 65/100\n",
      "31/31 [==============================] - 0s 6ms/step - loss: 4.5346 - mae: 5.0079\n",
      "Epoch 66/100\n",
      "31/31 [==============================] - 0s 6ms/step - loss: 4.4773 - mae: 4.9543\n",
      "Epoch 67/100\n",
      "31/31 [==============================] - 0s 6ms/step - loss: 4.4654 - mae: 4.9402\n",
      "Epoch 68/100\n",
      "31/31 [==============================] - 0s 6ms/step - loss: 4.4616 - mae: 4.9379\n",
      "Epoch 69/100\n",
      "31/31 [==============================] - 0s 6ms/step - loss: 4.4403 - mae: 4.9170\n",
      "Epoch 70/100\n",
      "31/31 [==============================] - 0s 6ms/step - loss: 4.5276 - mae: 5.0041\n",
      "Epoch 71/100\n",
      "31/31 [==============================] - 0s 6ms/step - loss: 4.5461 - mae: 5.0213\n",
      "Epoch 72/100\n",
      "31/31 [==============================] - 0s 6ms/step - loss: 4.6352 - mae: 5.1114\n",
      "Epoch 73/100\n",
      "31/31 [==============================] - 0s 6ms/step - loss: 4.5389 - mae: 5.0183\n",
      "Epoch 74/100\n",
      "31/31 [==============================] - 0s 6ms/step - loss: 4.4294 - mae: 4.9031\n",
      "Epoch 75/100\n",
      "31/31 [==============================] - 0s 6ms/step - loss: 4.5251 - mae: 5.0011\n",
      "Epoch 76/100\n",
      "31/31 [==============================] - 0s 6ms/step - loss: 4.5138 - mae: 4.9894\n",
      "Epoch 77/100\n",
      "31/31 [==============================] - 0s 6ms/step - loss: 4.5571 - mae: 5.0334\n",
      "Epoch 78/100\n",
      "31/31 [==============================] - 0s 6ms/step - loss: 4.4924 - mae: 4.9652\n",
      "Epoch 79/100\n",
      "31/31 [==============================] - 0s 6ms/step - loss: 4.5596 - mae: 5.0345\n",
      "Epoch 80/100\n",
      "31/31 [==============================] - 0s 6ms/step - loss: 4.4990 - mae: 4.9760\n",
      "Epoch 81/100\n",
      "31/31 [==============================] - 0s 6ms/step - loss: 4.4020 - mae: 4.8743\n",
      "Epoch 82/100\n",
      "31/31 [==============================] - 0s 6ms/step - loss: 4.4257 - mae: 4.8975\n",
      "Epoch 83/100\n",
      "31/31 [==============================] - 0s 6ms/step - loss: 4.4732 - mae: 4.9470\n",
      "Epoch 84/100\n",
      "31/31 [==============================] - 0s 6ms/step - loss: 4.3919 - mae: 4.8674\n",
      "Epoch 85/100\n",
      "31/31 [==============================] - 0s 6ms/step - loss: 4.5043 - mae: 4.9768\n",
      "Epoch 86/100\n",
      "31/31 [==============================] - 0s 6ms/step - loss: 4.4111 - mae: 4.8842\n",
      "Epoch 87/100\n"
     ]
    },
    {
     "name": "stdout",
     "output_type": "stream",
     "text": [
      "31/31 [==============================] - 0s 6ms/step - loss: 4.4138 - mae: 4.8877\n",
      "Epoch 88/100\n",
      "31/31 [==============================] - 0s 6ms/step - loss: 4.5511 - mae: 5.0272\n",
      "Epoch 89/100\n",
      "31/31 [==============================] - 0s 6ms/step - loss: 4.5335 - mae: 5.0097\n",
      "Epoch 90/100\n",
      "31/31 [==============================] - 0s 6ms/step - loss: 4.5111 - mae: 4.9869\n",
      "Epoch 91/100\n",
      "31/31 [==============================] - 0s 6ms/step - loss: 4.9142 - mae: 5.3953\n",
      "Epoch 92/100\n",
      "31/31 [==============================] - 0s 5ms/step - loss: 4.5126 - mae: 4.9886\n",
      "Epoch 93/100\n",
      "31/31 [==============================] - 0s 5ms/step - loss: 4.4636 - mae: 4.9374\n",
      "Epoch 94/100\n",
      "31/31 [==============================] - 0s 6ms/step - loss: 4.4330 - mae: 4.9087\n",
      "Epoch 95/100\n",
      "31/31 [==============================] - 0s 6ms/step - loss: 4.5397 - mae: 5.0168\n",
      "Epoch 96/100\n",
      "31/31 [==============================] - 0s 6ms/step - loss: 4.4155 - mae: 4.8891\n",
      "Epoch 97/100\n",
      "31/31 [==============================] - 0s 6ms/step - loss: 4.4427 - mae: 4.9159\n",
      "Epoch 98/100\n",
      "31/31 [==============================] - 0s 6ms/step - loss: 4.4289 - mae: 4.9015\n",
      "Epoch 99/100\n",
      "31/31 [==============================] - 0s 6ms/step - loss: 4.4111 - mae: 4.8843\n",
      "Epoch 100/100\n",
      "31/31 [==============================] - 0s 6ms/step - loss: 4.3973 - mae: 4.8703\n"
     ]
    }
   ],
   "source": [
    "# Reset states generated by Keras\n",
    "tf.keras.backend.clear_session()\n",
    "\n",
    "# Build the model\n",
    "model = tf.keras.models.Sequential([\n",
    "  tf.keras.layers.Lambda(lambda x: tf.expand_dims(x, axis=-1),\n",
    "                      input_shape=[None]),\n",
    "   tf.keras.layers.Bidirectional(tf.keras.layers.LSTM(32, return_sequences=True)),\n",
    "  tf.keras.layers.Bidirectional(tf.keras.layers.LSTM(32)),\n",
    "  tf.keras.layers.Dense(1),\n",
    "  tf.keras.layers.Lambda(lambda x: x * 100.0)\n",
    "])\n",
    "\n",
    "# Set the learning rate\n",
    "learning_rate = 2e-6\n",
    "\n",
    "# Set the optimizer \n",
    "optimizer = tf.keras.optimizers.SGD(learning_rate=learning_rate, momentum=0.9)\n",
    "\n",
    "# Set the training parameters\n",
    "model.compile(loss=tf.keras.losses.Huber(),\n",
    "              optimizer=optimizer,\n",
    "              metrics=[\"mae\"])\n",
    "\n",
    "# Train the model\n",
    "history = model.fit(dataset,epochs=100)"
   ]
  },
  {
   "cell_type": "markdown",
   "metadata": {
    "id": "RjP4kbGiI7cw"
   },
   "source": [
    "## Model Prediction\n",
    "\n",
    "You will then generate batches of windows to generate predictions that align with the validation set."
   ]
  },
  {
   "cell_type": "code",
   "execution_count": 12,
   "metadata": {
    "id": "QO8cfKwKBBG6"
   },
   "outputs": [],
   "source": [
    "def model_forecast(model, series, window_size, batch_size):\n",
    "    \"\"\"Uses an input model to generate predictions on data windows\n",
    "\n",
    "    Args:\n",
    "      model (TF Keras Model) - model that accepts data windows\n",
    "      series (array of float) - contains the values of the time series\n",
    "      window_size (int) - the number of time steps to include in the window\n",
    "      batch_size (int) - the batch size\n",
    "\n",
    "    Returns:\n",
    "      forecast (numpy array) - array containing predictions\n",
    "    \"\"\"\n",
    "\n",
    "    # Generate a TF Dataset from the series values\n",
    "    dataset = tf.data.Dataset.from_tensor_slices(series)\n",
    "\n",
    "    # Window the data but only take those with the specified size\n",
    "    dataset = dataset.window(window_size, shift=1, drop_remainder=True)\n",
    "\n",
    "    # Flatten the windows by putting its elements in a single batch\n",
    "    dataset = dataset.flat_map(lambda w: w.batch(window_size))\n",
    "    \n",
    "    # Create batches of windows\n",
    "    dataset = dataset.batch(batch_size).prefetch(1)\n",
    "    \n",
    "    # Get predictions on the entire dataset\n",
    "    forecast = model.predict(dataset)\n",
    "    \n",
    "    return forecast"
   ]
  },
  {
   "cell_type": "code",
   "execution_count": 13,
   "metadata": {
    "id": "_plB3UseBD8o"
   },
   "outputs": [
    {
     "data": {
      "image/png": "[encoded data removed]",
      "text/plain": [
       "<Figure size 720x432 with 1 Axes>"
      ]
     },
     "metadata": {
      "needs_background": "light"
     },
     "output_type": "display_data"
    }
   ],
   "source": [
    "# Reduce the original series\n",
    "forecast_series = series[split_time-window_size:-1]\n",
    "\n",
    "# Use helper function to generate predictions\n",
    "forecast = model_forecast(model, forecast_series, window_size, batch_size)\n",
    "\n",
    "# Drop single dimensional axis\n",
    "results = forecast.squeeze()\n",
    "\n",
    "# Plot the results\n",
    "plot_series(time_valid, (x_valid, results))"
   ]
  },
  {
   "cell_type": "markdown",
   "metadata": {
    "id": "Nn8iSQkZtaRC"
   },
   "source": [
    "You can then generate the metrics to evaluate the model's performance."
   ]
  },
  {
   "cell_type": "code",
   "execution_count": 14,
   "metadata": {
    "id": "-IKhueZaBGID"
   },
   "outputs": [
    {
     "name": "stdout",
     "output_type": "stream",
     "text": [
      "81.743256\n",
      "6.5858893\n"
     ]
    }
   ],
   "source": [
    "# Compute the MSE and MAE\n",
    "print(tf.keras.metrics.mean_squared_error(x_valid, results).numpy())\n",
    "print(tf.keras.metrics.mean_absolute_error(x_valid, results).numpy())"
   ]
  },
  {
   "cell_type": "markdown",
   "metadata": {
    "id": "bzPIqeMWvbPy"
   },
   "source": [
    "## Wrap Up\n",
    "\n",
    "This concludes this short exercise on using LSTMs for time series forecasting. Next week, you will build upon this and add convolutions. Then, you will start to move away from synthetic data and use real-world datasets. See you there!"
   ]
  },
  {
   "cell_type": "markdown",
   "metadata": {
    "id": "U5PqTePGHeMH"
   },
   "source": [
    "## Optional: Including a Validation Set while Training\n",
    "\n",
    "Back in the first course of this specialization, you saw how you can also monitor the performance of your model against a validation set while training. You can also do that for this lab. \n",
    "\n",
    "First, you need to generate a `val_set` which are data windows and labels that your model can accept. You can simply reuse the `windowed_dataset` function for that and you can pass in the `x_valid` points to generate the windows."
   ]
  },
  {
   "cell_type": "code",
   "execution_count": 15,
   "metadata": {
    "id": "kvFVwL3PC4iX"
   },
   "outputs": [],
   "source": [
    "# Generate data windows of the validation set\n",
    "val_set = windowed_dataset(x_valid, window_size, batch_size, shuffle_buffer_size)"
   ]
  },
  {
   "cell_type": "markdown",
   "metadata": {
    "id": "p68j6XxEvP9K"
   },
   "source": [
    "You can then do the same training as before but pass in the `val_set` to the `validation_data` parameter of the `fit()` method."
   ]
  },
  {
   "cell_type": "code",
   "execution_count": null,
   "metadata": {
    "id": "wujKz6tXDSn0"
   },
   "outputs": [
    {
     "name": "stdout",
     "output_type": "stream",
     "text": [
      "Epoch 1/100\n",
      "31/31 [==============================] - 4s 33ms/step - loss: 32.9578 - mae: 33.4548 - val_loss: 20.0735 - val_mae: 20.5715\n",
      "Epoch 2/100\n",
      "31/31 [==============================] - 0s 8ms/step - loss: 13.5652 - mae: 14.0588 - val_loss: 28.7096 - val_mae: 29.2093\n",
      "Epoch 3/100\n",
      "31/31 [==============================] - 0s 8ms/step - loss: 9.5069 - mae: 9.9963 - val_loss: 20.6901 - val_mae: 21.1861\n",
      "Epoch 4/100\n",
      "31/31 [==============================] - 0s 8ms/step - loss: 7.2476 - mae: 7.7296 - val_loss: 15.7333 - val_mae: 16.2295\n",
      "Epoch 5/100\n",
      "31/31 [==============================] - 0s 8ms/step - loss: 6.7287 - mae: 7.2078 - val_loss: 12.6194 - val_mae: 13.1116\n",
      "Epoch 6/100\n",
      "31/31 [==============================] - 0s 8ms/step - loss: 6.5208 - mae: 7.0015 - val_loss: 12.2844 - val_mae: 12.7711\n",
      "Epoch 7/100\n",
      "31/31 [==============================] - 0s 8ms/step - loss: 6.2978 - mae: 6.7778 - val_loss: 11.5960 - val_mae: 12.0835\n",
      "Epoch 8/100\n",
      "31/31 [==============================] - 0s 8ms/step - loss: 5.9055 - mae: 6.3836 - val_loss: 9.9116 - val_mae: 10.4012\n",
      "Epoch 9/100\n",
      "31/31 [==============================] - 0s 8ms/step - loss: 5.8925 - mae: 6.3719 - val_loss: 9.3795 - val_mae: 9.8639\n",
      "Epoch 10/100\n",
      "31/31 [==============================] - 0s 8ms/step - loss: 5.8084 - mae: 6.2881 - val_loss: 10.4807 - val_mae: 10.9719\n",
      "Epoch 11/100\n",
      "31/31 [==============================] - 0s 8ms/step - loss: 5.9542 - mae: 6.4337 - val_loss: 9.5219 - val_mae: 10.0101\n",
      "Epoch 12/100\n",
      "31/31 [==============================] - 0s 8ms/step - loss: 5.7836 - mae: 6.2609 - val_loss: 9.1723 - val_mae: 9.6591\n",
      "Epoch 13/100\n",
      "31/31 [==============================] - 0s 8ms/step - loss: 5.5860 - mae: 6.0689 - val_loss: 8.7627 - val_mae: 9.2510\n",
      "Epoch 14/100\n",
      "31/31 [==============================] - 0s 8ms/step - loss: 5.5348 - mae: 6.0142 - val_loss: 8.3923 - val_mae: 8.8787\n",
      "Epoch 15/100\n",
      "31/31 [==============================] - 0s 8ms/step - loss: 5.5083 - mae: 5.9888 - val_loss: 7.9187 - val_mae: 8.4079\n",
      "Epoch 16/100\n",
      "31/31 [==============================] - 0s 8ms/step - loss: 5.3304 - mae: 5.8096 - val_loss: 7.8458 - val_mae: 8.3328\n",
      "Epoch 17/100\n",
      "31/31 [==============================] - 0s 8ms/step - loss: 5.2513 - mae: 5.7284 - val_loss: 8.1498 - val_mae: 8.6340\n",
      "Epoch 18/100\n",
      "31/31 [==============================] - 0s 8ms/step - loss: 5.3227 - mae: 5.8020 - val_loss: 7.4022 - val_mae: 7.8903\n",
      "Epoch 19/100\n",
      "31/31 [==============================] - 0s 9ms/step - loss: 5.2129 - mae: 5.6906 - val_loss: 6.9521 - val_mae: 7.4321\n",
      "Epoch 20/100\n",
      "31/31 [==============================] - 0s 8ms/step - loss: 5.2503 - mae: 5.7304 - val_loss: 7.0311 - val_mae: 7.5184\n",
      "Epoch 21/100\n",
      "31/31 [==============================] - 0s 8ms/step - loss: 5.2935 - mae: 5.7687 - val_loss: 7.6527 - val_mae: 8.1342\n",
      "Epoch 22/100\n",
      "31/31 [==============================] - 0s 8ms/step - loss: 5.3782 - mae: 5.8556 - val_loss: 7.4780 - val_mae: 7.9600\n",
      "Epoch 23/100\n",
      "31/31 [==============================] - 0s 8ms/step - loss: 5.4242 - mae: 5.9034 - val_loss: 7.3565 - val_mae: 7.8393\n",
      "Epoch 24/100\n",
      "31/31 [==============================] - 0s 8ms/step - loss: 5.3379 - mae: 5.8157 - val_loss: 8.6988 - val_mae: 9.1874\n",
      "Epoch 25/100\n",
      "31/31 [==============================] - 0s 8ms/step - loss: 5.2162 - mae: 5.6941 - val_loss: 8.0809 - val_mae: 8.5680\n",
      "Epoch 26/100\n",
      "31/31 [==============================] - 0s 8ms/step - loss: 5.1407 - mae: 5.6207 - val_loss: 7.0387 - val_mae: 7.5223\n",
      "Epoch 27/100\n",
      "31/31 [==============================] - 0s 8ms/step - loss: 5.1637 - mae: 5.6431 - val_loss: 7.6722 - val_mae: 8.1574\n",
      "Epoch 28/100\n",
      "31/31 [==============================] - 0s 8ms/step - loss: 5.2329 - mae: 5.7081 - val_loss: 7.9674 - val_mae: 8.4541\n",
      "Epoch 29/100\n",
      "31/31 [==============================] - 0s 8ms/step - loss: 5.1945 - mae: 5.6734 - val_loss: 7.1282 - val_mae: 7.6109\n",
      "Epoch 30/100\n",
      "31/31 [==============================] - 0s 9ms/step - loss: 5.0949 - mae: 5.5738 - val_loss: 6.7367 - val_mae: 7.2207\n",
      "Epoch 31/100\n",
      "31/31 [==============================] - 0s 8ms/step - loss: 4.9960 - mae: 5.4715 - val_loss: 7.6896 - val_mae: 8.1731\n",
      "Epoch 32/100\n",
      "31/31 [==============================] - 0s 8ms/step - loss: 5.0194 - mae: 5.4970 - val_loss: 8.3802 - val_mae: 8.8705\n",
      "Epoch 33/100\n",
      "31/31 [==============================] - 0s 8ms/step - loss: 4.9948 - mae: 5.4757 - val_loss: 6.6005 - val_mae: 7.0834\n",
      "Epoch 34/100\n",
      "31/31 [==============================] - 0s 8ms/step - loss: 4.9612 - mae: 5.4405 - val_loss: 7.4570 - val_mae: 7.9384\n",
      "Epoch 35/100\n",
      "31/31 [==============================] - 0s 8ms/step - loss: 4.9422 - mae: 5.4218 - val_loss: 6.4705 - val_mae: 6.9553\n",
      "Epoch 36/100\n",
      "31/31 [==============================] - 0s 9ms/step - loss: 5.0381 - mae: 5.5154 - val_loss: 7.1700 - val_mae: 7.6527\n",
      "Epoch 37/100\n",
      "31/31 [==============================] - 0s 8ms/step - loss: 4.9245 - mae: 5.3994 - val_loss: 6.6403 - val_mae: 7.1273\n",
      "Epoch 38/100\n",
      "31/31 [==============================] - 0s 8ms/step - loss: 5.0583 - mae: 5.5360 - val_loss: 6.3150 - val_mae: 6.7990\n",
      "Epoch 39/100\n",
      "31/31 [==============================] - 0s 8ms/step - loss: 4.9375 - mae: 5.4160 - val_loss: 6.6977 - val_mae: 7.1832\n",
      "Epoch 40/100\n",
      "31/31 [==============================] - 0s 8ms/step - loss: 4.8701 - mae: 5.3460 - val_loss: 6.3701 - val_mae: 6.8526\n",
      "Epoch 41/100\n",
      "31/31 [==============================] - 0s 8ms/step - loss: 4.8159 - mae: 5.2911 - val_loss: 7.6097 - val_mae: 8.0966\n",
      "Epoch 42/100\n",
      "31/31 [==============================] - 0s 8ms/step - loss: 4.8800 - mae: 5.3595 - val_loss: 8.6266 - val_mae: 9.1147\n",
      "Epoch 43/100\n",
      "31/31 [==============================] - 0s 8ms/step - loss: 4.8741 - mae: 5.3537 - val_loss: 6.8602 - val_mae: 7.3423\n",
      "Epoch 44/100\n",
      "31/31 [==============================] - 0s 8ms/step - loss: 4.8163 - mae: 5.2931 - val_loss: 6.8283 - val_mae: 7.3087\n",
      "Epoch 45/100\n",
      "31/31 [==============================] - 0s 9ms/step - loss: 4.8894 - mae: 5.3691 - val_loss: 6.4017 - val_mae: 6.8851\n",
      "Epoch 46/100\n",
      "31/31 [==============================] - 0s 8ms/step - loss: 4.7892 - mae: 5.2665 - val_loss: 6.5558 - val_mae: 7.0389\n",
      "Epoch 47/100\n",
      "31/31 [==============================] - 0s 8ms/step - loss: 4.7631 - mae: 5.2404 - val_loss: 6.2676 - val_mae: 6.7506\n",
      "Epoch 48/100\n",
      "31/31 [==============================] - 0s 8ms/step - loss: 4.7589 - mae: 5.2365 - val_loss: 7.1961 - val_mae: 7.6773\n",
      "Epoch 49/100\n",
      "31/31 [==============================] - 0s 8ms/step - loss: 4.8616 - mae: 5.3394 - val_loss: 6.4727 - val_mae: 6.9562\n",
      "Epoch 50/100\n",
      "31/31 [==============================] - 0s 8ms/step - loss: 4.8065 - mae: 5.2839 - val_loss: 6.6647 - val_mae: 7.1434\n",
      "Epoch 51/100\n",
      "31/31 [==============================] - 0s 8ms/step - loss: 4.7741 - mae: 5.2544 - val_loss: 6.8077 - val_mae: 7.2878\n",
      "Epoch 52/100\n",
      "31/31 [==============================] - 0s 9ms/step - loss: 4.7726 - mae: 5.2515 - val_loss: 6.2812 - val_mae: 6.7647\n",
      "Epoch 53/100\n",
      "31/31 [==============================] - 0s 9ms/step - loss: 4.8424 - mae: 5.3166 - val_loss: 7.8847 - val_mae: 8.3762\n",
      "Epoch 54/100\n",
      "31/31 [==============================] - 0s 8ms/step - loss: 4.9707 - mae: 5.4473 - val_loss: 6.4489 - val_mae: 6.9333\n",
      "Epoch 55/100\n",
      "31/31 [==============================] - 0s 8ms/step - loss: 4.7175 - mae: 5.1934 - val_loss: 6.4313 - val_mae: 6.9148\n",
      "Epoch 56/100\n",
      "31/31 [==============================] - 0s 8ms/step - loss: 4.7154 - mae: 5.1944 - val_loss: 6.0664 - val_mae: 6.5474\n",
      "Epoch 57/100\n",
      "31/31 [==============================] - 0s 8ms/step - loss: 4.7539 - mae: 5.2300 - val_loss: 7.3461 - val_mae: 7.8317\n",
      "Epoch 58/100\n",
      "31/31 [==============================] - 0s 8ms/step - loss: 4.8702 - mae: 5.3498 - val_loss: 6.8783 - val_mae: 7.3602\n",
      "Epoch 59/100\n",
      "31/31 [==============================] - 0s 8ms/step - loss: 4.6558 - mae: 5.1302 - val_loss: 5.9267 - val_mae: 6.4068\n"
     ]
    }
   ],
   "source": [
    "# Reset states generated by Keras\n",
    "tf.keras.backend.clear_session()\n",
    "\n",
    "# Build the model\n",
    "model = tf.keras.models.Sequential([\n",
    "  tf.keras.layers.Lambda(lambda x: tf.expand_dims(x, axis=-1),\n",
    "                      input_shape=[None]),\n",
    "   tf.keras.layers.Bidirectional(tf.keras.layers.LSTM(32, return_sequences=True)),\n",
    "  tf.keras.layers.Bidirectional(tf.keras.layers.LSTM(32)),\n",
    "  tf.keras.layers.Dense(1),\n",
    "  tf.keras.layers.Lambda(lambda x: x * 100.0)\n",
    "])\n",
    "\n",
    "# Set the learning rate\n",
    "learning_rate = 2e-6\n",
    "\n",
    "# Set the optimizer \n",
    "optimizer = tf.keras.optimizers.SGD(learning_rate=learning_rate, momentum=0.9)\n",
    "\n",
    "# Set the training parameters\n",
    "model.compile(loss=tf.keras.losses.Huber(),\n",
    "              optimizer=optimizer,\n",
    "              metrics=[\"mae\"])\n",
    "\n",
    "# Train the model\n",
    "history = model.fit(dataset,epochs=100, validation_data=val_set)"
   ]
  },
  {
   "cell_type": "code",
   "execution_count": null,
   "metadata": {},
   "outputs": [],
   "source": []
  }
 ],
 "metadata": {
  "accelerator": "GPU",
  "colab": {
   "collapsed_sections": [],
   "name": "C4_W3_Lab_2_LSTM.ipynb",
   "private_outputs": true,
   "provenance": []
  },
  "kernelspec": {
   "display_name": "Python 3 (ipykernel)",
   "language": "python",
   "name": "python3"
  },
  "language_info": {
   "codemirror_mode": {
    "name": "ipython",
    "version": 3
   },
   "file_extension": ".py",
   "mimetype": "text/x-python",
   "name": "python",
   "nbconvert_exporter": "python",
   "pygments_lexer": "ipython3",
   "version": "3.8.10"
  }
 },
 "nbformat": 4,
 "nbformat_minor": 1
}
