{
 "cells": [
  {
   "cell_type": "code",
   "execution_count": 1,
   "id": "99f431dd",
   "metadata": {},
   "outputs": [],
   "source": [
    "import tensorflow as tf\n",
    "import numpy as np"
   ]
  },
  {
   "cell_type": "markdown",
   "id": "0853ce03",
   "metadata": {},
   "source": [
    "### Using TensorFlow"
   ]
  },
  {
   "cell_type": "code",
   "execution_count": 2,
   "id": "fb45c42e",
   "metadata": {},
   "outputs": [
    {
     "name": "stdout",
     "output_type": "stream",
     "text": [
      "<RangeDataset element_spec=TensorSpec(shape=(), dtype=tf.int64, name=None)>\n",
      "[0, 1, 2, 3, 4, 5, 6, 7, 8, 9]\n"
     ]
    },
    {
     "name": "stderr",
     "output_type": "stream",
     "text": [
      "2022-05-08 16:34:02.087651: E tensorflow/stream_executor/cuda/cuda_driver.cc:271] failed call to cuInit: CUDA_ERROR_UNKNOWN: unknown error\n",
      "2022-05-08 16:34:02.087676: I tensorflow/stream_executor/cuda/cuda_diagnostics.cc:169] retrieving CUDA diagnostic information for host: acer-Predator-PT516-51s\n",
      "2022-05-08 16:34:02.087679: I tensorflow/stream_executor/cuda/cuda_diagnostics.cc:176] hostname: acer-Predator-PT516-51s\n",
      "2022-05-08 16:34:02.087719: I tensorflow/stream_executor/cuda/cuda_diagnostics.cc:200] libcuda reported version is: 470.103.1\n",
      "2022-05-08 16:34:02.087730: I tensorflow/stream_executor/cuda/cuda_diagnostics.cc:204] kernel reported version is: 470.103.1\n",
      "2022-05-08 16:34:02.087734: I tensorflow/stream_executor/cuda/cuda_diagnostics.cc:310] kernel version seems to match DSO: 470.103.1\n",
      "2022-05-08 16:34:02.088214: I tensorflow/core/platform/cpu_feature_guard.cc:151] This TensorFlow binary is optimized with oneAPI Deep Neural Network Library (oneDNN) to use the following CPU instructions in performance-critical operations:  AVX2 AVX512F FMA\n",
      "To enable them in other operations, rebuild TensorFlow with the appropriate compiler flags.\n"
     ]
    }
   ],
   "source": [
    "dataset = tf.data.Dataset.range(10)\n",
    "print(dataset)\n",
    "print([val.numpy() for val in dataset])"
   ]
  },
  {
   "cell_type": "markdown",
   "id": "a771604b",
   "metadata": {},
   "source": [
    "### Using Numpy"
   ]
  },
  {
   "cell_type": "code",
   "execution_count": 3,
   "id": "185e5daf",
   "metadata": {},
   "outputs": [
    {
     "name": "stdout",
     "output_type": "stream",
     "text": [
      "[0 1 2 3 4 5 6 7 8 9]\n"
     ]
    }
   ],
   "source": [
    "dataset_np = np.arange(10)\n",
    "print(dataset_np)"
   ]
  },
  {
   "cell_type": "markdown",
   "id": "8fc26be3",
   "metadata": {},
   "source": [
    "### Using Python List"
   ]
  },
  {
   "cell_type": "code",
   "execution_count": 4,
   "id": "d60a7f24",
   "metadata": {},
   "outputs": [
    {
     "name": "stdout",
     "output_type": "stream",
     "text": [
      "[0, 1, 2, 3, 4, 5, 6, 7, 8, 9]\n"
     ]
    }
   ],
   "source": [
    "dataset_py_list = list(range(10))\n",
    "print(dataset_py_list)"
   ]
  },
  {
   "cell_type": "markdown",
   "id": "85776205",
   "metadata": {},
   "source": [
    "### Understanding sliding window"
   ]
  },
  {
   "cell_type": "code",
   "execution_count": 5,
   "id": "93d885f3",
   "metadata": {},
   "outputs": [],
   "source": [
    "window_size = 5\n",
    "stride = 1"
   ]
  },
  {
   "cell_type": "code",
   "execution_count": 6,
   "id": "8c5db1fe",
   "metadata": {},
   "outputs": [
    {
     "name": "stdout",
     "output_type": "stream",
     "text": [
      "[0, 1, 2, 3, 4, 5, 6, 7, 8, 9]\n",
      "[1, 2, 3, 4, 5, 6, 7, 8, 9]\n",
      "[2, 3, 4, 5, 6, 7, 8, 9]\n",
      "[3, 4, 5, 6, 7, 8, 9]\n",
      "[4, 5, 6, 7, 8, 9]\n"
     ]
    }
   ],
   "source": [
    "\"\"\"\n",
    "This output is not exactly what we want when we scan the dataset using a window.\n",
    "Instead this gives a start_idx from where where we want to scan.\n",
    "The end should have been upto the window_size but we go upto the end of the dataset itself\n",
    "\"\"\"\n",
    "start = 0\n",
    "stop = len(dataset_py_list)-window_size\n",
    "step = stride\n",
    "\n",
    "for start_idx in range(start, stop, step):\n",
    "    print(dataset_py_list[start_idx:])  "
   ]
  },
  {
   "cell_type": "markdown",
   "id": "39707b02",
   "metadata": {},
   "source": [
    "**Expected Output:**\n",
    "\n",
    "```python\n",
    "\n",
    "[0, 1, 2, 3, 4, 5, 6, 7, 8, 9] ------> [0, 1, 2, 3, 4, 5, 6, 7, 8, 9]\n",
    "|-->\n",
    "\n",
    "[0, 1, 2, 3, 4, 5, 6, 7, 8, 9] ------> [1, 2, 3, 4, 5, 6, 7, 8, 9]\n",
    "    |-->\n",
    "\n",
    "[0, 1, 2, 3, 4, 5, 6, 7, 8, 9] ------> [2, 3, 4, 5, 6, 7, 8, 9]\n",
    "       |-->\n",
    "\n",
    "[0, 1, 2, 3, 4, 5, 6, 7, 8, 9] ------> [3, 4, 5, 6, 7, 8, 9]\n",
    "          |-->\n",
    "\n",
    "[0, 1, 2, 3, 4, 5, 6, 7, 8, 9] ------> [4, 5, 6, 7, 8, 9]\n",
    "             |-->\n",
    "\n",
    "```"
   ]
  },
  {
   "cell_type": "code",
   "execution_count": 7,
   "id": "ec78534d",
   "metadata": {},
   "outputs": [
    {
     "name": "stdout",
     "output_type": "stream",
     "text": [
      "[0, 1, 2, 3, 4]\n",
      "[1, 2, 3, 4, 5]\n",
      "[2, 3, 4, 5, 6]\n",
      "[3, 4, 5, 6, 7]\n",
      "[4, 5, 6, 7, 8]\n",
      "[5, 6, 7, 8, 9]\n",
      "[6, 7, 8, 9]\n",
      "[7, 8, 9]\n",
      "[8, 9]\n",
      "[9]\n"
     ]
    }
   ],
   "source": [
    "start = 0\n",
    "stop = len(dataset_py_list)\n",
    "step = stride\n",
    "\n",
    "for start_idx in range(start, stop, step):\n",
    "    end_idx = window_size+start_idx\n",
    "    print(dataset_py_list[start_idx:end_idx])"
   ]
  },
  {
   "cell_type": "markdown",
   "id": "587e8e8d",
   "metadata": {},
   "source": [
    "**Expected Output:**\n",
    "\n",
    "```python\n",
    "\n",
    "[0, 1, 2, 3, 4, 5, 6, 7, 8, 9] ------> [0, 1, 2, 3, 4]\n",
    " |___________|\n",
    "\n",
    "[0, 1, 2, 3, 4, 5, 6, 7, 8, 9] ------> [1, 2, 3, 4, 5]\n",
    "    |___________|\n",
    "\n",
    "[0, 1, 2, 3, 4, 5, 6, 7, 8, 9] ------> [2, 3, 4, 5, 6]\n",
    "       |___________|\n",
    "\n",
    "[0, 1, 2, 3, 4, 5, 6, 7, 8, 9] ------> [3, 4, 5, 6, 7]\n",
    "          |___________|\n",
    "\n",
    "[0, 1, 2, 3, 4, 5, 6, 7, 8, 9] ------> [4, 5, 6, 7, 8]\n",
    "             |___________|\n",
    "\n",
    "    \n",
    "[0, 1, 2, 3, 4, 5, 6, 7, 8, 9] ------> [5, 6, 7, 8, 9]\n",
    "                |___________|\n",
    "    \n",
    "\n",
    "[0, 1, 2, 3, 4, 5, 6, 7, 8, 9] ------> [6, 7, 8, 9]\n",
    "                   |________|-->\n",
    "    \n",
    "    \n",
    "[0, 1, 2, 3, 4, 5, 6, 7, 8, 9] ------> [7, 8, 9]\n",
    "                      |______|-->\n",
    "\n",
    "    \n",
    "[0, 1, 2, 3, 4, 5, 6, 7, 8, 9] ------> [8, 9]\n",
    "                         |__|-->\n",
    "    \n",
    "    \n",
    "[0, 1, 2, 3, 4, 5, 6, 7, 8, 9] ------> [9]\n",
    "                            ||-->\n",
    "    \n",
    "```"
   ]
  },
  {
   "cell_type": "code",
   "execution_count": 8,
   "id": "f49ff5de",
   "metadata": {},
   "outputs": [
    {
     "name": "stdout",
     "output_type": "stream",
     "text": [
      "[0, 1, 2, 3, 4]\n",
      "[1, 2, 3, 4, 5]\n",
      "[2, 3, 4, 5, 6]\n",
      "[3, 4, 5, 6, 7]\n",
      "[4, 5, 6, 7, 8]\n",
      "[5, 6, 7, 8, 9]\n"
     ]
    }
   ],
   "source": [
    "start = 0\n",
    "stop = len(dataset_py_list)-window_size+1\n",
    "step = stride\n",
    "\n",
    "for start_idx in range(start, stop, step):\n",
    "    end_idx = window_size+start_idx\n",
    "    print(dataset_py_list[start_idx:end_idx])    "
   ]
  },
  {
   "cell_type": "markdown",
   "id": "f37d7efd",
   "metadata": {},
   "source": [
    "**Expected Output:**\n",
    "\n",
    "```python\n",
    "\n",
    "[0, 1, 2, 3, 4, 5, 6, 7, 8, 9] ------> [0, 1, 2, 3, 4]\n",
    " |___________|\n",
    "\n",
    "[0, 1, 2, 3, 4, 5, 6, 7, 8, 9] ------> [1, 2, 3, 4, 5]\n",
    "    |___________|\n",
    "\n",
    "[0, 1, 2, 3, 4, 5, 6, 7, 8, 9] ------> [2, 3, 4, 5, 6]\n",
    "       |___________|\n",
    "\n",
    "[0, 1, 2, 3, 4, 5, 6, 7, 8, 9] ------> [3, 4, 5, 6, 7]\n",
    "          |___________|\n",
    "\n",
    "[0, 1, 2, 3, 4, 5, 6, 7, 8, 9] ------> [4, 5, 6, 7, 8]\n",
    "             |___________|\n",
    "    \n",
    "[0, 1, 2, 3, 4, 5, 6, 7, 8, 9] ------> [5, 6, 7, 8, 9]\n",
    "                |___________|\n",
    "    \n",
    "```"
   ]
  },
  {
   "cell_type": "markdown",
   "id": "64e118fe",
   "metadata": {},
   "source": [
    "### Creating same output using Tensorflow"
   ]
  },
  {
   "cell_type": "code",
   "execution_count": 9,
   "id": "5e4a43ec",
   "metadata": {},
   "outputs": [
    {
     "name": "stdout",
     "output_type": "stream",
     "text": [
      "[0, 1, 2, 3, 4]\n",
      "[1, 2, 3, 4, 5]\n",
      "[2, 3, 4, 5, 6]\n",
      "[3, 4, 5, 6, 7]\n",
      "[4, 5, 6, 7, 8]\n",
      "[5, 6, 7, 8, 9]\n",
      "[6, 7, 8, 9]\n",
      "[7, 8, 9]\n",
      "[8, 9]\n",
      "[9]\n"
     ]
    },
    {
     "name": "stderr",
     "output_type": "stream",
     "text": [
      "2022-05-08 16:34:02.189018: W tensorflow/core/framework/dataset.cc:768] Input of Window will not be optimized because the dataset does not implement the AsGraphDefInternal() method needed to apply optimizations.\n"
     ]
    }
   ],
   "source": [
    "dataset = tf.data.Dataset.range(10)\n",
    "\n",
    "dataset = dataset.window(size=window_size, shift=stride)\n",
    "\n",
    "for window_ds in dataset:\n",
    "    print([item.numpy() for item in window_ds])"
   ]
  },
  {
   "cell_type": "code",
   "execution_count": 10,
   "id": "9a0b751b",
   "metadata": {},
   "outputs": [
    {
     "name": "stdout",
     "output_type": "stream",
     "text": [
      "[0, 1, 2, 3, 4]\n",
      "[1, 2, 3, 4, 5]\n",
      "[2, 3, 4, 5, 6]\n",
      "[3, 4, 5, 6, 7]\n",
      "[4, 5, 6, 7, 8]\n",
      "[5, 6, 7, 8, 9]\n"
     ]
    }
   ],
   "source": [
    "dataset = tf.data.Dataset.range(10)\n",
    "\n",
    "dataset = dataset.window(size=window_size, shift=stride, drop_remainder=True)\n",
    "\n",
    "for window_ds in dataset:\n",
    "    print([item.numpy() for item in window_ds])"
   ]
  },
  {
   "cell_type": "code",
   "execution_count": 11,
   "id": "94e30155",
   "metadata": {},
   "outputs": [
    {
     "name": "stdout",
     "output_type": "stream",
     "text": [
      "[0 1 2 3 4]\n",
      "[1 2 3 4 5]\n",
      "[2 3 4 5 6]\n",
      "[3 4 5 6 7]\n",
      "[4 5 6 7 8]\n",
      "[5 6 7 8 9]\n"
     ]
    }
   ],
   "source": [
    "dataset = tf.data.Dataset.range(10)\n",
    "\n",
    "dataset = dataset.window(size=window_size, shift=stride, drop_remainder=True)\n",
    "\n",
    "dataset = dataset.flat_map(lambda window: window.batch(5))\n",
    "\n",
    "for window_ds in dataset:\n",
    "    print(window_ds.numpy())"
   ]
  },
  {
   "cell_type": "code",
   "execution_count": 12,
   "id": "8d4fe026",
   "metadata": {},
   "outputs": [
    {
     "name": "stdout",
     "output_type": "stream",
     "text": [
      "[0 1 2 3] 4\n",
      "[1 2 3 4] 5\n",
      "[2 3 4 5] 6\n",
      "[3 4 5 6] 7\n",
      "[4 5 6 7] 8\n",
      "[5 6 7 8] 9\n"
     ]
    }
   ],
   "source": [
    "dataset = tf.data.Dataset.range(10)\n",
    "\n",
    "dataset = dataset.window(size=window_size, shift=stride, drop_remainder=True)\n",
    "\n",
    "dataset = dataset.flat_map(lambda window: window.batch(5))\n",
    "\n",
    "dataset = dataset.map(lambda window:(window[:-1], window[-1]))\n",
    "\n",
    "for x, y in dataset:\n",
    "    print(x.numpy(), y.numpy())"
   ]
  },
  {
   "cell_type": "code",
   "execution_count": 13,
   "id": "c1dc8dc9",
   "metadata": {},
   "outputs": [
    {
     "name": "stdout",
     "output_type": "stream",
     "text": [
      "x =  [[3 4 5 6]\n",
      " [1 2 3 4]]\n",
      "y =  [7 5]\n",
      "\n",
      "x =  [[0 1 2 3]\n",
      " [5 6 7 8]]\n",
      "y =  [4 9]\n",
      "\n",
      "x =  [[2 3 4 5]\n",
      " [4 5 6 7]]\n",
      "y =  [6 8]\n",
      "\n"
     ]
    }
   ],
   "source": [
    "dataset = tf.data.Dataset.range(10)\n",
    "\n",
    "dataset = dataset.window(size=window_size, shift=stride, drop_remainder=True)\n",
    "\n",
    "dataset = dataset.flat_map(lambda window: window.batch(5))\n",
    "\n",
    "dataset = dataset.map(lambda window:(window[:-1], window[-1]))\n",
    "\n",
    "dataset = dataset.shuffle(buffer_size=10)\n",
    "\n",
    "dataset = dataset.batch(2).prefetch(1)\n",
    "\n",
    "# Print the results\n",
    "for x,y in dataset:\n",
    "  print(\"x = \", x.numpy())\n",
    "  print(\"y = \", y.numpy())\n",
    "  print()\n"
   ]
  },
  {
   "cell_type": "code",
   "execution_count": null,
   "id": "dbed21c7",
   "metadata": {},
   "outputs": [],
   "source": []
  }
 ],
 "metadata": {
  "kernelspec": {
   "display_name": "Python 3 (ipykernel)",
   "language": "python",
   "name": "python3"
  },
  "language_info": {
   "codemirror_mode": {
    "name": "ipython",
    "version": 3
   },
   "file_extension": ".py",
   "mimetype": "text/x-python",
   "name": "python",
   "nbconvert_exporter": "python",
   "pygments_lexer": "ipython3",
   "version": "3.8.10"
  }
 },
 "nbformat": 4,
 "nbformat_minor": 5
}
