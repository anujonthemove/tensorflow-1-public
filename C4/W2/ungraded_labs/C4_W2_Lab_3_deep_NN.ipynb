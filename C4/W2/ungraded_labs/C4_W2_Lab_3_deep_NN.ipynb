{
 "cells": [
  {
   "cell_type": "markdown",
   "metadata": {},
   "source": [
    "<a href=\"https://colab.research.google.com/github/https-deeplearning-ai/tensorflow-1-public/blob/main/C4/W2/ungraded_labs/C4_W2_Lab_3_deep_NN.ipynb\" target=\"_parent\"><img src=\"https://colab.research.google.com/assets/colab-badge.svg\" alt=\"Open In Colab\"/></a>"
   ]
  },
  {
   "cell_type": "markdown",
   "metadata": {
    "id": "dxFGlX1S53mg"
   },
   "source": [
    "# Ungraded Lab: Training a Deep Neural Network with Time Series Data\n",
    "\n",
    "In this lab, you will build upon the previous exercise and add more dense layers to your network. You will also look at a technique to tune the model's learning rate to make the weights converge faster. This is a useful tip so you can avoid guessing the learning rate before training.\n",
    "\n",
    "The initial steps will be identical to the previous lab so you can run the next cells until the `Build the Model` section. That's where the discussions begin."
   ]
  },
  {
   "cell_type": "markdown",
   "metadata": {
    "id": "w5S4XCUZ6GH7"
   },
   "source": [
    "## Imports"
   ]
  },
  {
   "cell_type": "code",
   "execution_count": 1,
   "metadata": {
    "id": "BOjujz601HcS"
   },
   "outputs": [],
   "source": [
    "import tensorflow as tf\n",
    "import numpy as np\n",
    "import matplotlib.pyplot as plt"
   ]
  },
  {
   "cell_type": "code",
   "execution_count": 2,
   "metadata": {},
   "outputs": [
    {
     "name": "stderr",
     "output_type": "stream",
     "text": [
      "2022-05-08 18:19:47.800973: I tensorflow/core/platform/cpu_feature_guard.cc:151] This TensorFlow binary is optimized with oneAPI Deep Neural Network Library (oneDNN) to use the following CPU instructions in performance-critical operations:  AVX2 AVX512F FMA\n",
      "To enable them in other operations, rebuild TensorFlow with the appropriate compiler flags.\n",
      "2022-05-08 18:19:47.860826: I tensorflow/stream_executor/cuda/cuda_gpu_executor.cc:936] successful NUMA node read from SysFS had negative value (-1), but there must be at least one NUMA node, so returning NUMA node zero\n",
      "2022-05-08 18:19:47.889268: I tensorflow/stream_executor/cuda/cuda_gpu_executor.cc:936] successful NUMA node read from SysFS had negative value (-1), but there must be at least one NUMA node, so returning NUMA node zero\n",
      "2022-05-08 18:19:47.889664: I tensorflow/stream_executor/cuda/cuda_gpu_executor.cc:936] successful NUMA node read from SysFS had negative value (-1), but there must be at least one NUMA node, so returning NUMA node zero\n"
     ]
    },
    {
     "name": "stdout",
     "output_type": "stream",
     "text": [
      "== TensorFlow Config options set ==\n",
      "\n",
      "This process will now utilize 0.9 GPU Memeory Fraction\n"
     ]
    },
    {
     "name": "stderr",
     "output_type": "stream",
     "text": [
      "2022-05-08 18:19:48.196437: I tensorflow/stream_executor/cuda/cuda_gpu_executor.cc:936] successful NUMA node read from SysFS had negative value (-1), but there must be at least one NUMA node, so returning NUMA node zero\n",
      "2022-05-08 18:19:48.196837: I tensorflow/stream_executor/cuda/cuda_gpu_executor.cc:936] successful NUMA node read from SysFS had negative value (-1), but there must be at least one NUMA node, so returning NUMA node zero\n",
      "2022-05-08 18:19:48.197166: I tensorflow/stream_executor/cuda/cuda_gpu_executor.cc:936] successful NUMA node read from SysFS had negative value (-1), but there must be at least one NUMA node, so returning NUMA node zero\n",
      "2022-05-08 18:19:48.197486: I tensorflow/core/common_runtime/gpu/gpu_device.cc:1525] Created device /job:localhost/replica:0/task:0/device:GPU:0 with 7184 MB memory:  -> device: 0, name: NVIDIA GeForce RTX 3070 Laptop GPU, pci bus id: 0000:01:00.0, compute capability: 8.6\n"
     ]
    }
   ],
   "source": [
    "import tensorflow as tf\n",
    "\n",
    "def set_tensorflow_config(per_process_gpu_memory_fraction=0.9):\n",
    "    config = tf.compat.v1.ConfigProto()\n",
    "    # config = tf.ConfigProto()\n",
    "    config.gpu_options.per_process_gpu_memory_fraction = per_process_gpu_memory_fraction\n",
    "    config.gpu_options.allow_growth=True\n",
    "    # sess = tf.Session(config=config)\n",
    "    sess = tf.compat.v1.Session(config=config)\n",
    "    print(\"== TensorFlow Config options set ==\")\n",
    "    print(\"\\nThis process will now utilize {} GPU Memeory Fraction\".format(per_process_gpu_memory_fraction))\n",
    "\n",
    "set_tensorflow_config()"
   ]
  },
  {
   "cell_type": "markdown",
   "metadata": {
    "id": "tjC8TSkp6IiH"
   },
   "source": [
    "## Utilities"
   ]
  },
  {
   "cell_type": "code",
   "execution_count": 3,
   "metadata": {
    "id": "Zswl7jRtGzkk"
   },
   "outputs": [],
   "source": [
    "def plot_series(time, series, format=\"-\", start=0, end=None):\n",
    "    \"\"\"\n",
    "    Visualizes time series data\n",
    "\n",
    "    Args:\n",
    "      time (array of int) - contains the time steps\n",
    "      series (array of int) - contains the measurements for each time step\n",
    "      format - line style when plotting the graph\n",
    "      label - tag for the line\n",
    "      start - first time step to plot\n",
    "      end - last time step to plot\n",
    "    \"\"\"\n",
    "\n",
    "    # Setup dimensions of the graph figure\n",
    "    plt.figure(figsize=(10, 6))\n",
    "    \n",
    "    if type(series) is tuple:\n",
    "\n",
    "      for series_num in series:\n",
    "        # Plot the time series data\n",
    "        plt.plot(time[start:end], series_num[start:end], format)\n",
    "\n",
    "    else:\n",
    "      # Plot the time series data\n",
    "      plt.plot(time[start:end], series[start:end], format)\n",
    "\n",
    "    # Label the x-axis\n",
    "    plt.xlabel(\"Time\")\n",
    "\n",
    "    # Label the y-axis\n",
    "    plt.ylabel(\"Value\")\n",
    "\n",
    "    # Overlay a grid on the graph\n",
    "    plt.grid(True)\n",
    "\n",
    "    # Draw the graph on screen\n",
    "    plt.show()\n",
    "\n",
    "def trend(time, slope=0):\n",
    "    \"\"\"\n",
    "    Generates synthetic data that follows a straight line given a slope value.\n",
    "\n",
    "    Args:\n",
    "      time (array of int) - contains the time steps\n",
    "      slope (float) - determines the direction and steepness of the line\n",
    "\n",
    "    Returns:\n",
    "      series (array of float) - measurements that follow a straight line\n",
    "    \"\"\"\n",
    "\n",
    "    # Compute the linear series given the slope\n",
    "    series = slope * time\n",
    "\n",
    "    return series\n",
    "\n",
    "def seasonal_pattern(season_time):\n",
    "    \"\"\"\n",
    "    Just an arbitrary pattern, you can change it if you wish\n",
    "    \n",
    "    Args:\n",
    "      season_time (array of float) - contains the measurements per time step\n",
    "\n",
    "    Returns:\n",
    "      data_pattern (array of float) -  contains revised measurement values according \n",
    "                                  to the defined pattern\n",
    "    \"\"\"\n",
    "\n",
    "    # Generate the values using an arbitrary pattern\n",
    "    data_pattern = np.where(season_time < 0.4,\n",
    "                    np.cos(season_time * 2 * np.pi),\n",
    "                    1 / np.exp(3 * season_time))\n",
    "    \n",
    "    return data_pattern\n",
    "\n",
    "def seasonality(time, period, amplitude=1, phase=0):\n",
    "    \"\"\"\n",
    "    Repeats the same pattern at each period\n",
    "\n",
    "    Args:\n",
    "      time (array of int) - contains the time steps\n",
    "      period (int) - number of time steps before the pattern repeats\n",
    "      amplitude (int) - peak measured value in a period\n",
    "      phase (int) - number of time steps to shift the measured values\n",
    "\n",
    "    Returns:\n",
    "      data_pattern (array of float) - seasonal data scaled by the defined amplitude\n",
    "    \"\"\"\n",
    "    \n",
    "    # Define the measured values per period\n",
    "    season_time = ((time + phase) % period) / period\n",
    "\n",
    "    # Generates the seasonal data scaled by the defined amplitude\n",
    "    data_pattern = amplitude * seasonal_pattern(season_time)\n",
    "\n",
    "    return data_pattern\n",
    "\n",
    "def noise(time, noise_level=1, seed=None):\n",
    "    \"\"\"Generates a normally distributed noisy signal\n",
    "\n",
    "    Args:\n",
    "      time (array of int) - contains the time steps\n",
    "      noise_level (float) - scaling factor for the generated signal\n",
    "      seed (int) - number generator seed for repeatability\n",
    "\n",
    "    Returns:\n",
    "      noise (array of float) - the noisy signal\n",
    "    \"\"\"\n",
    "\n",
    "    # Initialize the random number generator\n",
    "    rnd = np.random.RandomState(seed)\n",
    "\n",
    "    # Generate a random number for each time step and scale by the noise level\n",
    "    noise = rnd.randn(len(time)) * noise_level\n",
    "    \n",
    "    return noise"
   ]
  },
  {
   "cell_type": "markdown",
   "metadata": {
    "id": "Z1CL6Bh86TS1"
   },
   "source": [
    "## Generate the Synthetic Data"
   ]
  },
  {
   "cell_type": "code",
   "execution_count": 4,
   "metadata": {
    "id": "5MFtI3X1FErU"
   },
   "outputs": [
    {
     "data": {
      "image/png": "[encoded data removed]",
      "text/plain": [
       "<Figure size 720x432 with 1 Axes>"
      ]
     },
     "metadata": {
      "needs_background": "light"
     },
     "output_type": "display_data"
    }
   ],
   "source": [
    "# Parameters\n",
    "time = np.arange(4 * 365 + 1, dtype=\"float32\")\n",
    "baseline = 10\n",
    "amplitude = 40\n",
    "slope = 0.05\n",
    "noise_level = 5\n",
    "\n",
    "# Create the series\n",
    "series = baseline + trend(time, slope) + seasonality(time, period=365, amplitude=amplitude)\n",
    "\n",
    "# Update with noise\n",
    "series += noise(time, noise_level, seed=42)\n",
    "\n",
    "# Plot the results\n",
    "plot_series(time, series)"
   ]
  },
  {
   "cell_type": "markdown",
   "metadata": {
    "id": "t2YvxWcI6lnB"
   },
   "source": [
    "## Split the Dataset"
   ]
  },
  {
   "cell_type": "code",
   "execution_count": 5,
   "metadata": {
    "id": "Db9kkYnOFKYr"
   },
   "outputs": [],
   "source": [
    "# Define the split time\n",
    "split_time = 1000\n",
    "\n",
    "# Get the train set \n",
    "time_train = time[:split_time]\n",
    "x_train = series[:split_time]\n",
    "\n",
    "# Get the validation set\n",
    "time_valid = time[split_time:]\n",
    "x_valid = series[split_time:]"
   ]
  },
  {
   "cell_type": "markdown",
   "metadata": {
    "id": "XH-0FgXN6zHA"
   },
   "source": [
    "## Prepare Features and Labels"
   ]
  },
  {
   "cell_type": "code",
   "execution_count": 6,
   "metadata": {
    "id": "AyBwNWO1FVTS"
   },
   "outputs": [],
   "source": [
    "# Parameters\n",
    "window_size = 20\n",
    "batch_size = 32\n",
    "shuffle_buffer_size = 1000"
   ]
  },
  {
   "cell_type": "code",
   "execution_count": 7,
   "metadata": {
    "id": "4sTTIOCbyShY"
   },
   "outputs": [],
   "source": [
    "def windowed_dataset(series, window_size, batch_size, shuffle_buffer):\n",
    "    \"\"\"Generates dataset windows\n",
    "\n",
    "    Args:\n",
    "      series (array of float) - contains the values of the time series\n",
    "      window_size (int) - the number of time steps to average\n",
    "      batch_size (int) - the batch size\n",
    "      shuffle_buffer(int) - buffer size to use for the shuffle method\n",
    "\n",
    "    Returns:\n",
    "      dataset (TF Dataset) - TF Dataset containing time windows\n",
    "    \"\"\"\n",
    "  \n",
    "    # Generate a TF Dataset from the series values\n",
    "    dataset = tf.data.Dataset.from_tensor_slices(series)\n",
    "    \n",
    "    # Window the data but only take those with the specified size\n",
    "    dataset = dataset.window(window_size + 1, shift=1, drop_remainder=True)\n",
    "    \n",
    "    # Flatten the windows by putting its elements in a single batch\n",
    "    dataset = dataset.flat_map(lambda window: window.batch(window_size + 1))\n",
    "\n",
    "    # Create tuples with features and labels \n",
    "    dataset = dataset.map(lambda window: (window[:-1], window[-1]))\n",
    "\n",
    "    # Shuffle the windows\n",
    "    dataset = dataset.shuffle(shuffle_buffer)\n",
    "    \n",
    "    # Create batches of windows\n",
    "    dataset = dataset.batch(batch_size).prefetch(1)\n",
    "    \n",
    "    return dataset"
   ]
  },
  {
   "cell_type": "code",
   "execution_count": 8,
   "metadata": {
    "id": "AdNN0s9qFnTg"
   },
   "outputs": [
    {
     "name": "stderr",
     "output_type": "stream",
     "text": [
      "2022-05-08 18:19:48.395713: I tensorflow/stream_executor/cuda/cuda_gpu_executor.cc:936] successful NUMA node read from SysFS had negative value (-1), but there must be at least one NUMA node, so returning NUMA node zero\n",
      "2022-05-08 18:19:48.396108: I tensorflow/stream_executor/cuda/cuda_gpu_executor.cc:936] successful NUMA node read from SysFS had negative value (-1), but there must be at least one NUMA node, so returning NUMA node zero\n",
      "2022-05-08 18:19:48.396421: I tensorflow/stream_executor/cuda/cuda_gpu_executor.cc:936] successful NUMA node read from SysFS had negative value (-1), but there must be at least one NUMA node, so returning NUMA node zero\n",
      "2022-05-08 18:19:48.396912: I tensorflow/stream_executor/cuda/cuda_gpu_executor.cc:936] successful NUMA node read from SysFS had negative value (-1), but there must be at least one NUMA node, so returning NUMA node zero\n",
      "2022-05-08 18:19:48.397227: I tensorflow/stream_executor/cuda/cuda_gpu_executor.cc:936] successful NUMA node read from SysFS had negative value (-1), but there must be at least one NUMA node, so returning NUMA node zero\n",
      "2022-05-08 18:19:48.397519: I tensorflow/stream_executor/cuda/cuda_gpu_executor.cc:936] successful NUMA node read from SysFS had negative value (-1), but there must be at least one NUMA node, so returning NUMA node zero\n",
      "2022-05-08 18:19:48.397855: I tensorflow/stream_executor/cuda/cuda_gpu_executor.cc:936] successful NUMA node read from SysFS had negative value (-1), but there must be at least one NUMA node, so returning NUMA node zero\n",
      "2022-05-08 18:19:48.398153: I tensorflow/stream_executor/cuda/cuda_gpu_executor.cc:936] successful NUMA node read from SysFS had negative value (-1), but there must be at least one NUMA node, so returning NUMA node zero\n",
      "2022-05-08 18:19:48.398453: I tensorflow/core/common_runtime/gpu/gpu_device.cc:1525] Created device /job:localhost/replica:0/task:0/device:GPU:0 with 7184 MB memory:  -> device: 0, name: NVIDIA GeForce RTX 3070 Laptop GPU, pci bus id: 0000:01:00.0, compute capability: 8.6\n"
     ]
    }
   ],
   "source": [
    "# Generate the dataset windows\n",
    "dataset = windowed_dataset(x_train, window_size, batch_size, shuffle_buffer_size)"
   ]
  },
  {
   "cell_type": "markdown",
   "metadata": {
    "id": "ths8EcjQ7CG3"
   },
   "source": [
    "## Build the Model\n",
    "\n",
    "You will use three dense layers in this exercise as shown below. As expected, the number of trainable parameters will increase and the model summary shows that it is more than tenfold of the previous lab."
   ]
  },
  {
   "cell_type": "code",
   "execution_count": 9,
   "metadata": {
    "id": "TW-vT7eLYAdb"
   },
   "outputs": [
    {
     "name": "stdout",
     "output_type": "stream",
     "text": [
      "Model: \"sequential\"\n",
      "_________________________________________________________________\n",
      " Layer (type)                Output Shape              Param #   \n",
      "=================================================================\n",
      " dense (Dense)               (None, 10)                210       \n",
      "                                                                 \n",
      " dense_1 (Dense)             (None, 10)                110       \n",
      "                                                                 \n",
      " dense_2 (Dense)             (None, 1)                 11        \n",
      "                                                                 \n",
      "=================================================================\n",
      "Total params: 331\n",
      "Trainable params: 331\n",
      "Non-trainable params: 0\n",
      "_________________________________________________________________\n"
     ]
    }
   ],
   "source": [
    "# Build the model\n",
    "model_baseline = tf.keras.models.Sequential([\n",
    "    tf.keras.layers.Dense(10, input_shape=[window_size], activation=\"relu\"), \n",
    "    tf.keras.layers.Dense(10, activation=\"relu\"), \n",
    "    tf.keras.layers.Dense(1)\n",
    "])\n",
    "\n",
    "# Print the model summary\n",
    "model_baseline.summary()"
   ]
  },
  {
   "cell_type": "markdown",
   "metadata": {
    "id": "4xWDKTGR7XQd"
   },
   "source": [
    "## Train the Model\n",
    "\n",
    "You will then compile and train the model using the same settings as before. Observe how the loss is decreasing because you will revisit it later in this lab."
   ]
  },
  {
   "cell_type": "code",
   "execution_count": 10,
   "metadata": {
    "id": "unwiKhWn7nqS"
   },
   "outputs": [],
   "source": [
    "# Set the training parameters\n",
    "model_baseline.compile(loss=\"mse\", optimizer=tf.keras.optimizers.SGD(learning_rate=1e-6, momentum=0.9))"
   ]
  },
  {
   "cell_type": "code",
   "execution_count": 11,
   "metadata": {
    "id": "zqVlvuneFqJz"
   },
   "outputs": [
    {
     "name": "stdout",
     "output_type": "stream",
     "text": [
      "Epoch 1/100\n",
      "31/31 [==============================] - 1s 5ms/step - loss: 137.3058\n",
      "Epoch 2/100\n",
      " 1/31 [..............................] - ETA: 1s - loss: 46.6730"
     ]
    },
    {
     "name": "stderr",
     "output_type": "stream",
     "text": [
      "2022-05-08 18:19:49.254115: I tensorflow/stream_executor/cuda/cuda_blas.cc:1786] TensorFloat-32 will be used for the matrix multiplication. This will only be logged once.\n"
     ]
    },
    {
     "name": "stdout",
     "output_type": "stream",
     "text": [
      "31/31 [==============================] - 0s 824us/step - loss: 76.0210\n",
      "Epoch 3/100\n",
      "31/31 [==============================] - 0s 804us/step - loss: 71.9407\n",
      "Epoch 4/100\n",
      "31/31 [==============================] - 0s 833us/step - loss: 70.7964\n",
      "Epoch 5/100\n",
      "31/31 [==============================] - 0s 835us/step - loss: 68.2219\n",
      "Epoch 6/100\n",
      "31/31 [==============================] - 0s 760us/step - loss: 66.6145\n",
      "Epoch 7/100\n",
      "31/31 [==============================] - 0s 787us/step - loss: 65.3318\n",
      "Epoch 8/100\n",
      "31/31 [==============================] - 0s 799us/step - loss: 65.0743\n",
      "Epoch 9/100\n",
      "31/31 [==============================] - 0s 795us/step - loss: 64.0639\n",
      "Epoch 10/100\n",
      "31/31 [==============================] - 0s 833us/step - loss: 62.7283\n",
      "Epoch 11/100\n",
      "31/31 [==============================] - 0s 823us/step - loss: 62.6659\n",
      "Epoch 12/100\n",
      "31/31 [==============================] - 0s 826us/step - loss: 61.1019\n",
      "Epoch 13/100\n",
      "31/31 [==============================] - 0s 800us/step - loss: 61.3518\n",
      "Epoch 14/100\n",
      "31/31 [==============================] - 0s 792us/step - loss: 62.9149\n",
      "Epoch 15/100\n",
      "31/31 [==============================] - 0s 799us/step - loss: 60.0432\n",
      "Epoch 16/100\n",
      "31/31 [==============================] - 0s 784us/step - loss: 59.0003\n",
      "Epoch 17/100\n",
      "31/31 [==============================] - 0s 791us/step - loss: 57.8783\n",
      "Epoch 18/100\n",
      "31/31 [==============================] - 0s 804us/step - loss: 57.3684\n",
      "Epoch 19/100\n",
      "31/31 [==============================] - 0s 893us/step - loss: 59.2310\n",
      "Epoch 20/100\n",
      "31/31 [==============================] - 0s 803us/step - loss: 57.1018\n",
      "Epoch 21/100\n",
      "31/31 [==============================] - 0s 815us/step - loss: 57.1725\n",
      "Epoch 22/100\n",
      "31/31 [==============================] - 0s 822us/step - loss: 56.3319\n",
      "Epoch 23/100\n",
      "31/31 [==============================] - 0s 798us/step - loss: 57.2351\n",
      "Epoch 24/100\n",
      "31/31 [==============================] - 0s 771us/step - loss: 55.7447\n",
      "Epoch 25/100\n",
      "31/31 [==============================] - 0s 788us/step - loss: 54.6507\n",
      "Epoch 26/100\n",
      "31/31 [==============================] - 0s 802us/step - loss: 54.9174\n",
      "Epoch 27/100\n",
      "31/31 [==============================] - 0s 821us/step - loss: 54.4891\n",
      "Epoch 28/100\n",
      "31/31 [==============================] - 0s 826us/step - loss: 54.7621\n",
      "Epoch 29/100\n",
      "31/31 [==============================] - 0s 804us/step - loss: 54.1159\n",
      "Epoch 30/100\n",
      "31/31 [==============================] - 0s 809us/step - loss: 53.5853\n",
      "Epoch 31/100\n",
      "31/31 [==============================] - 0s 799us/step - loss: 53.0013\n",
      "Epoch 32/100\n",
      "31/31 [==============================] - 0s 835us/step - loss: 52.9023\n",
      "Epoch 33/100\n",
      "31/31 [==============================] - 0s 817us/step - loss: 52.3519\n",
      "Epoch 34/100\n",
      "31/31 [==============================] - 0s 818us/step - loss: 52.0293\n",
      "Epoch 35/100\n",
      "31/31 [==============================] - 0s 843us/step - loss: 52.0437\n",
      "Epoch 36/100\n",
      "31/31 [==============================] - 0s 817us/step - loss: 51.4912\n",
      "Epoch 37/100\n",
      "31/31 [==============================] - 0s 840us/step - loss: 51.5401\n",
      "Epoch 38/100\n",
      "31/31 [==============================] - 0s 840us/step - loss: 51.7881\n",
      "Epoch 39/100\n",
      "31/31 [==============================] - 0s 795us/step - loss: 50.8888\n",
      "Epoch 40/100\n",
      "31/31 [==============================] - 0s 817us/step - loss: 51.4140\n",
      "Epoch 41/100\n",
      "31/31 [==============================] - 0s 805us/step - loss: 50.9152\n",
      "Epoch 42/100\n",
      "31/31 [==============================] - 0s 847us/step - loss: 50.3547\n",
      "Epoch 43/100\n",
      "31/31 [==============================] - 0s 805us/step - loss: 50.0530\n",
      "Epoch 44/100\n",
      "31/31 [==============================] - 0s 790us/step - loss: 50.1429\n",
      "Epoch 45/100\n",
      "31/31 [==============================] - 0s 836us/step - loss: 50.1136\n",
      "Epoch 46/100\n",
      "31/31 [==============================] - 0s 819us/step - loss: 52.1301\n",
      "Epoch 47/100\n",
      "31/31 [==============================] - 0s 778us/step - loss: 50.9067\n",
      "Epoch 48/100\n",
      "31/31 [==============================] - 0s 799us/step - loss: 50.0486\n",
      "Epoch 49/100\n",
      "31/31 [==============================] - 0s 804us/step - loss: 50.2215\n",
      "Epoch 50/100\n",
      "31/31 [==============================] - 0s 929us/step - loss: 48.9820\n",
      "Epoch 51/100\n",
      "31/31 [==============================] - 0s 819us/step - loss: 50.2770\n",
      "Epoch 52/100\n",
      "31/31 [==============================] - 0s 859us/step - loss: 50.0186\n",
      "Epoch 53/100\n",
      "31/31 [==============================] - 0s 850us/step - loss: 49.6051\n",
      "Epoch 54/100\n",
      "31/31 [==============================] - 0s 794us/step - loss: 48.6518\n",
      "Epoch 55/100\n",
      "31/31 [==============================] - 0s 815us/step - loss: 48.8448\n",
      "Epoch 56/100\n",
      "31/31 [==============================] - 0s 787us/step - loss: 48.1610\n",
      "Epoch 57/100\n",
      "31/31 [==============================] - 0s 778us/step - loss: 48.8052\n",
      "Epoch 58/100\n",
      "31/31 [==============================] - 0s 856us/step - loss: 49.6608\n",
      "Epoch 59/100\n",
      "31/31 [==============================] - 0s 795us/step - loss: 48.7925\n",
      "Epoch 60/100\n",
      "31/31 [==============================] - 0s 781us/step - loss: 48.5757\n",
      "Epoch 61/100\n",
      "31/31 [==============================] - 0s 786us/step - loss: 47.8598\n",
      "Epoch 62/100\n",
      "31/31 [==============================] - 0s 801us/step - loss: 47.5928\n",
      "Epoch 63/100\n",
      "31/31 [==============================] - 0s 782us/step - loss: 48.1701\n",
      "Epoch 64/100\n",
      "31/31 [==============================] - 0s 769us/step - loss: 47.9909\n",
      "Epoch 65/100\n",
      "31/31 [==============================] - 0s 803us/step - loss: 47.3527\n",
      "Epoch 66/100\n",
      "31/31 [==============================] - 0s 801us/step - loss: 47.2742\n",
      "Epoch 67/100\n",
      "31/31 [==============================] - 0s 836us/step - loss: 47.1359\n",
      "Epoch 68/100\n",
      "31/31 [==============================] - 0s 785us/step - loss: 47.4213\n",
      "Epoch 69/100\n",
      "31/31 [==============================] - 0s 866us/step - loss: 47.5412\n",
      "Epoch 70/100\n",
      "31/31 [==============================] - 0s 882us/step - loss: 47.3622\n",
      "Epoch 71/100\n",
      "31/31 [==============================] - 0s 768us/step - loss: 47.3093\n",
      "Epoch 72/100\n",
      "31/31 [==============================] - 0s 941us/step - loss: 46.5699\n",
      "Epoch 73/100\n",
      "31/31 [==============================] - 0s 823us/step - loss: 47.2458\n",
      "Epoch 74/100\n",
      "31/31 [==============================] - 0s 834us/step - loss: 46.7052\n",
      "Epoch 75/100\n",
      "31/31 [==============================] - 0s 815us/step - loss: 47.8154\n",
      "Epoch 76/100\n",
      "31/31 [==============================] - 0s 790us/step - loss: 46.6398\n",
      "Epoch 77/100\n",
      "31/31 [==============================] - 0s 790us/step - loss: 46.7637\n",
      "Epoch 78/100\n",
      "31/31 [==============================] - 0s 783us/step - loss: 47.2861\n",
      "Epoch 79/100\n",
      "31/31 [==============================] - 0s 815us/step - loss: 46.6427\n",
      "Epoch 80/100\n",
      "31/31 [==============================] - 0s 910us/step - loss: 46.1832\n",
      "Epoch 81/100\n",
      "31/31 [==============================] - 0s 811us/step - loss: 46.4182\n",
      "Epoch 82/100\n",
      "31/31 [==============================] - 0s 810us/step - loss: 46.6154\n",
      "Epoch 83/100\n",
      "31/31 [==============================] - 0s 796us/step - loss: 46.3837\n",
      "Epoch 84/100\n",
      "31/31 [==============================] - 0s 780us/step - loss: 46.3734\n",
      "Epoch 85/100\n",
      "31/31 [==============================] - 0s 820us/step - loss: 46.0484\n",
      "Epoch 86/100\n",
      "31/31 [==============================] - 0s 800us/step - loss: 45.6686\n",
      "Epoch 87/100\n",
      "31/31 [==============================] - 0s 802us/step - loss: 46.5978\n",
      "Epoch 88/100\n",
      "31/31 [==============================] - 0s 801us/step - loss: 45.5665\n",
      "Epoch 89/100\n",
      "31/31 [==============================] - 0s 817us/step - loss: 46.6018\n",
      "Epoch 90/100\n",
      "31/31 [==============================] - 0s 848us/step - loss: 46.0344\n",
      "Epoch 91/100\n",
      "31/31 [==============================] - 0s 817us/step - loss: 45.5315\n",
      "Epoch 92/100\n",
      "31/31 [==============================] - 0s 829us/step - loss: 45.8605\n",
      "Epoch 93/100\n",
      "31/31 [==============================] - 0s 775us/step - loss: 46.0783\n",
      "Epoch 94/100\n",
      "31/31 [==============================] - 0s 879us/step - loss: 45.1955\n",
      "Epoch 95/100\n",
      "31/31 [==============================] - 0s 770us/step - loss: 45.2277\n",
      "Epoch 96/100\n",
      "31/31 [==============================] - 0s 790us/step - loss: 45.5269\n",
      "Epoch 97/100\n",
      "31/31 [==============================] - 0s 794us/step - loss: 46.3641\n",
      "Epoch 98/100\n",
      "31/31 [==============================] - 0s 912us/step - loss: 45.6158\n",
      "Epoch 99/100\n"
     ]
    },
    {
     "name": "stdout",
     "output_type": "stream",
     "text": [
      "31/31 [==============================] - 0s 830us/step - loss: 45.3041\n",
      "Epoch 100/100\n",
      "31/31 [==============================] - 0s 852us/step - loss: 45.0414\n"
     ]
    },
    {
     "data": {
      "text/plain": [
       "<keras.callbacks.History at 0x7fe5a80e2430>"
      ]
     },
     "execution_count": 11,
     "metadata": {},
     "output_type": "execute_result"
    }
   ],
   "source": [
    "# Train the model\n",
    "model_baseline.fit(dataset,epochs=100)"
   ]
  },
  {
   "cell_type": "markdown",
   "metadata": {
    "id": "0-5QVzo1Tv-_"
   },
   "source": [
    "You can then get some predictions and visualize it as before. Since the network is deeper, the predictions might go slower so you may want to minimize unnecessary computations. \n",
    "\n",
    "In the previous lab, you might remember the model generating predictions using the entire `series` data. That resulted in 1,441 points in the `forecast` list then you sliced the 461 points that aligns with the validation set using `forecast = forecast[split_time - window_size:]`. \n",
    "\n",
    "You can make this process faster by just generating 461 points right from the start. That way, you don't waste time predicting points that will just be thrown away later. The code below will do just that. It will just get the points needed from the original `series` before calling the `predict()` method. With that, all predictions will align with the validation set already and the for-loop will run for only 461 times instead of 1,441. \n",
    "\n",
    "In the next lab, you'll see an even faster way to generate these predictions."
   ]
  },
  {
   "cell_type": "code",
   "execution_count": 12,
   "metadata": {
    "id": "efhco2rYyIFF"
   },
   "outputs": [
    {
     "data": {
      "image/png": "[encoded data removed]",
      "text/plain": [
       "<Figure size 720x432 with 1 Axes>"
      ]
     },
     "metadata": {
      "needs_background": "light"
     },
     "output_type": "display_data"
    }
   ],
   "source": [
    "# Initialize a list\n",
    "forecast = []\n",
    "\n",
    "# Reduce the original series\n",
    "forecast_series = series[split_time - window_size:]\n",
    "\n",
    "# Use the model to predict data points per window size\n",
    "for time in range(len(forecast_series) - window_size):\n",
    "  forecast.append(model_baseline.predict(forecast_series[time:time + window_size][np.newaxis]))\n",
    "\n",
    "# Convert to a numpy array and drop single dimensional axes\n",
    "results = np.array(forecast).squeeze()\n",
    "\n",
    "# Plot the results\n",
    "plot_series(time_valid, (x_valid, results))"
   ]
  },
  {
   "cell_type": "markdown",
   "metadata": {
    "id": "Lk5VkqNjh8Ws"
   },
   "source": [
    "You can then get the MSE and MAE for reference."
   ]
  },
  {
   "cell_type": "code",
   "execution_count": 13,
   "metadata": {
    "id": "-kT6j186YO6K"
   },
   "outputs": [
    {
     "name": "stdout",
     "output_type": "stream",
     "text": [
      "44.53943\n",
      "4.9213037\n"
     ]
    }
   ],
   "source": [
    "# Compute the metrics\n",
    "print(tf.keras.metrics.mean_squared_error(x_valid, results).numpy())\n",
    "print(tf.keras.metrics.mean_absolute_error(x_valid, results).numpy())"
   ]
  },
  {
   "cell_type": "markdown",
   "metadata": {
    "id": "tQB2gyq18YvD"
   },
   "source": [
    "## Tune the learning rate\n",
    "\n",
    "You saw that the training went well with the initial learning rate that you chose (i.e. `1e-6`). However, you're not yet sure if it is the best setting for this particular model. It might seem inconsequential in this simple model but when you have more complex ones, spending some time to tune the learning rate can lead to better training results. You will see how to do that in this section.\n",
    "\n",
    "First, you will build the same model architecture you just used."
   ]
  },
  {
   "cell_type": "code",
   "execution_count": 14,
   "metadata": {
    "id": "tnCe_nBKu7RB"
   },
   "outputs": [],
   "source": [
    "# Build the Model\n",
    "model_tune = tf.keras.models.Sequential([\n",
    "    tf.keras.layers.Dense(10, input_shape=[window_size], activation=\"relu\"), \n",
    "    tf.keras.layers.Dense(10, activation=\"relu\"), \n",
    "    tf.keras.layers.Dense(1)\n",
    "])"
   ]
  },
  {
   "cell_type": "markdown",
   "metadata": {
    "id": "CTSWS74Qj-G0"
   },
   "source": [
    "Next, you will declare a [learning rate scheduler](https://www.tensorflow.org/api_docs/python/tf/keras/callbacks/LearningRateScheduler) callback. This will allow you to dynamically set the learning rate based on the epoch number during training. As shown below, you will pass a lambda function to declare the value of the learning rate. It will start at `1e-8` at epoch 0 and is scaled by `10**(epoch / 20)` as the training goes on."
   ]
  },
  {
   "cell_type": "code",
   "execution_count": 15,
   "metadata": {
    "id": "6FDVah6-885n"
   },
   "outputs": [],
   "source": [
    "# Set the learning rate scheduler\n",
    "lr_schedule = tf.keras.callbacks.LearningRateScheduler(\n",
    "    lambda epoch: 1e-8 * 10**(epoch / 20))"
   ]
  },
  {
   "cell_type": "markdown",
   "metadata": {
    "id": "M4SJZxL1lqPX"
   },
   "source": [
    "You will then compile the model. Just to note a subtle difference with the lecture video, you don't have to set the `learning_rate` argument of the optimizer here before compiling. You can just leave the default (i.e. [`0.01` for SGD](https://www.tensorflow.org/api_docs/python/tf/keras/optimizers/SGD#args)) and allow the learning rate scheduler to set it dynamically."
   ]
  },
  {
   "cell_type": "code",
   "execution_count": 16,
   "metadata": {
    "id": "66MDQGRc9AKU"
   },
   "outputs": [],
   "source": [
    "# Initialize the optimizer\n",
    "optimizer = tf.keras.optimizers.SGD(momentum=0.9)\n",
    "\n",
    "# Set the training parameters\n",
    "model_tune.compile(loss=\"mse\", optimizer=optimizer)"
   ]
  },
  {
   "cell_type": "markdown",
   "metadata": {
    "id": "zMgbgBYzmXBi"
   },
   "source": [
    "You will pass in the `lr_schedule` callback in the `callbacks` parameter of the [`fit()`](https://www.tensorflow.org/api_docs/python/tf/keras/Model#fit) method. As you run the training below, you will see the learning rate at a particular epoch denoted by `lr` in the console output. Notice that it is increasing as expected based on the lambda function you used."
   ]
  },
  {
   "cell_type": "code",
   "execution_count": 17,
   "metadata": {
    "id": "Ef5o5DmQkuuy"
   },
   "outputs": [
    {
     "name": "stdout",
     "output_type": "stream",
     "text": [
      "Epoch 1/100\n",
      "31/31 [==============================] - 0s 1ms/step - loss: 17316.6387 - lr: 1.0000e-08\n",
      "Epoch 2/100\n",
      "31/31 [==============================] - 0s 893us/step - loss: 5832.6782 - lr: 1.1220e-08\n",
      "Epoch 3/100\n",
      "31/31 [==============================] - 0s 787us/step - loss: 2287.7664 - lr: 1.2589e-08\n",
      "Epoch 4/100\n",
      "31/31 [==============================] - 0s 769us/step - loss: 824.1949 - lr: 1.4125e-08\n",
      "Epoch 5/100\n",
      "31/31 [==============================] - 0s 805us/step - loss: 258.6353 - lr: 1.5849e-08\n",
      "Epoch 6/100\n",
      "31/31 [==============================] - 0s 756us/step - loss: 116.4104 - lr: 1.7783e-08\n",
      "Epoch 7/100\n",
      "31/31 [==============================] - 0s 765us/step - loss: 88.1604 - lr: 1.9953e-08\n",
      "Epoch 8/100\n",
      "31/31 [==============================] - 0s 758us/step - loss: 83.6162 - lr: 2.2387e-08\n",
      "Epoch 9/100\n",
      "31/31 [==============================] - 0s 771us/step - loss: 82.8233 - lr: 2.5119e-08\n",
      "Epoch 10/100\n",
      "31/31 [==============================] - 0s 785us/step - loss: 82.3074 - lr: 2.8184e-08\n",
      "Epoch 11/100\n",
      "31/31 [==============================] - 0s 802us/step - loss: 81.6046 - lr: 3.1623e-08\n",
      "Epoch 12/100\n",
      "31/31 [==============================] - 0s 789us/step - loss: 80.9233 - lr: 3.5481e-08\n",
      "Epoch 13/100\n",
      "31/31 [==============================] - 0s 761us/step - loss: 80.1420 - lr: 3.9811e-08\n",
      "Epoch 14/100\n",
      "31/31 [==============================] - 0s 754us/step - loss: 79.2621 - lr: 4.4668e-08\n",
      "Epoch 15/100\n",
      "31/31 [==============================] - 0s 806us/step - loss: 78.4347 - lr: 5.0119e-08\n",
      "Epoch 16/100\n",
      "31/31 [==============================] - 0s 785us/step - loss: 77.4468 - lr: 5.6234e-08\n",
      "Epoch 17/100\n",
      "31/31 [==============================] - 0s 753us/step - loss: 76.2834 - lr: 6.3096e-08\n",
      "Epoch 18/100\n",
      "31/31 [==============================] - 0s 743us/step - loss: 75.1736 - lr: 7.0795e-08\n",
      "Epoch 19/100\n",
      "31/31 [==============================] - 0s 792us/step - loss: 74.0751 - lr: 7.9433e-08\n",
      "Epoch 20/100\n",
      "31/31 [==============================] - 0s 773us/step - loss: 73.1472 - lr: 8.9125e-08\n",
      "Epoch 21/100\n",
      "31/31 [==============================] - 0s 763us/step - loss: 71.9380 - lr: 1.0000e-07\n",
      "Epoch 22/100\n",
      "31/31 [==============================] - 0s 808us/step - loss: 70.9151 - lr: 1.1220e-07\n",
      "Epoch 23/100\n",
      "31/31 [==============================] - 0s 769us/step - loss: 70.0015 - lr: 1.2589e-07\n",
      "Epoch 24/100\n",
      "31/31 [==============================] - 0s 829us/step - loss: 69.1695 - lr: 1.4125e-07\n",
      "Epoch 25/100\n",
      "31/31 [==============================] - 0s 764us/step - loss: 68.2303 - lr: 1.5849e-07\n",
      "Epoch 26/100\n",
      "31/31 [==============================] - 0s 767us/step - loss: 67.4194 - lr: 1.7783e-07\n",
      "Epoch 27/100\n",
      "31/31 [==============================] - 0s 760us/step - loss: 66.1938 - lr: 1.9953e-07\n",
      "Epoch 28/100\n",
      "31/31 [==============================] - 0s 779us/step - loss: 65.5705 - lr: 2.2387e-07\n",
      "Epoch 29/100\n",
      "31/31 [==============================] - 0s 796us/step - loss: 65.0406 - lr: 2.5119e-07\n",
      "Epoch 30/100\n",
      "31/31 [==============================] - 0s 804us/step - loss: 63.6253 - lr: 2.8184e-07\n",
      "Epoch 31/100\n",
      "31/31 [==============================] - 0s 899us/step - loss: 62.9917 - lr: 3.1623e-07\n",
      "Epoch 32/100\n",
      "31/31 [==============================] - 0s 823us/step - loss: 62.4399 - lr: 3.5481e-07\n",
      "Epoch 33/100\n",
      "31/31 [==============================] - 0s 942us/step - loss: 61.5542 - lr: 3.9811e-07\n",
      "Epoch 34/100\n",
      "31/31 [==============================] - 0s 814us/step - loss: 61.1743 - lr: 4.4668e-07\n",
      "Epoch 35/100\n",
      "31/31 [==============================] - 0s 861us/step - loss: 60.1198 - lr: 5.0119e-07\n",
      "Epoch 36/100\n",
      "31/31 [==============================] - 0s 800us/step - loss: 59.4265 - lr: 5.6234e-07\n",
      "Epoch 37/100\n",
      "31/31 [==============================] - 0s 821us/step - loss: 59.1105 - lr: 6.3096e-07\n",
      "Epoch 38/100\n",
      "31/31 [==============================] - 0s 800us/step - loss: 59.3541 - lr: 7.0795e-07\n",
      "Epoch 39/100\n",
      "31/31 [==============================] - 0s 820us/step - loss: 58.3216 - lr: 7.9433e-07\n",
      "Epoch 40/100\n",
      "31/31 [==============================] - 0s 769us/step - loss: 57.6243 - lr: 8.9125e-07\n",
      "Epoch 41/100\n",
      "31/31 [==============================] - 0s 740us/step - loss: 57.4736 - lr: 1.0000e-06\n",
      "Epoch 42/100\n",
      "31/31 [==============================] - 0s 763us/step - loss: 55.7284 - lr: 1.1220e-06\n",
      "Epoch 43/100\n",
      "31/31 [==============================] - 0s 765us/step - loss: 54.9827 - lr: 1.2589e-06\n",
      "Epoch 44/100\n",
      "31/31 [==============================] - 0s 752us/step - loss: 55.7945 - lr: 1.4125e-06\n",
      "Epoch 45/100\n",
      "31/31 [==============================] - 0s 785us/step - loss: 54.1209 - lr: 1.5849e-06\n",
      "Epoch 46/100\n",
      "31/31 [==============================] - 0s 829us/step - loss: 55.4212 - lr: 1.7783e-06\n",
      "Epoch 47/100\n",
      "31/31 [==============================] - 0s 834us/step - loss: 55.5433 - lr: 1.9953e-06\n",
      "Epoch 48/100\n",
      "31/31 [==============================] - 0s 782us/step - loss: 53.3414 - lr: 2.2387e-06\n",
      "Epoch 49/100\n",
      "31/31 [==============================] - 0s 767us/step - loss: 55.0302 - lr: 2.5119e-06\n",
      "Epoch 50/100\n",
      "31/31 [==============================] - 0s 773us/step - loss: 52.7210 - lr: 2.8184e-06\n",
      "Epoch 51/100\n",
      "31/31 [==============================] - 0s 772us/step - loss: 51.3286 - lr: 3.1623e-06\n",
      "Epoch 52/100\n",
      "31/31 [==============================] - 0s 768us/step - loss: 53.4409 - lr: 3.5481e-06\n",
      "Epoch 53/100\n",
      "31/31 [==============================] - 0s 775us/step - loss: 52.5648 - lr: 3.9811e-06\n",
      "Epoch 54/100\n",
      "31/31 [==============================] - 0s 764us/step - loss: 52.8417 - lr: 4.4668e-06\n",
      "Epoch 55/100\n",
      "31/31 [==============================] - 0s 747us/step - loss: 50.9658 - lr: 5.0119e-06\n",
      "Epoch 56/100\n",
      "31/31 [==============================] - 0s 797us/step - loss: 53.3326 - lr: 5.6234e-06\n",
      "Epoch 57/100\n",
      "31/31 [==============================] - 0s 738us/step - loss: 48.9966 - lr: 6.3096e-06\n",
      "Epoch 58/100\n",
      "31/31 [==============================] - 0s 755us/step - loss: 48.0702 - lr: 7.0795e-06\n",
      "Epoch 59/100\n",
      "31/31 [==============================] - 0s 753us/step - loss: 49.3246 - lr: 7.9433e-06\n",
      "Epoch 60/100\n",
      "31/31 [==============================] - 0s 754us/step - loss: 49.0744 - lr: 8.9125e-06\n",
      "Epoch 61/100\n",
      "31/31 [==============================] - 0s 769us/step - loss: 49.7588 - lr: 1.0000e-05\n",
      "Epoch 62/100\n",
      "31/31 [==============================] - 0s 789us/step - loss: 64.8688 - lr: 1.1220e-05\n",
      "Epoch 63/100\n",
      "31/31 [==============================] - 0s 796us/step - loss: 47.9938 - lr: 1.2589e-05\n",
      "Epoch 64/100\n",
      "31/31 [==============================] - 0s 807us/step - loss: 49.5872 - lr: 1.4125e-05\n",
      "Epoch 65/100\n",
      "31/31 [==============================] - 0s 846us/step - loss: 68.0238 - lr: 1.5849e-05\n",
      "Epoch 66/100\n",
      "31/31 [==============================] - 0s 818us/step - loss: 51.8173 - lr: 1.7783e-05\n",
      "Epoch 67/100\n",
      "31/31 [==============================] - 0s 771us/step - loss: 51.7634 - lr: 1.9953e-05\n",
      "Epoch 68/100\n",
      "31/31 [==============================] - 0s 851us/step - loss: 50.2627 - lr: 2.2387e-05\n",
      "Epoch 69/100\n",
      "31/31 [==============================] - 0s 796us/step - loss: 56.7851 - lr: 2.5119e-05\n",
      "Epoch 70/100\n",
      "31/31 [==============================] - 0s 810us/step - loss: 47.6436 - lr: 2.8184e-05\n",
      "Epoch 71/100\n",
      "31/31 [==============================] - 0s 809us/step - loss: 53.6582 - lr: 3.1623e-05\n",
      "Epoch 72/100\n",
      "31/31 [==============================] - 0s 812us/step - loss: 53.2524 - lr: 3.5481e-05\n",
      "Epoch 73/100\n",
      "31/31 [==============================] - 0s 800us/step - loss: 49.0107 - lr: 3.9811e-05\n",
      "Epoch 74/100\n",
      "31/31 [==============================] - 0s 862us/step - loss: 60.4593 - lr: 4.4668e-05\n",
      "Epoch 75/100\n",
      "31/31 [==============================] - 0s 778us/step - loss: 63.7518 - lr: 5.0119e-05\n",
      "Epoch 76/100\n",
      "31/31 [==============================] - 0s 778us/step - loss: 148.5347 - lr: 5.6234e-05\n",
      "Epoch 77/100\n",
      "31/31 [==============================] - 0s 757us/step - loss: 109.2103 - lr: 6.3096e-05\n",
      "Epoch 78/100\n",
      "31/31 [==============================] - 0s 798us/step - loss: 136.2826 - lr: 7.0795e-05\n",
      "Epoch 79/100\n",
      "31/31 [==============================] - 0s 786us/step - loss: 1063.9862 - lr: 7.9433e-05\n",
      "Epoch 80/100\n",
      "31/31 [==============================] - 0s 752us/step - loss: 2125.1941 - lr: 8.9125e-05\n",
      "Epoch 81/100\n",
      "31/31 [==============================] - 0s 755us/step - loss: 1638.2958 - lr: 1.0000e-04\n",
      "Epoch 82/100\n"
     ]
    },
    {
     "name": "stdout",
     "output_type": "stream",
     "text": [
      "31/31 [==============================] - 0s 776us/step - loss: 511.6506 - lr: 1.1220e-04\n",
      "Epoch 83/100\n",
      "31/31 [==============================] - 0s 773us/step - loss: 392.9398 - lr: 1.2589e-04\n",
      "Epoch 84/100\n",
      "31/31 [==============================] - 0s 773us/step - loss: 392.7976 - lr: 1.4125e-04\n",
      "Epoch 85/100\n",
      "31/31 [==============================] - 0s 785us/step - loss: 410.7997 - lr: 1.5849e-04\n",
      "Epoch 86/100\n",
      "31/31 [==============================] - 0s 799us/step - loss: 390.4885 - lr: 1.7783e-04\n",
      "Epoch 87/100\n",
      "31/31 [==============================] - 0s 735us/step - loss: 388.4509 - lr: 1.9953e-04\n",
      "Epoch 88/100\n",
      "31/31 [==============================] - 0s 727us/step - loss: 390.7476 - lr: 2.2387e-04\n",
      "Epoch 89/100\n",
      "31/31 [==============================] - 0s 738us/step - loss: 391.5821 - lr: 2.5119e-04\n",
      "Epoch 90/100\n",
      "31/31 [==============================] - 0s 776us/step - loss: 391.2448 - lr: 2.8184e-04\n",
      "Epoch 91/100\n",
      "31/31 [==============================] - 0s 760us/step - loss: 391.8926 - lr: 3.1623e-04\n",
      "Epoch 92/100\n",
      "31/31 [==============================] - 0s 787us/step - loss: 395.6755 - lr: 3.5481e-04\n",
      "Epoch 93/100\n",
      "31/31 [==============================] - 0s 781us/step - loss: 390.2952 - lr: 3.9811e-04\n",
      "Epoch 94/100\n",
      "31/31 [==============================] - 0s 801us/step - loss: 393.0498 - lr: 4.4668e-04\n",
      "Epoch 95/100\n",
      "31/31 [==============================] - 0s 760us/step - loss: 392.2746 - lr: 5.0119e-04\n",
      "Epoch 96/100\n",
      "31/31 [==============================] - 0s 765us/step - loss: 389.3896 - lr: 5.6234e-04\n",
      "Epoch 97/100\n",
      "31/31 [==============================] - 0s 758us/step - loss: 393.5233 - lr: 6.3096e-04\n",
      "Epoch 98/100\n",
      "31/31 [==============================] - 0s 805us/step - loss: 392.1669 - lr: 7.0795e-04\n",
      "Epoch 99/100\n",
      "31/31 [==============================] - 0s 780us/step - loss: 398.7323 - lr: 7.9433e-04\n",
      "Epoch 100/100\n",
      "31/31 [==============================] - 0s 753us/step - loss: 390.0575 - lr: 8.9125e-04\n"
     ]
    }
   ],
   "source": [
    "# Train the model\n",
    "history = model_tune.fit(dataset, epochs=100, callbacks=[lr_schedule])"
   ]
  },
  {
   "cell_type": "markdown",
   "metadata": {
    "id": "Sz9yLyRkkuet"
   },
   "source": [
    "Next step is to plot the results of the training. You will visualize the loss at each value of the learning rate."
   ]
  },
  {
   "cell_type": "code",
   "execution_count": 18,
   "metadata": {
    "id": "2ZaNsM2IgCd_"
   },
   "outputs": [
    {
     "data": {
      "text/plain": [
       "(1e-08, 0.001, 0.0, 300.0)"
      ]
     },
     "execution_count": 18,
     "metadata": {},
     "output_type": "execute_result"
    },
    {
     "data": {
      "image/png": "[encoded data removed]",
      "text/plain": [
       "<Figure size 720x432 with 1 Axes>"
      ]
     },
     "metadata": {
      "needs_background": "light"
     },
     "output_type": "display_data"
    }
   ],
   "source": [
    "# Define the learning rate array\n",
    "lrs = 1e-8 * (10 ** (np.arange(100) / 20))\n",
    "\n",
    "# Set the figure size\n",
    "plt.figure(figsize=(10, 6))\n",
    "\n",
    "# Set the grid\n",
    "plt.grid(True)\n",
    "\n",
    "# Plot the loss in log scale\n",
    "plt.semilogx(lrs, history.history[\"loss\"])\n",
    "\n",
    "# Increase the tickmarks size\n",
    "plt.tick_params('both', length=10, width=1, which='both')\n",
    "\n",
    "# Set the plot boundaries\n",
    "plt.axis([1e-8, 1e-3, 0, 300])"
   ]
  },
  {
   "cell_type": "code",
   "execution_count": 19,
   "metadata": {},
   "outputs": [],
   "source": [
    "# import pickle\n",
    "\n",
    "\n",
    "# with open('lrs.pickle', 'wb') as handle:\n",
    "#     pickle.dump(lrs, handle, protocol=pickle.HIGHEST_PROTOCOL)\n",
    "\n",
    "    \n",
    "# with open('history.pickle', 'wb') as handle:\n",
    "#     pickle.dump(history.history[\"loss\"], handle, protocol=pickle.HIGHEST_PROTOCOL)"
   ]
  },
  {
   "cell_type": "markdown",
   "metadata": {
    "id": "obCq2g0qn0GD"
   },
   "source": [
    "The generated graph above shows the values of the range of learning rates that leads to lower losses (i.e. sloping downward) and also which ones cause the training to become unstable (i.e. jagged edges and pointing upwards). In general, you will want to pick a point in a downward slope. That means the network is still learning at that point and is stable. Choosing close to the minimum point of the graph will make the training converge to that loss value quicker, as will be shown in the next cells.\n",
    "\n",
    "First, you will initialize the same model architecture again."
   ]
  },
  {
   "cell_type": "code",
   "execution_count": 20,
   "metadata": {
    "id": "F7vzeS6BKUb_"
   },
   "outputs": [],
   "source": [
    "# Build the model\n",
    "model_tune = tf.keras.models.Sequential([\n",
    "  tf.keras.layers.Dense(10, activation=\"relu\", input_shape=[window_size]),\n",
    "  tf.keras.layers.Dense(10, activation=\"relu\"),\n",
    "  tf.keras.layers.Dense(1)\n",
    "])"
   ]
  },
  {
   "cell_type": "markdown",
   "metadata": {
    "id": "9gjrVfgWp3ku"
   },
   "source": [
    "You will then set the optimizer with a learning rate close to the minimum. It is set to `4e-6` initially but feel free to change based on your results."
   ]
  },
  {
   "cell_type": "code",
   "execution_count": 21,
   "metadata": {
    "id": "nVHuxnXMKjja"
   },
   "outputs": [],
   "source": [
    "# Set the optimizer with the tuned learning rate\n",
    "optimizer = tf.keras.optimizers.SGD(learning_rate=4e-6, momentum=0.9)"
   ]
  },
  {
   "cell_type": "markdown",
   "metadata": {
    "id": "pyrhSDU5qPn6"
   },
   "source": [
    "You can then compile and train the model as before. Observe the loss values and compare it to the output of the baseline model you had before. Most likely, you will have met the final loss value of the `model_baseline` within the first 50 epochs of training this `model_tune`. You will also likely have a lower loss after all 100 epochs are done."
   ]
  },
  {
   "cell_type": "code",
   "execution_count": 22,
   "metadata": {
    "id": "rDNeYqqzqQ-s"
   },
   "outputs": [
    {
     "name": "stdout",
     "output_type": "stream",
     "text": [
      "Epoch 1/100\n",
      "31/31 [==============================] - 0s 1ms/step - loss: 255.7804\n",
      "Epoch 2/100\n",
      "31/31 [==============================] - 0s 738us/step - loss: 90.6141\n",
      "Epoch 3/100\n",
      "31/31 [==============================] - 0s 763us/step - loss: 81.4541\n",
      "Epoch 4/100\n",
      "31/31 [==============================] - 0s 755us/step - loss: 73.9354\n",
      "Epoch 5/100\n",
      "31/31 [==============================] - 0s 807us/step - loss: 69.2107\n",
      "Epoch 6/100\n",
      "31/31 [==============================] - 0s 759us/step - loss: 63.4619\n",
      "Epoch 7/100\n",
      "31/31 [==============================] - 0s 806us/step - loss: 61.6192\n",
      "Epoch 8/100\n",
      "31/31 [==============================] - 0s 777us/step - loss: 61.2110\n",
      "Epoch 9/100\n",
      "31/31 [==============================] - 0s 825us/step - loss: 57.1385\n",
      "Epoch 10/100\n",
      "31/31 [==============================] - 0s 863us/step - loss: 53.9768\n",
      "Epoch 11/100\n",
      "31/31 [==============================] - 0s 803us/step - loss: 53.8531\n",
      "Epoch 12/100\n",
      "31/31 [==============================] - 0s 814us/step - loss: 50.4757\n",
      "Epoch 13/100\n",
      "31/31 [==============================] - 0s 781us/step - loss: 50.5242\n",
      "Epoch 14/100\n",
      "31/31 [==============================] - 0s 838us/step - loss: 48.6034\n",
      "Epoch 15/100\n",
      "31/31 [==============================] - 0s 795us/step - loss: 47.4108\n",
      "Epoch 16/100\n",
      "31/31 [==============================] - 0s 825us/step - loss: 47.5400\n",
      "Epoch 17/100\n",
      "31/31 [==============================] - 0s 804us/step - loss: 47.7522\n",
      "Epoch 18/100\n",
      "31/31 [==============================] - 0s 803us/step - loss: 45.7799\n",
      "Epoch 19/100\n",
      "31/31 [==============================] - 0s 817us/step - loss: 45.5270\n",
      "Epoch 20/100\n",
      "31/31 [==============================] - 0s 790us/step - loss: 44.8805\n",
      "Epoch 21/100\n",
      "31/31 [==============================] - 0s 760us/step - loss: 45.1298\n",
      "Epoch 22/100\n",
      "31/31 [==============================] - 0s 849us/step - loss: 44.1122\n",
      "Epoch 23/100\n",
      "31/31 [==============================] - 0s 788us/step - loss: 44.3870\n",
      "Epoch 24/100\n",
      "31/31 [==============================] - 0s 756us/step - loss: 43.8670\n",
      "Epoch 25/100\n",
      "31/31 [==============================] - 0s 816us/step - loss: 44.3905\n",
      "Epoch 26/100\n",
      "31/31 [==============================] - 0s 769us/step - loss: 43.7301\n",
      "Epoch 27/100\n",
      "31/31 [==============================] - 0s 750us/step - loss: 45.3042\n",
      "Epoch 28/100\n",
      "31/31 [==============================] - 0s 780us/step - loss: 43.6791\n",
      "Epoch 29/100\n",
      "31/31 [==============================] - 0s 766us/step - loss: 42.7251\n",
      "Epoch 30/100\n",
      "31/31 [==============================] - 0s 740us/step - loss: 43.5051\n",
      "Epoch 31/100\n",
      "31/31 [==============================] - 0s 730us/step - loss: 44.1130\n",
      "Epoch 32/100\n",
      "31/31 [==============================] - 0s 844us/step - loss: 43.4855\n",
      "Epoch 33/100\n",
      "31/31 [==============================] - 0s 758us/step - loss: 43.6337\n",
      "Epoch 34/100\n",
      "31/31 [==============================] - 0s 783us/step - loss: 42.0865\n",
      "Epoch 35/100\n",
      "31/31 [==============================] - 0s 775us/step - loss: 42.9834\n",
      "Epoch 36/100\n",
      "31/31 [==============================] - 0s 785us/step - loss: 42.7178\n",
      "Epoch 37/100\n",
      "31/31 [==============================] - 0s 765us/step - loss: 41.8203\n",
      "Epoch 38/100\n",
      "31/31 [==============================] - 0s 789us/step - loss: 42.0940\n",
      "Epoch 39/100\n",
      "31/31 [==============================] - 0s 755us/step - loss: 41.3526\n",
      "Epoch 40/100\n",
      "31/31 [==============================] - 0s 734us/step - loss: 41.3974\n",
      "Epoch 41/100\n",
      "31/31 [==============================] - 0s 737us/step - loss: 41.6281\n",
      "Epoch 42/100\n",
      "31/31 [==============================] - 0s 740us/step - loss: 41.4980\n",
      "Epoch 43/100\n",
      "31/31 [==============================] - 0s 764us/step - loss: 44.5915\n",
      "Epoch 44/100\n",
      "31/31 [==============================] - 0s 784us/step - loss: 41.7544\n",
      "Epoch 45/100\n",
      "31/31 [==============================] - 0s 771us/step - loss: 40.8254\n",
      "Epoch 46/100\n",
      "31/31 [==============================] - 0s 759us/step - loss: 40.3615\n",
      "Epoch 47/100\n",
      "31/31 [==============================] - 0s 752us/step - loss: 40.3143\n",
      "Epoch 48/100\n",
      "31/31 [==============================] - 0s 763us/step - loss: 40.3236\n",
      "Epoch 49/100\n",
      "31/31 [==============================] - 0s 757us/step - loss: 40.5166\n",
      "Epoch 50/100\n",
      "31/31 [==============================] - 0s 793us/step - loss: 40.5384\n",
      "Epoch 51/100\n",
      "31/31 [==============================] - 0s 792us/step - loss: 40.2508\n",
      "Epoch 52/100\n",
      "31/31 [==============================] - 0s 732us/step - loss: 40.0387\n",
      "Epoch 53/100\n",
      "31/31 [==============================] - 0s 763us/step - loss: 40.4320\n",
      "Epoch 54/100\n",
      "31/31 [==============================] - 0s 762us/step - loss: 40.7412\n",
      "Epoch 55/100\n",
      "31/31 [==============================] - 0s 774us/step - loss: 41.5540\n",
      "Epoch 56/100\n",
      "31/31 [==============================] - 0s 747us/step - loss: 41.2127\n",
      "Epoch 57/100\n",
      "31/31 [==============================] - 0s 773us/step - loss: 40.7995\n",
      "Epoch 58/100\n",
      "31/31 [==============================] - 0s 816us/step - loss: 41.4242\n",
      "Epoch 59/100\n",
      "31/31 [==============================] - 0s 798us/step - loss: 40.1730\n",
      "Epoch 60/100\n",
      "31/31 [==============================] - 0s 738us/step - loss: 40.0178\n",
      "Epoch 61/100\n",
      "31/31 [==============================] - 0s 823us/step - loss: 40.6465\n",
      "Epoch 62/100\n",
      "31/31 [==============================] - 0s 745us/step - loss: 40.5290\n",
      "Epoch 63/100\n",
      "31/31 [==============================] - 0s 775us/step - loss: 40.8661\n",
      "Epoch 64/100\n",
      "31/31 [==============================] - 0s 780us/step - loss: 39.5428\n",
      "Epoch 65/100\n",
      "31/31 [==============================] - 0s 729us/step - loss: 40.1515\n",
      "Epoch 66/100\n",
      "31/31 [==============================] - 0s 740us/step - loss: 39.3731\n",
      "Epoch 67/100\n",
      "31/31 [==============================] - 0s 754us/step - loss: 39.5312\n",
      "Epoch 68/100\n",
      "31/31 [==============================] - 0s 801us/step - loss: 40.0172\n",
      "Epoch 69/100\n",
      "31/31 [==============================] - 0s 772us/step - loss: 40.8544\n",
      "Epoch 70/100\n",
      "31/31 [==============================] - 0s 777us/step - loss: 39.2664\n",
      "Epoch 71/100\n",
      "31/31 [==============================] - 0s 799us/step - loss: 40.0970\n",
      "Epoch 72/100\n",
      "31/31 [==============================] - 0s 734us/step - loss: 39.3426\n",
      "Epoch 73/100\n",
      "31/31 [==============================] - 0s 763us/step - loss: 39.5495\n",
      "Epoch 74/100\n",
      "31/31 [==============================] - 0s 741us/step - loss: 39.2919\n",
      "Epoch 75/100\n",
      "31/31 [==============================] - 0s 784us/step - loss: 39.0467\n",
      "Epoch 76/100\n",
      "31/31 [==============================] - 0s 840us/step - loss: 40.5608\n",
      "Epoch 77/100\n",
      "31/31 [==============================] - 0s 769us/step - loss: 39.0608\n",
      "Epoch 78/100\n",
      "31/31 [==============================] - 0s 771us/step - loss: 39.5149\n",
      "Epoch 79/100\n",
      "31/31 [==============================] - 0s 737us/step - loss: 40.2227\n",
      "Epoch 80/100\n",
      "31/31 [==============================] - 0s 759us/step - loss: 39.3597\n",
      "Epoch 81/100\n",
      "31/31 [==============================] - 0s 755us/step - loss: 39.3996\n",
      "Epoch 82/100\n",
      "31/31 [==============================] - 0s 747us/step - loss: 38.7257\n",
      "Epoch 83/100\n",
      "31/31 [==============================] - 0s 728us/step - loss: 39.3739\n",
      "Epoch 84/100\n",
      "31/31 [==============================] - 0s 851us/step - loss: 38.5725\n",
      "Epoch 85/100\n",
      "31/31 [==============================] - 0s 883us/step - loss: 39.7459\n",
      "Epoch 86/100\n",
      "31/31 [==============================] - 0s 772us/step - loss: 39.4393\n",
      "Epoch 87/100\n",
      "31/31 [==============================] - 0s 874us/step - loss: 40.3214\n",
      "Epoch 88/100\n",
      "31/31 [==============================] - 0s 802us/step - loss: 38.6282\n",
      "Epoch 89/100\n",
      "31/31 [==============================] - 0s 829us/step - loss: 38.5306\n",
      "Epoch 90/100\n",
      "31/31 [==============================] - 0s 803us/step - loss: 38.5310\n",
      "Epoch 91/100\n",
      "31/31 [==============================] - 0s 805us/step - loss: 38.8745\n",
      "Epoch 92/100\n",
      "31/31 [==============================] - 0s 791us/step - loss: 38.5818\n",
      "Epoch 93/100\n",
      "31/31 [==============================] - 0s 783us/step - loss: 39.9300\n",
      "Epoch 94/100\n",
      "31/31 [==============================] - 0s 782us/step - loss: 39.6499\n",
      "Epoch 95/100\n",
      "31/31 [==============================] - 0s 757us/step - loss: 39.9713\n",
      "Epoch 96/100\n",
      "31/31 [==============================] - 0s 768us/step - loss: 39.1864\n",
      "Epoch 97/100\n",
      "31/31 [==============================] - 0s 786us/step - loss: 40.4144\n",
      "Epoch 98/100\n"
     ]
    },
    {
     "name": "stdout",
     "output_type": "stream",
     "text": [
      "31/31 [==============================] - 0s 780us/step - loss: 38.7515\n",
      "Epoch 99/100\n",
      "31/31 [==============================] - 0s 802us/step - loss: 38.9337\n",
      "Epoch 100/100\n",
      "31/31 [==============================] - 0s 756us/step - loss: 38.9695\n"
     ]
    }
   ],
   "source": [
    "# Set the training parameters\n",
    "model_tune.compile(loss=\"mse\", optimizer=optimizer)\n",
    "\n",
    "# Train the model\n",
    "history = model_tune.fit(dataset, epochs=100)"
   ]
  },
  {
   "cell_type": "markdown",
   "metadata": {
    "id": "8W-zX3LCrZc2"
   },
   "source": [
    "You can plot the `loss` values by getting it from the [History](https://www.tensorflow.org/api_docs/python/tf/keras/callbacks/History) object returned by the `fit()` method. As you can see, the model is still trending downward after the training."
   ]
  },
  {
   "cell_type": "code",
   "execution_count": 23,
   "metadata": {
    "id": "iXBMO1HM9AHX"
   },
   "outputs": [
    {
     "data": {
      "image/png": "[encoded data removed]",
      "text/plain": [
       "<Figure size 432x288 with 1 Axes>"
      ]
     },
     "metadata": {
      "needs_background": "light"
     },
     "output_type": "display_data"
    }
   ],
   "source": [
    "# Plot the loss\n",
    "loss = history.history['loss']\n",
    "epochs = range(len(loss))\n",
    "plt.plot(epochs, loss, 'b', label='Training Loss')\n",
    "plt.show()"
   ]
  },
  {
   "cell_type": "code",
   "execution_count": 24,
   "metadata": {
    "id": "xakiRU7R7WAo"
   },
   "outputs": [
    {
     "data": {
      "image/png": "[encoded data removed]",
      "text/plain": [
       "<Figure size 432x288 with 1 Axes>"
      ]
     },
     "metadata": {
      "needs_background": "light"
     },
     "output_type": "display_data"
    }
   ],
   "source": [
    "# Plot all but the first 10\n",
    "loss = history.history['loss']\n",
    "epochs = range(10, len(loss))\n",
    "plot_loss = loss[10:]\n",
    "plt.plot(epochs, plot_loss, 'b', label='Training Loss')\n",
    "plt.show()"
   ]
  },
  {
   "cell_type": "markdown",
   "metadata": {
    "id": "XxDbVYFusI3O"
   },
   "source": [
    "You can get the preictions again and overlay it on the validation set."
   ]
  },
  {
   "cell_type": "code",
   "execution_count": 25,
   "metadata": {
    "id": "mIi2fTzPTJxe"
   },
   "outputs": [
    {
     "data": {
      "image/png": "[encoded data removed]",
      "text/plain": [
       "<Figure size 720x432 with 1 Axes>"
      ]
     },
     "metadata": {
      "needs_background": "light"
     },
     "output_type": "display_data"
    }
   ],
   "source": [
    "# Initialize a list\n",
    "forecast = []\n",
    "\n",
    "# Reduce the original series\n",
    "forecast_series = series[split_time - window_size:]\n",
    "\n",
    "# Use the model to predict data points per window size\n",
    "for time in range(len(forecast_series) - window_size):\n",
    "  forecast.append(model_tune.predict(forecast_series[time:time + window_size][np.newaxis]))\n",
    "\n",
    "# Convert to a numpy array and drop single dimensional axes\n",
    "results = np.array(forecast).squeeze()\n",
    "\n",
    "# Plot the results\n",
    "plot_series(time_valid, (x_valid, results))"
   ]
  },
  {
   "cell_type": "markdown",
   "metadata": {
    "id": "KExPe7qJsTxk"
   },
   "source": [
    "Finally, you can compute the metrics and you should arrive at similar figures compared to the baseline. If it is much worse, then the model might have overfitted and you can use techniques you know to avoid it (e.g. adding dropout)."
   ]
  },
  {
   "cell_type": "code",
   "execution_count": 26,
   "metadata": {
    "id": "W-GPjL2wv0yc"
   },
   "outputs": [
    {
     "name": "stdout",
     "output_type": "stream",
     "text": [
      "46.62311\n",
      "5.0567584\n"
     ]
    }
   ],
   "source": [
    "print(tf.keras.metrics.mean_squared_error(x_valid, results).numpy())\n",
    "print(tf.keras.metrics.mean_absolute_error(x_valid, results).numpy())"
   ]
  },
  {
   "cell_type": "markdown",
   "metadata": {
    "id": "U9ViZ1Mcs11C"
   },
   "source": [
    "## Wrap Up\n",
    "\n",
    "This concludes the exercise on using a deep neural network for forecasting. Along the way, you did some hyperparameter tuning, particularly on the learning rate. You will be using this technique as well in the next labs. Next week, you will be using recurrent neural networks to build your forecasting model. See you there and keep it up!"
   ]
  }
 ],
 "metadata": {
  "colab": {
   "collapsed_sections": [],
   "name": "C4_W2_Lab_3_deep_NN.ipynb",
   "private_outputs": true,
   "provenance": []
  },
  "kernelspec": {
   "display_name": "Python 3 (ipykernel)",
   "language": "python",
   "name": "python3"
  },
  "language_info": {
   "codemirror_mode": {
    "name": "ipython",
    "version": 3
   },
   "file_extension": ".py",
   "mimetype": "text/x-python",
   "name": "python",
   "nbconvert_exporter": "python",
   "pygments_lexer": "ipython3",
   "version": "3.8.10"
  }
 },
 "nbformat": 4,
 "nbformat_minor": 1
}
