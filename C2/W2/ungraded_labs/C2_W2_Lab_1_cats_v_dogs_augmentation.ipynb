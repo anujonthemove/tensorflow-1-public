{
 "cells": [
  {
   "cell_type": "markdown",
   "metadata": {},
   "source": [
    "<a href=\"https://colab.research.google.com/github/https-deeplearning-ai/tensorflow-1-public/blob/master/C2/W2/ungraded_labs/C2_W2_Lab_1_cats_v_dogs_augmentation.ipynb\" target=\"_parent\"><img src=\"https://colab.research.google.com/assets/colab-badge.svg\" alt=\"Open In Colab\"/></a>"
   ]
  },
  {
   "cell_type": "markdown",
   "metadata": {
    "id": "gGxCD4mGHHjG"
   },
   "source": [
    "# Ungraded Lab: Data Augmentation\n",
    "\n",
    "In the previous lessons, you saw that having a high training accuracy does not automatically mean having a good predictive model. It can still perform poorly on new data because it has overfit to the training set. In this lab, you will see how to avoid that using _data augmentation_. This increases the amount of training data by modifying the existing training data's properties. For example, in image data, you can apply different preprocessing techniques such as rotate, flip, shear, or zoom on your existing images so you can simulate other data that the model should also learn from. This way, the model would see more variety in the images during training so it will infer better on new, previously unseen data.\n",
    "\n",
    "Let's see how you can do this in the following sections."
   ]
  },
  {
   "cell_type": "markdown",
   "metadata": {
    "id": "kJJqX4DxcQs8"
   },
   "source": [
    "## Baseline Performance\n",
    "\n",
    "You will start with a model that's very effective at learning `Cats vs Dogs` without data augmentation. It's similar to the previous models that you have used. Note that there are four convolutional layers with 32, 64, 128 and 128 convolutions respectively. The code is basically the same from the previous lab so we won't go over the details step by step since you've already seen it before.\n",
    "\n",
    "You will train only for 20 epochs to save time but feel free to increase this if you want."
   ]
  },
  {
   "cell_type": "code",
   "execution_count": 3,
   "metadata": {
    "id": "zJZIF29-dIRv"
   },
   "outputs": [
    {
     "name": "stdout",
     "output_type": "stream",
     "text": [
      "--2022-04-29 14:52:53--  https://storage.googleapis.com/tensorflow-1-public/course2/cats_and_dogs_filtered.zip\n",
      "Resolving storage.googleapis.com (storage.googleapis.com)... 142.250.195.48, 142.250.195.80, 142.250.195.112, ...\n",
      "Connecting to storage.googleapis.com (storage.googleapis.com)|142.250.195.48|:443... connected.\n",
      "HTTP request sent, awaiting response... 200 OK\n",
      "Length: 68606236 (65M) [application/zip]\n",
      "Saving to: ‘cats_and_dogs_filtered.zip’\n",
      "\n",
      "cats_and_dogs_filte 100%[===================>]  65.43M  8.58MB/s    in 7.6s    \n",
      "\n",
      "2022-04-29 14:53:02 (8.63 MB/s) - ‘cats_and_dogs_filtered.zip’ saved [68606236/68606236]\n",
      "\n"
     ]
    }
   ],
   "source": [
    "# Download the dataset\n",
    "!wget https://storage.googleapis.com/tensorflow-1-public/course2/cats_and_dogs_filtered.zip"
   ]
  },
  {
   "cell_type": "code",
   "execution_count": 4,
   "metadata": {
    "id": "_DyUfCTgdwa8"
   },
   "outputs": [],
   "source": [
    "import os\n",
    "import zipfile\n",
    "\n",
    "# Extract the archive\n",
    "zip_ref = zipfile.ZipFile(\"./cats_and_dogs_filtered.zip\", 'r')\n",
    "zip_ref.extractall(\"tmp/\")\n",
    "zip_ref.close()\n",
    "\n",
    "# Assign training and validation set directories\n",
    "base_dir = 'tmp/cats_and_dogs_filtered'\n",
    "train_dir = os.path.join(base_dir, 'train')\n",
    "validation_dir = os.path.join(base_dir, 'validation')\n",
    "\n",
    "# Directory with training cat pictures\n",
    "train_cats_dir = os.path.join(train_dir, 'cats')\n",
    "\n",
    "# Directory with training dog pictures\n",
    "train_dogs_dir = os.path.join(train_dir, 'dogs')\n",
    "\n",
    "# Directory with validation cat pictures\n",
    "validation_cats_dir = os.path.join(validation_dir, 'cats')\n",
    "\n",
    "# Directory with validation dog pictures\n",
    "validation_dogs_dir = os.path.join(validation_dir, 'dogs')"
   ]
  },
  {
   "cell_type": "markdown",
   "metadata": {
    "id": "Ub_BdOJIfZ_Q"
   },
   "source": [
    "You will place the model creation inside a function so you can easily initialize a new one when you use data augmentation later in this notebook."
   ]
  },
  {
   "cell_type": "code",
   "execution_count": 5,
   "metadata": {
    "id": "uWllK_Wad-Mx"
   },
   "outputs": [],
   "source": [
    "import tensorflow as tf\n",
    "from tensorflow.keras.optimizers import RMSprop\n",
    "\n",
    "def create_model():\n",
    "  '''Creates a CNN with 4 convolutional layers'''\n",
    "  model = tf.keras.models.Sequential([\n",
    "      tf.keras.layers.Conv2D(32, (3,3), activation='relu', input_shape=(150, 150, 3)),\n",
    "      tf.keras.layers.MaxPooling2D(2, 2),\n",
    "      tf.keras.layers.Conv2D(64, (3,3), activation='relu'),\n",
    "      tf.keras.layers.MaxPooling2D(2,2),\n",
    "      tf.keras.layers.Conv2D(128, (3,3), activation='relu'),\n",
    "      tf.keras.layers.MaxPooling2D(2,2),\n",
    "      tf.keras.layers.Conv2D(128, (3,3), activation='relu'),\n",
    "      tf.keras.layers.MaxPooling2D(2,2),\n",
    "      tf.keras.layers.Flatten(),\n",
    "      tf.keras.layers.Dense(512, activation='relu'),\n",
    "      tf.keras.layers.Dense(1, activation='sigmoid')\n",
    "  ])\n",
    "\n",
    "  model.compile(loss='binary_crossentropy',\n",
    "                optimizer=RMSprop(learning_rate=1e-4),\n",
    "                metrics=['accuracy'])\n",
    "  \n",
    "  return model"
   ]
  },
  {
   "cell_type": "code",
   "execution_count": 6,
   "metadata": {
    "id": "MJPyDEzOqrKB"
   },
   "outputs": [
    {
     "name": "stdout",
     "output_type": "stream",
     "text": [
      "Found 2000 images belonging to 2 classes.\n",
      "Found 1000 images belonging to 2 classes.\n"
     ]
    }
   ],
   "source": [
    "from tensorflow.keras.preprocessing.image import ImageDataGenerator\n",
    "\n",
    "# All images will be rescaled by 1./255\n",
    "train_datagen = ImageDataGenerator(rescale=1./255)\n",
    "test_datagen = ImageDataGenerator(rescale=1./255)\n",
    "\n",
    "# Flow training images in batches of 20 using train_datagen generator\n",
    "train_generator = train_datagen.flow_from_directory(\n",
    "        train_dir,  # This is the source directory for training images\n",
    "        target_size=(150, 150),  # All images will be resized to 150x150\n",
    "        batch_size=20,\n",
    "        # Since we use binary_crossentropy loss, we need binary labels\n",
    "        class_mode='binary')\n",
    "\n",
    "# Flow validation images in batches of 20 using test_datagen generator\n",
    "validation_generator = test_datagen.flow_from_directory(\n",
    "        validation_dir,\n",
    "        target_size=(150, 150),\n",
    "        batch_size=20,\n",
    "        class_mode='binary')"
   ]
  },
  {
   "cell_type": "code",
   "execution_count": 7,
   "metadata": {
    "id": "hdqUoF44esR3"
   },
   "outputs": [
    {
     "name": "stdout",
     "output_type": "stream",
     "text": [
      "Epoch 1/20\n"
     ]
    },
    {
     "name": "stderr",
     "output_type": "stream",
     "text": [
      "2022-04-29 14:53:48.305076: I tensorflow/stream_executor/cuda/cuda_gpu_executor.cc:936] successful NUMA node read from SysFS had negative value (-1), but there must be at least one NUMA node, so returning NUMA node zero\n",
      "2022-04-29 14:53:48.338625: I tensorflow/stream_executor/cuda/cuda_gpu_executor.cc:936] successful NUMA node read from SysFS had negative value (-1), but there must be at least one NUMA node, so returning NUMA node zero\n",
      "2022-04-29 14:53:48.338984: I tensorflow/stream_executor/cuda/cuda_gpu_executor.cc:936] successful NUMA node read from SysFS had negative value (-1), but there must be at least one NUMA node, so returning NUMA node zero\n",
      "2022-04-29 14:53:48.339812: I tensorflow/core/platform/cpu_feature_guard.cc:151] This TensorFlow binary is optimized with oneAPI Deep Neural Network Library (oneDNN) to use the following CPU instructions in performance-critical operations:  AVX2 AVX512F FMA\n",
      "To enable them in other operations, rebuild TensorFlow with the appropriate compiler flags.\n",
      "2022-04-29 14:53:48.340179: I tensorflow/stream_executor/cuda/cuda_gpu_executor.cc:936] successful NUMA node read from SysFS had negative value (-1), but there must be at least one NUMA node, so returning NUMA node zero\n",
      "2022-04-29 14:53:48.340556: I tensorflow/stream_executor/cuda/cuda_gpu_executor.cc:936] successful NUMA node read from SysFS had negative value (-1), but there must be at least one NUMA node, so returning NUMA node zero\n",
      "2022-04-29 14:53:48.340897: I tensorflow/stream_executor/cuda/cuda_gpu_executor.cc:936] successful NUMA node read from SysFS had negative value (-1), but there must be at least one NUMA node, so returning NUMA node zero\n",
      "2022-04-29 14:53:48.737936: I tensorflow/stream_executor/cuda/cuda_gpu_executor.cc:936] successful NUMA node read from SysFS had negative value (-1), but there must be at least one NUMA node, so returning NUMA node zero\n",
      "2022-04-29 14:53:48.738291: I tensorflow/stream_executor/cuda/cuda_gpu_executor.cc:936] successful NUMA node read from SysFS had negative value (-1), but there must be at least one NUMA node, so returning NUMA node zero\n",
      "2022-04-29 14:53:48.738601: I tensorflow/stream_executor/cuda/cuda_gpu_executor.cc:936] successful NUMA node read from SysFS had negative value (-1), but there must be at least one NUMA node, so returning NUMA node zero\n",
      "2022-04-29 14:53:48.739039: I tensorflow/core/common_runtime/gpu/gpu_device.cc:1525] Created device /job:localhost/replica:0/task:0/device:GPU:0 with 6073 MB memory:  -> device: 0, name: NVIDIA GeForce RTX 3070 Laptop GPU, pci bus id: 0000:01:00.0, compute capability: 8.6\n",
      "2022-04-29 14:53:50.150387: I tensorflow/stream_executor/cuda/cuda_dnn.cc:368] Loaded cuDNN version 8400\n",
      "2022-04-29 14:53:51.247981: I tensorflow/stream_executor/cuda/cuda_blas.cc:1786] TensorFloat-32 will be used for the matrix multiplication. This will only be logged once.\n"
     ]
    },
    {
     "name": "stdout",
     "output_type": "stream",
     "text": [
      "100/100 - 5s - loss: 0.6842 - accuracy: 0.5385 - val_loss: 0.7350 - val_accuracy: 0.5000 - 5s/epoch - 50ms/step\n",
      "Epoch 2/20\n",
      "100/100 - 2s - loss: 0.6507 - accuracy: 0.6015 - val_loss: 0.6153 - val_accuracy: 0.6680 - 2s/epoch - 21ms/step\n",
      "Epoch 3/20\n",
      "100/100 - 2s - loss: 0.5883 - accuracy: 0.6920 - val_loss: 0.5900 - val_accuracy: 0.6760 - 2s/epoch - 21ms/step\n",
      "Epoch 4/20\n",
      "100/100 - 2s - loss: 0.5606 - accuracy: 0.7060 - val_loss: 0.6081 - val_accuracy: 0.6700 - 2s/epoch - 21ms/step\n",
      "Epoch 5/20\n",
      "100/100 - 2s - loss: 0.5323 - accuracy: 0.7205 - val_loss: 0.5651 - val_accuracy: 0.7110 - 2s/epoch - 21ms/step\n",
      "Epoch 6/20\n",
      "100/100 - 2s - loss: 0.5020 - accuracy: 0.7445 - val_loss: 0.6294 - val_accuracy: 0.6530 - 2s/epoch - 21ms/step\n",
      "Epoch 7/20\n",
      "100/100 - 2s - loss: 0.4794 - accuracy: 0.7625 - val_loss: 0.5584 - val_accuracy: 0.7090 - 2s/epoch - 21ms/step\n",
      "Epoch 8/20\n",
      "100/100 - 2s - loss: 0.4591 - accuracy: 0.7795 - val_loss: 0.5436 - val_accuracy: 0.7240 - 2s/epoch - 21ms/step\n",
      "Epoch 9/20\n",
      "100/100 - 2s - loss: 0.4198 - accuracy: 0.8130 - val_loss: 0.5558 - val_accuracy: 0.7230 - 2s/epoch - 22ms/step\n",
      "Epoch 10/20\n",
      "100/100 - 2s - loss: 0.4026 - accuracy: 0.8135 - val_loss: 0.5572 - val_accuracy: 0.7150 - 2s/epoch - 22ms/step\n",
      "Epoch 11/20\n",
      "100/100 - 2s - loss: 0.3822 - accuracy: 0.8320 - val_loss: 0.5420 - val_accuracy: 0.7250 - 2s/epoch - 21ms/step\n",
      "Epoch 12/20\n",
      "100/100 - 2s - loss: 0.3536 - accuracy: 0.8455 - val_loss: 0.5978 - val_accuracy: 0.7150 - 2s/epoch - 21ms/step\n",
      "Epoch 13/20\n",
      "100/100 - 2s - loss: 0.3337 - accuracy: 0.8605 - val_loss: 0.5623 - val_accuracy: 0.7420 - 2s/epoch - 22ms/step\n",
      "Epoch 14/20\n",
      "100/100 - 2s - loss: 0.3097 - accuracy: 0.8775 - val_loss: 0.5688 - val_accuracy: 0.7340 - 2s/epoch - 21ms/step\n",
      "Epoch 15/20\n",
      "100/100 - 2s - loss: 0.2863 - accuracy: 0.8825 - val_loss: 0.6252 - val_accuracy: 0.7190 - 2s/epoch - 22ms/step\n",
      "Epoch 16/20\n",
      "100/100 - 2s - loss: 0.2638 - accuracy: 0.8970 - val_loss: 0.5648 - val_accuracy: 0.7490 - 2s/epoch - 21ms/step\n",
      "Epoch 17/20\n",
      "100/100 - 2s - loss: 0.2449 - accuracy: 0.9070 - val_loss: 0.6563 - val_accuracy: 0.7160 - 2s/epoch - 21ms/step\n",
      "Epoch 18/20\n",
      "100/100 - 2s - loss: 0.2202 - accuracy: 0.9090 - val_loss: 0.5729 - val_accuracy: 0.7460 - 2s/epoch - 22ms/step\n",
      "Epoch 19/20\n",
      "100/100 - 2s - loss: 0.1960 - accuracy: 0.9315 - val_loss: 0.6132 - val_accuracy: 0.7420 - 2s/epoch - 21ms/step\n",
      "Epoch 20/20\n",
      "100/100 - 2s - loss: 0.1744 - accuracy: 0.9410 - val_loss: 0.6111 - val_accuracy: 0.7430 - 2s/epoch - 22ms/step\n"
     ]
    }
   ],
   "source": [
    "# Constant for epochs\n",
    "EPOCHS = 20\n",
    "\n",
    "# Create a new model\n",
    "model = create_model()\n",
    "\n",
    "# Train the model\n",
    "history = model.fit(\n",
    "      train_generator,\n",
    "      steps_per_epoch=100,  # 2000 images = batch_size * steps\n",
    "      epochs=EPOCHS,\n",
    "      validation_data=validation_generator,\n",
    "      validation_steps=50,  # 1000 images = batch_size * steps\n",
    "      verbose=2)"
   ]
  },
  {
   "cell_type": "markdown",
   "metadata": {
    "id": "Y-G0Am4cguNt"
   },
   "source": [
    "You will then visualize the loss and accuracy with respect to the training and validation set. You will again use a convenience function so it can be reused later. This function accepts a [History](https://www.tensorflow.org/api_docs/python/tf/keras/callbacks/History) object which contains the results of the `fit()` method you ran above."
   ]
  },
  {
   "cell_type": "code",
   "execution_count": 8,
   "metadata": {
    "id": "GZWPcmKWO303"
   },
   "outputs": [],
   "source": [
    "import matplotlib.pyplot as plt\n",
    "\n",
    "def plot_loss_acc(history):\n",
    "  '''Plots the training and validation loss and accuracy from a history object'''\n",
    "  acc = history.history['accuracy']\n",
    "  val_acc = history.history['val_accuracy']\n",
    "  loss = history.history['loss']\n",
    "  val_loss = history.history['val_loss']\n",
    "\n",
    "  epochs = range(len(acc))\n",
    "\n",
    "  plt.plot(epochs, acc, 'bo', label='Training accuracy')\n",
    "  plt.plot(epochs, val_acc, 'b', label='Validation accuracy')\n",
    "  plt.title('Training and validation accuracy')\n",
    "\n",
    "  plt.figure()\n",
    "\n",
    "  plt.plot(epochs, loss, 'bo', label='Training Loss')\n",
    "  plt.plot(epochs, val_loss, 'b', label='Validation Loss')\n",
    "  plt.title('Training and validation loss')\n",
    "  plt.legend()\n",
    "\n",
    "  plt.show()"
   ]
  },
  {
   "cell_type": "code",
   "execution_count": 9,
   "metadata": {
    "id": "Vojz4NYXiT_f"
   },
   "outputs": [
    {
     "data": {
      "image/png": "[encoded data removed]",
      "text/plain": [
       "<Figure size 432x288 with 1 Axes>"
      ]
     },
     "metadata": {
      "needs_background": "light"
     },
     "output_type": "display_data"
    },
    {
     "data": {
      "image/png": "[encoded data removed]",
      "text/plain": [
       "<Figure size 432x288 with 1 Axes>"
      ]
     },
     "metadata": {
      "needs_background": "light"
     },
     "output_type": "display_data"
    }
   ],
   "source": [
    "# Plot training results\n",
    "plot_loss_acc(history)"
   ]
  },
  {
   "cell_type": "markdown",
   "metadata": {
    "id": "zb81GvNov-Tg"
   },
   "source": [
    "From the results above, you'll see the training accuracy is more than 90%, and the validation accuracy is in the 70%-80% range. This is a great example of _overfitting_ -- which in short means that it can do very well with images it has seen before, but not so well with images it hasn't.\n"
   ]
  },
  {
   "cell_type": "markdown",
   "metadata": {
    "id": "5KBz-vFbjLZX"
   },
   "source": [
    "## Data augmentation\n",
    "\n",
    "One simple method to avoid overfitting is to augment the images a bit. If you think about it, most pictures of a cat are very similar -- the ears are at the top, then the eyes, then the mouth etc. Things like the distance between the eyes and ears will always be quite similar too. \n",
    "\n",
    "What if you tweak with the images a bit -- rotate the image, squash it, etc.  That's what image augementation is all about. And there's an API that makes it easy!\n",
    "\n",
    "Take a look at the [ImageDataGenerator](https://www.tensorflow.org/api_docs/python/tf/keras/preprocessing/image/ImageDataGenerator) which you have been using to rescale the image. There are other properties on it that you can use to augment the image. \n",
    "\n",
    "```\n",
    "# Updated to do image augmentation\n",
    "train_datagen = ImageDataGenerator(\n",
    "      rotation_range=40,\n",
    "      width_shift_range=0.2,\n",
    "      height_shift_range=0.2,\n",
    "      shear_range=0.2,\n",
    "      zoom_range=0.2,\n",
    "      horizontal_flip=True,\n",
    "      fill_mode='nearest')\n",
    "```\n",
    "\n",
    "These are just a few of the options available. Let's quickly go over it:\n",
    "\n",
    "* `rotation_range` is a value in degrees (0–180) within which to randomly rotate pictures.\n",
    "* `width_shift` and `height_shift` are ranges (as a fraction of total width or height) within which to randomly translate pictures vertically or horizontally.\n",
    "* `shear_range` is for randomly applying shearing transformations.\n",
    "* `zoom_range` is for randomly zooming inside pictures.\n",
    "* `horizontal_flip` is for randomly flipping half of the images horizontally. This is relevant when there are no assumptions of horizontal assymmetry (e.g. real-world pictures).\n",
    "* `fill_mode` is the strategy used for filling in newly created pixels, which can appear after a rotation or a width/height shift.\n",
    "\n",
    "\n",
    "Run the next cells to see the impact on the results. The code is similar to the baseline but the definition of `train_datagen` has been updated to use the parameters described above.\n"
   ]
  },
  {
   "cell_type": "code",
   "execution_count": 10,
   "metadata": {
    "id": "UK7_Fflgv8YC"
   },
   "outputs": [
    {
     "name": "stdout",
     "output_type": "stream",
     "text": [
      "Found 2000 images belonging to 2 classes.\n",
      "Found 1000 images belonging to 2 classes.\n",
      "Epoch 1/20\n",
      "100/100 - 7s - loss: 0.6949 - accuracy: 0.5290 - val_loss: 0.6797 - val_accuracy: 0.5430 - 7s/epoch - 69ms/step\n",
      "Epoch 2/20\n",
      "100/100 - 7s - loss: 0.6810 - accuracy: 0.5650 - val_loss: 0.6544 - val_accuracy: 0.6360 - 7s/epoch - 66ms/step\n",
      "Epoch 3/20\n",
      "100/100 - 7s - loss: 0.6638 - accuracy: 0.5910 - val_loss: 0.6641 - val_accuracy: 0.5580 - 7s/epoch - 65ms/step\n",
      "Epoch 4/20\n",
      "100/100 - 7s - loss: 0.6501 - accuracy: 0.6085 - val_loss: 0.6077 - val_accuracy: 0.6680 - 7s/epoch - 66ms/step\n",
      "Epoch 5/20\n",
      "100/100 - 7s - loss: 0.6283 - accuracy: 0.6275 - val_loss: 0.6145 - val_accuracy: 0.6540 - 7s/epoch - 66ms/step\n",
      "Epoch 6/20\n",
      "100/100 - 7s - loss: 0.6172 - accuracy: 0.6550 - val_loss: 0.5782 - val_accuracy: 0.6930 - 7s/epoch - 67ms/step\n",
      "Epoch 7/20\n",
      "100/100 - 7s - loss: 0.6033 - accuracy: 0.6640 - val_loss: 0.5853 - val_accuracy: 0.6870 - 7s/epoch - 66ms/step\n",
      "Epoch 8/20\n",
      "100/100 - 7s - loss: 0.5946 - accuracy: 0.6780 - val_loss: 0.5614 - val_accuracy: 0.7120 - 7s/epoch - 69ms/step\n",
      "Epoch 9/20\n",
      "100/100 - 7s - loss: 0.5866 - accuracy: 0.6920 - val_loss: 0.6298 - val_accuracy: 0.6490 - 7s/epoch - 67ms/step\n",
      "Epoch 10/20\n",
      "100/100 - 7s - loss: 0.5843 - accuracy: 0.6870 - val_loss: 0.5651 - val_accuracy: 0.6790 - 7s/epoch - 67ms/step\n",
      "Epoch 11/20\n",
      "100/100 - 7s - loss: 0.5790 - accuracy: 0.6855 - val_loss: 0.5487 - val_accuracy: 0.7250 - 7s/epoch - 69ms/step\n",
      "Epoch 12/20\n",
      "100/100 - 7s - loss: 0.5687 - accuracy: 0.7040 - val_loss: 0.5391 - val_accuracy: 0.7110 - 7s/epoch - 67ms/step\n",
      "Epoch 13/20\n",
      "100/100 - 7s - loss: 0.5629 - accuracy: 0.7105 - val_loss: 0.5513 - val_accuracy: 0.7160 - 7s/epoch - 68ms/step\n",
      "Epoch 14/20\n",
      "100/100 - 7s - loss: 0.5666 - accuracy: 0.7080 - val_loss: 0.5322 - val_accuracy: 0.7130 - 7s/epoch - 69ms/step\n",
      "Epoch 15/20\n",
      "100/100 - 7s - loss: 0.5604 - accuracy: 0.7105 - val_loss: 0.5112 - val_accuracy: 0.7380 - 7s/epoch - 71ms/step\n",
      "Epoch 16/20\n",
      "100/100 - 7s - loss: 0.5453 - accuracy: 0.7275 - val_loss: 0.5239 - val_accuracy: 0.7210 - 7s/epoch - 70ms/step\n",
      "Epoch 17/20\n",
      "100/100 - 7s - loss: 0.5417 - accuracy: 0.7215 - val_loss: 0.5281 - val_accuracy: 0.7230 - 7s/epoch - 71ms/step\n",
      "Epoch 18/20\n",
      "100/100 - 7s - loss: 0.5346 - accuracy: 0.7365 - val_loss: 0.5011 - val_accuracy: 0.7520 - 7s/epoch - 68ms/step\n",
      "Epoch 19/20\n",
      "100/100 - 7s - loss: 0.5488 - accuracy: 0.7040 - val_loss: 0.5103 - val_accuracy: 0.7270 - 7s/epoch - 69ms/step\n",
      "Epoch 20/20\n",
      "100/100 - 7s - loss: 0.5225 - accuracy: 0.7350 - val_loss: 0.5026 - val_accuracy: 0.7470 - 7s/epoch - 68ms/step\n"
     ]
    }
   ],
   "source": [
    "# Create new model\n",
    "model_for_aug = create_model()\n",
    "\n",
    "# This code has changed. Now instead of the ImageGenerator just rescaling\n",
    "# the image, we also rotate and do other operations\n",
    "train_datagen = ImageDataGenerator(\n",
    "      rescale=1./255,\n",
    "      rotation_range=40,\n",
    "      width_shift_range=0.2,\n",
    "      height_shift_range=0.2,\n",
    "      shear_range=0.2,\n",
    "      zoom_range=0.2,\n",
    "      horizontal_flip=True,\n",
    "      fill_mode='nearest')\n",
    "\n",
    "test_datagen = ImageDataGenerator(rescale=1./255)\n",
    "\n",
    "# Flow training images in batches of 20 using train_datagen generator\n",
    "train_generator = train_datagen.flow_from_directory(\n",
    "        train_dir,  # This is the source directory for training images\n",
    "        target_size=(150, 150),  # All images will be resized to 150x150\n",
    "        batch_size=20,\n",
    "        # Since we use binary_crossentropy loss, we need binary labels\n",
    "        class_mode='binary')\n",
    "\n",
    "# Flow validation images in batches of 20 using test_datagen generator\n",
    "validation_generator = test_datagen.flow_from_directory(\n",
    "        validation_dir,\n",
    "        target_size=(150, 150),\n",
    "        batch_size=20,\n",
    "        class_mode='binary')\n",
    "\n",
    "# Train the new model\n",
    "history_with_aug = model_for_aug.fit(\n",
    "      train_generator,\n",
    "      steps_per_epoch=100,  # 2000 images = batch_size * steps\n",
    "      epochs=EPOCHS,\n",
    "      validation_data=validation_generator,\n",
    "      validation_steps=50,  # 1000 images = batch_size * steps\n",
    "      verbose=2)"
   ]
  },
  {
   "cell_type": "code",
   "execution_count": 11,
   "metadata": {
    "id": "bnyRnwopT5aW"
   },
   "outputs": [
    {
     "data": {
      "image/png": "[encoded data removed]",
      "text/plain": [
       "<Figure size 432x288 with 1 Axes>"
      ]
     },
     "metadata": {
      "needs_background": "light"
     },
     "output_type": "display_data"
    },
    {
     "data": {
      "image/png": "[encoded data removed]",
      "text/plain": [
       "<Figure size 432x288 with 1 Axes>"
      ]
     },
     "metadata": {
      "needs_background": "light"
     },
     "output_type": "display_data"
    }
   ],
   "source": [
    "# Plot the results of training with data augmentation\n",
    "plot_loss_acc(history_with_aug)"
   ]
  },
  {
   "cell_type": "markdown",
   "metadata": {
    "id": "1D1hd5fqmJUx"
   },
   "source": [
    "As you can see, the training accuracy has gone down compared to the baseline. This is expected because (as a result of data augmentation) there are more variety in the images so the model will need more runs to learn from them. The good thing is the validation accuracy is no longer stalling and is more in line with the training results. This means that the model is now performing better on unseen data. \n",
    "\n",
    "\n"
   ]
  },
  {
   "cell_type": "markdown",
   "metadata": {
    "id": "z4B9b6GPnKg1"
   },
   "source": [
    "## Wrap Up\n",
    "\n",
    "This exercise showed a simple trick to avoid overfitting. You can improve your baseline results by simply tweaking the same images you have already. The `ImageDataGenerator` class has built-in parameters to do just that. Try to modify the values some more in the `train_datagen` and see what results you get.\n",
    "\n",
    "Take note that this will not work for all cases. In the next lesson, Laurence will show a scenario where data augmentation will not help improve your validation accuracy."
   ]
  },
  {
   "cell_type": "code",
   "execution_count": null,
   "metadata": {},
   "outputs": [],
   "source": []
  }
 ],
 "metadata": {
  "accelerator": "GPU",
  "colab": {
   "collapsed_sections": [],
   "name": "C2_W2_Lab_1_cats_v_dogs_augmentation.ipynb",
   "private_outputs": true,
   "provenance": [
    {
     "file_id": "https://github.com/https-deeplearning-ai/tensorflow-1-public/blob/adding_C2/C2/W2/ungraded_labs/C2_W2_Lab_1_cats_v_dogs_augmentation.ipynb",
     "timestamp": 1639637705486
    }
   ]
  },
  "kernelspec": {
   "display_name": "Python 3 (ipykernel)",
   "language": "python",
   "name": "python3"
  },
  "language_info": {
   "codemirror_mode": {
    "name": "ipython",
    "version": 3
   },
   "file_extension": ".py",
   "mimetype": "text/x-python",
   "name": "python",
   "nbconvert_exporter": "python",
   "pygments_lexer": "ipython3",
   "version": "3.8.10"
  }
 },
 "nbformat": 4,
 "nbformat_minor": 1
}
