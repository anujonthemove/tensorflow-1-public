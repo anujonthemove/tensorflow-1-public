{
 "cells": [
  {
   "cell_type": "markdown",
   "metadata": {
    "id": "bFWbEb6uGbN-"
   },
   "source": [
    "# Week 4: Predicting the next word\n",
    "\n",
    "Welcome to this assignment! During this week you saw how to create a model that will predict the next word in a text sequence, now you will implement such model and train it using a corpus of Shakespeare's sonnets, while also creating some helper functions to pre-process the data.\n",
    "\n",
    "\n",
    "Let's get started!"
   ]
  },
  {
   "cell_type": "code",
   "execution_count": 1,
   "metadata": {
    "id": "BOwsuGQQY9OL"
   },
   "outputs": [],
   "source": [
    "import numpy as np \n",
    "import matplotlib.pyplot as plt\n",
    "from tensorflow.keras.models import Sequential\n",
    "from tensorflow.keras.utils import to_categorical \n",
    "from tensorflow.keras.preprocessing.text import Tokenizer\n",
    "from tensorflow.keras.preprocessing.sequence import pad_sequences\n",
    "from tensorflow.keras.layers import Embedding, LSTM, Dense, Bidirectional, Dropout"
   ]
  },
  {
   "cell_type": "markdown",
   "metadata": {
    "id": "BTxqlHqKHzhr"
   },
   "source": [
    "For this assignment you will be using the [Shakespeare Sonnets Dataset](https://www.opensourceshakespeare.org/views/sonnets/sonnet_view.php?range=viewrange&sonnetrange1=1&sonnetrange2=154), which contains more than 2000 lines of text extracted from Shakespeare's sonnets."
   ]
  },
  {
   "cell_type": "code",
   "execution_count": 2,
   "metadata": {
    "id": "WZ4qOUzujMP6"
   },
   "outputs": [
    {
     "name": "stdout",
     "output_type": "stream",
     "text": [
      "--2022-05-06 18:52:25--  https://storage.googleapis.com/laurencemoroney-blog.appspot.com/sonnets.txt\n",
      "Resolving storage.googleapis.com (storage.googleapis.com)... 216.58.196.176, 142.250.71.16, 142.250.71.48, ...\n",
      "Connecting to storage.googleapis.com (storage.googleapis.com)|216.58.196.176|:443... connected.\n",
      "HTTP request sent, awaiting response... 200 OK\n",
      "Length: 93578 (91K) [text/plain]\n",
      "Saving to: ‘sonnets.txt’\n",
      "\n",
      "sonnets.txt         100%[===================>]  91.38K  --.-KB/s    in 0.03s   \n",
      "\n",
      "2022-05-06 18:52:25 (2.55 MB/s) - ‘sonnets.txt’ saved [93578/93578]\n",
      "\n"
     ]
    }
   ],
   "source": [
    "# sonnets.txt\n",
    "# !gdown --id 108jAePKK4R3BVYBbYJZ32JWUwxeMg20K\n",
    "\n",
    "!wget --no-check-certificate \\\n",
    "    https://storage.googleapis.com/laurencemoroney-blog.appspot.com/sonnets.txt \\\n",
    "    -O sonnets.txt"
   ]
  },
  {
   "cell_type": "code",
   "execution_count": 3,
   "metadata": {
    "id": "Pfd-nYKij5yY"
   },
   "outputs": [
    {
     "name": "stdout",
     "output_type": "stream",
     "text": [
      "There are 2159 lines of sonnets\n",
      "\n",
      "The first 5 lines look like this:\n",
      "\n",
      "from fairest creatures we desire increase,\n",
      "that thereby beauty's rose might never die,\n",
      "but as the riper should by time decease,\n",
      "his tender heir might bear his memory:\n",
      "but thou, contracted to thine own bright eyes,\n"
     ]
    }
   ],
   "source": [
    "# Define path for file with sonnets\n",
    "SONNETS_FILE = './sonnets.txt'\n",
    "\n",
    "# Read the data\n",
    "with open('./sonnets.txt') as f:\n",
    "    data = f.read()\n",
    "\n",
    "# Convert to lower case and save as a list\n",
    "corpus = data.lower().split(\"\\n\")\n",
    "\n",
    "print(f\"There are {len(corpus)} lines of sonnets\\n\")\n",
    "print(f\"The first 5 lines look like this:\\n\")\n",
    "for i in range(5):\n",
    "  print(corpus[i])"
   ]
  },
  {
   "cell_type": "markdown",
   "metadata": {
    "id": "imB15zrSNhA1"
   },
   "source": [
    "## Tokenizing the text\n",
    "\n",
    "Now fit the Tokenizer to the corpus and save the total number of words."
   ]
  },
  {
   "cell_type": "code",
   "execution_count": 4,
   "metadata": {
    "id": "AAhM_qAZk0o5"
   },
   "outputs": [],
   "source": [
    "tokenizer = Tokenizer()\n",
    "tokenizer.fit_on_texts(corpus)\n",
    "total_words = len(tokenizer.word_index) + 1"
   ]
  },
  {
   "cell_type": "markdown",
   "metadata": {
    "id": "77-0sA46OETa"
   },
   "source": [
    "When converting the text into sequences you can use the `texts_to_sequences` method as you have done throughout this course.\n",
    "\n",
    "In the next graded function you will need to process this corpus one line at a time. Given this, it is important to keep in mind that the way you are feeding the data unto this method affects the result. Check the following example to make this clearer.\n",
    "\n",
    "The first example of the corpus is a string and looks like this:"
   ]
  },
  {
   "cell_type": "code",
   "execution_count": 5,
   "metadata": {
    "id": "tqhPxdeXlfjh"
   },
   "outputs": [
    {
     "data": {
      "text/plain": [
       "'from fairest creatures we desire increase,'"
      ]
     },
     "execution_count": 5,
     "metadata": {},
     "output_type": "execute_result"
    }
   ],
   "source": [
    "corpus[0]"
   ]
  },
  {
   "cell_type": "markdown",
   "metadata": {
    "id": "XFMP4z11O3os"
   },
   "source": [
    "If you pass this text directly into the `texts_to_sequences` method you will get an unexpected result:"
   ]
  },
  {
   "cell_type": "code",
   "execution_count": 6,
   "metadata": {
    "id": "EMSEhmbzNZCE"
   },
   "outputs": [
    {
     "data": {
      "text/plain": [
       "[[],\n",
       " [],\n",
       " [58],\n",
       " [],\n",
       " [],\n",
       " [],\n",
       " [17],\n",
       " [6],\n",
       " [],\n",
       " [],\n",
       " [],\n",
       " [],\n",
       " [],\n",
       " [],\n",
       " [],\n",
       " [],\n",
       " [17],\n",
       " [],\n",
       " [],\n",
       " [],\n",
       " [],\n",
       " [],\n",
       " [],\n",
       " [],\n",
       " [],\n",
       " [],\n",
       " [],\n",
       " [],\n",
       " [],\n",
       " [6],\n",
       " [],\n",
       " [],\n",
       " [],\n",
       " [6],\n",
       " [],\n",
       " [],\n",
       " [],\n",
       " [],\n",
       " [17],\n",
       " [],\n",
       " [],\n",
       " []]"
      ]
     },
     "execution_count": 6,
     "metadata": {},
     "output_type": "execute_result"
    }
   ],
   "source": [
    "tokenizer.texts_to_sequences(corpus[0])"
   ]
  },
  {
   "cell_type": "markdown",
   "metadata": {
    "id": "pPZmZtpEPEeI"
   },
   "source": [
    "This happened because `texts_to_sequences` expects a list and you are providing a string. However a string is still and `iterable` in Python so you will get the word index of every character in the string.\n",
    "\n",
    "Instead you need to place the example whithin a list before passing it to the method:"
   ]
  },
  {
   "cell_type": "code",
   "execution_count": 7,
   "metadata": {
    "id": "Qmgo-vXhk4nd"
   },
   "outputs": [
    {
     "data": {
      "text/plain": [
       "[[34, 417, 877, 166, 213, 517]]"
      ]
     },
     "execution_count": 7,
     "metadata": {},
     "output_type": "execute_result"
    }
   ],
   "source": [
    "tokenizer.texts_to_sequences([corpus[0]])"
   ]
  },
  {
   "cell_type": "markdown",
   "metadata": {
    "id": "0DU7wK-eQ5dc"
   },
   "source": [
    "Notice that you received the sequence wrapped inside a list so in order to get only the desired sequence you need to explicitly get the first item in the list like this:"
   ]
  },
  {
   "cell_type": "code",
   "execution_count": 8,
   "metadata": {
    "id": "kpTy8WmIQ57P"
   },
   "outputs": [
    {
     "data": {
      "text/plain": [
       "[34, 417, 877, 166, 213, 517]"
      ]
     },
     "execution_count": 8,
     "metadata": {},
     "output_type": "execute_result"
    }
   ],
   "source": [
    "tokenizer.texts_to_sequences([corpus[0]])[0]"
   ]
  },
  {
   "cell_type": "markdown",
   "metadata": {
    "id": "-oqy9KjXRJ9A"
   },
   "source": [
    "## Generating n_grams\n",
    "\n",
    "Now complete the `n_gram_seqs` function below. This function receives the fitted tokenizer and the corpus (which is a list of strings) and should return a list containing the `n_gram` sequences for each line in the corpus:"
   ]
  },
  {
   "cell_type": "code",
   "execution_count": 9,
   "metadata": {
    "id": "iy4baJMDl6kj"
   },
   "outputs": [],
   "source": [
    "# GRADED FUNCTION: n_gram_seqs\n",
    "def n_gram_seqs(corpus, tokenizer):\n",
    "    input_sequences = []\n",
    "\n",
    "    ### START CODE HERE\n",
    "    sequences = tokenizer.texts_to_sequences(corpus)\n",
    "    for sequence in sequences:\n",
    "        for j in range(1, len(sequence)):\n",
    "            input_sequences.append(sequence[0:j+1])\n",
    "    ### END CODE HERE\n",
    "\n",
    "    return input_sequences"
   ]
  },
  {
   "cell_type": "code",
   "execution_count": 10,
   "metadata": {
    "id": "DlKqW2pfM7G3"
   },
   "outputs": [
    {
     "name": "stdout",
     "output_type": "stream",
     "text": [
      "n_gram sequences for first example look like this:\n",
      "\n"
     ]
    },
    {
     "data": {
      "text/plain": [
       "[[34, 417],\n",
       " [34, 417, 877],\n",
       " [34, 417, 877, 166],\n",
       " [34, 417, 877, 166, 213],\n",
       " [34, 417, 877, 166, 213, 517]]"
      ]
     },
     "execution_count": 10,
     "metadata": {},
     "output_type": "execute_result"
    }
   ],
   "source": [
    "# Test your function with one example\n",
    "first_example_sequence = n_gram_seqs([corpus[0]], tokenizer)\n",
    "\n",
    "print(\"n_gram sequences for first example look like this:\\n\")\n",
    "first_example_sequence"
   ]
  },
  {
   "cell_type": "markdown",
   "metadata": {
    "id": "0HL8Ug6UU0Jt"
   },
   "source": [
    "**Expected Output:**\n",
    "\n",
    "```\n",
    "n_gram sequences for first example look like this:\n",
    "\n",
    "[[34, 417],\n",
    " [34, 417, 877],\n",
    " [34, 417, 877, 166],\n",
    " [34, 417, 877, 166, 213],\n",
    " [34, 417, 877, 166, 213, 517]]\n",
    "```"
   ]
  },
  {
   "cell_type": "code",
   "execution_count": 11,
   "metadata": {
    "id": "wtPpCcBjNc4c"
   },
   "outputs": [
    {
     "name": "stdout",
     "output_type": "stream",
     "text": [
      "n_gram sequences for next 3 examples look like this:\n",
      "\n"
     ]
    },
    {
     "data": {
      "text/plain": [
       "[[8, 878],\n",
       " [8, 878, 134],\n",
       " [8, 878, 134, 351],\n",
       " [8, 878, 134, 351, 102],\n",
       " [8, 878, 134, 351, 102, 156],\n",
       " [8, 878, 134, 351, 102, 156, 199],\n",
       " [16, 22],\n",
       " [16, 22, 2],\n",
       " [16, 22, 2, 879],\n",
       " [16, 22, 2, 879, 61],\n",
       " [16, 22, 2, 879, 61, 30],\n",
       " [16, 22, 2, 879, 61, 30, 48],\n",
       " [16, 22, 2, 879, 61, 30, 48, 634],\n",
       " [25, 311],\n",
       " [25, 311, 635],\n",
       " [25, 311, 635, 102],\n",
       " [25, 311, 635, 102, 200],\n",
       " [25, 311, 635, 102, 200, 25],\n",
       " [25, 311, 635, 102, 200, 25, 278]]"
      ]
     },
     "execution_count": 11,
     "metadata": {},
     "output_type": "execute_result"
    }
   ],
   "source": [
    "# Test your function with a bigger corpus\n",
    "next_3_examples_sequence = n_gram_seqs(corpus[1:4], tokenizer)\n",
    "\n",
    "print(\"n_gram sequences for next 3 examples look like this:\\n\")\n",
    "next_3_examples_sequence"
   ]
  },
  {
   "cell_type": "markdown",
   "metadata": {
    "id": "EIzecMczU9UB"
   },
   "source": [
    "**Expected Output:**\n",
    "\n",
    "```\n",
    "n_gram sequences for next 3 examples look like this:\n",
    "\n",
    "[[8, 878],\n",
    " [8, 878, 134],\n",
    " [8, 878, 134, 351],\n",
    " [8, 878, 134, 351, 102],\n",
    " [8, 878, 134, 351, 102, 156],\n",
    " [8, 878, 134, 351, 102, 156, 199],\n",
    " [16, 22],\n",
    " [16, 22, 2],\n",
    " [16, 22, 2, 879],\n",
    " [16, 22, 2, 879, 61],\n",
    " [16, 22, 2, 879, 61, 30],\n",
    " [16, 22, 2, 879, 61, 30, 48],\n",
    " [16, 22, 2, 879, 61, 30, 48, 634],\n",
    " [25, 311],\n",
    " [25, 311, 635],\n",
    " [25, 311, 635, 102],\n",
    " [25, 311, 635, 102, 200],\n",
    " [25, 311, 635, 102, 200, 25],\n",
    " [25, 311, 635, 102, 200, 25, 278]]\n",
    "```"
   ]
  },
  {
   "cell_type": "markdown",
   "metadata": {
    "id": "dx3V_RjFWQSu"
   },
   "source": [
    "Apply the `n_gram_seqs` transformation to the whole corpus and save the maximum sequence length to use it later:"
   ]
  },
  {
   "cell_type": "code",
   "execution_count": 12,
   "metadata": {
    "id": "laMwiRUpmuSd"
   },
   "outputs": [
    {
     "name": "stdout",
     "output_type": "stream",
     "text": [
      "n_grams of input_sequences have length: 15462\n",
      "maximum length of sequences is: 11\n"
     ]
    }
   ],
   "source": [
    "# Apply the n_gram_seqs transformation to the whole corpus\n",
    "input_sequences = n_gram_seqs(corpus, tokenizer)\n",
    "\n",
    "# Save max length \n",
    "max_sequence_len = max([len(x) for x in input_sequences])\n",
    "\n",
    "print(f\"n_grams of input_sequences have length: {len(input_sequences)}\")\n",
    "print(f\"maximum length of sequences is: {max_sequence_len}\")"
   ]
  },
  {
   "cell_type": "markdown",
   "metadata": {
    "id": "2OciMdmEdE9L"
   },
   "source": [
    "**Expected Output:**\n",
    "\n",
    "```\n",
    "n_grams of input_sequences have length: 15462\n",
    "maximum length of sequences is: 11\n",
    "```"
   ]
  },
  {
   "cell_type": "markdown",
   "metadata": {
    "id": "zHY7HroqWq12"
   },
   "source": [
    "## Add padding to the sequences\n",
    "\n",
    "Now code the `pad_seqs` function which will pad any given sequences to the desired maximum length. Notice that this function receives a list of sequences and should return a numpy array with the padded sequences: "
   ]
  },
  {
   "cell_type": "code",
   "execution_count": 13,
   "metadata": {
    "cellView": "code",
    "id": "WW1-qAZaWOhC"
   },
   "outputs": [],
   "source": [
    "# GRADED FUNCTION: pad_seqs\n",
    "def pad_seqs(input_sequences, maxlen):\n",
    "    ### START CODE HERE\n",
    "    padded_sequences = pad_sequences(input_sequences, maxlen=maxlen)\n",
    "    \n",
    "    return padded_sequences\n",
    "    ### END CODE HERE"
   ]
  },
  {
   "cell_type": "code",
   "execution_count": 14,
   "metadata": {
    "id": "IqVQ0pb3YHLr"
   },
   "outputs": [
    {
     "data": {
      "text/plain": [
       "array([[  0,   0,   0,  34, 417],\n",
       "       [  0,   0,  34, 417, 877],\n",
       "       [  0,  34, 417, 877, 166],\n",
       "       [ 34, 417, 877, 166, 213],\n",
       "       [417, 877, 166, 213, 517]], dtype=int32)"
      ]
     },
     "execution_count": 14,
     "metadata": {},
     "output_type": "execute_result"
    }
   ],
   "source": [
    "# Test your function with the n_grams_seq of the first example\n",
    "first_padded_seq = pad_seqs(first_example_sequence, len(first_example_sequence))\n",
    "first_padded_seq"
   ]
  },
  {
   "cell_type": "markdown",
   "metadata": {
    "id": "Re_avDznXRnU"
   },
   "source": [
    "**Expected Output:**\n",
    "\n",
    "```\n",
    "array([[  0,   0,   0,  34, 417],\n",
    "       [  0,   0,  34, 417, 877],\n",
    "       [  0,  34, 417, 877, 166],\n",
    "       [ 34, 417, 877, 166, 213],\n",
    "       [417, 877, 166, 213, 517]], dtype=int32)\n",
    "```"
   ]
  },
  {
   "cell_type": "code",
   "execution_count": 15,
   "metadata": {
    "id": "j56_UCOBYzZt"
   },
   "outputs": [
    {
     "data": {
      "text/plain": [
       "array([[  0,   0,   0,   0,   0,   0,   8, 878],\n",
       "       [  0,   0,   0,   0,   0,   8, 878, 134],\n",
       "       [  0,   0,   0,   0,   8, 878, 134, 351],\n",
       "       [  0,   0,   0,   8, 878, 134, 351, 102],\n",
       "       [  0,   0,   8, 878, 134, 351, 102, 156],\n",
       "       [  0,   8, 878, 134, 351, 102, 156, 199],\n",
       "       [  0,   0,   0,   0,   0,   0,  16,  22],\n",
       "       [  0,   0,   0,   0,   0,  16,  22,   2],\n",
       "       [  0,   0,   0,   0,  16,  22,   2, 879],\n",
       "       [  0,   0,   0,  16,  22,   2, 879,  61],\n",
       "       [  0,   0,  16,  22,   2, 879,  61,  30],\n",
       "       [  0,  16,  22,   2, 879,  61,  30,  48],\n",
       "       [ 16,  22,   2, 879,  61,  30,  48, 634],\n",
       "       [  0,   0,   0,   0,   0,   0,  25, 311],\n",
       "       [  0,   0,   0,   0,   0,  25, 311, 635],\n",
       "       [  0,   0,   0,   0,  25, 311, 635, 102],\n",
       "       [  0,   0,   0,  25, 311, 635, 102, 200],\n",
       "       [  0,   0,  25, 311, 635, 102, 200,  25],\n",
       "       [  0,  25, 311, 635, 102, 200,  25, 278]], dtype=int32)"
      ]
     },
     "execution_count": 15,
     "metadata": {},
     "output_type": "execute_result"
    }
   ],
   "source": [
    "# Test your function with the n_grams_seq of the next 3 examples\n",
    "next_3_padded_seq = pad_seqs(next_3_examples_sequence, max([len(s) for s in next_3_examples_sequence]))\n",
    "next_3_padded_seq"
   ]
  },
  {
   "cell_type": "markdown",
   "metadata": {
    "id": "3rmcDluOXcIU"
   },
   "source": [
    "**Expected Output:**\n",
    "\n",
    "```\n",
    "array([[  0,   0,   0,   0,   0,   0,   8, 878],\n",
    "       [  0,   0,   0,   0,   0,   8, 878, 134],\n",
    "       [  0,   0,   0,   0,   8, 878, 134, 351],\n",
    "       [  0,   0,   0,   8, 878, 134, 351, 102],\n",
    "       [  0,   0,   8, 878, 134, 351, 102, 156],\n",
    "       [  0,   8, 878, 134, 351, 102, 156, 199],\n",
    "       [  0,   0,   0,   0,   0,   0,  16,  22],\n",
    "       [  0,   0,   0,   0,   0,  16,  22,   2],\n",
    "       [  0,   0,   0,   0,  16,  22,   2, 879],\n",
    "       [  0,   0,   0,  16,  22,   2, 879,  61],\n",
    "       [  0,   0,  16,  22,   2, 879,  61,  30],\n",
    "       [  0,  16,  22,   2, 879,  61,  30,  48],\n",
    "       [ 16,  22,   2, 879,  61,  30,  48, 634],\n",
    "       [  0,   0,   0,   0,   0,   0,  25, 311],\n",
    "       [  0,   0,   0,   0,   0,  25, 311, 635],\n",
    "       [  0,   0,   0,   0,  25, 311, 635, 102],\n",
    "       [  0,   0,   0,  25, 311, 635, 102, 200],\n",
    "       [  0,   0,  25, 311, 635, 102, 200,  25],\n",
    "       [  0,  25, 311, 635, 102, 200,  25, 278]], dtype=int32)\n",
    "```"
   ]
  },
  {
   "cell_type": "code",
   "execution_count": 16,
   "metadata": {
    "id": "rgK-Q_micEYA"
   },
   "outputs": [
    {
     "name": "stdout",
     "output_type": "stream",
     "text": [
      "padded corpus has shape: (15462, 11)\n"
     ]
    }
   ],
   "source": [
    "# Pad the whole corpus\n",
    "input_sequences = pad_seqs(input_sequences, max_sequence_len)\n",
    "\n",
    "print(f\"padded corpus has shape: {input_sequences.shape}\")"
   ]
  },
  {
   "cell_type": "markdown",
   "metadata": {
    "id": "59RD1YYNc7CW"
   },
   "source": [
    "**Expected Output:**\n",
    "\n",
    "```\n",
    "padded corpus has shape: (15462, 11)\n",
    "```"
   ]
  },
  {
   "cell_type": "markdown",
   "metadata": {
    "id": "ZbOidyPrXxf7"
   },
   "source": [
    "## Split the data into features and labels\n",
    "\n",
    "Before feeding the data into the neural network you should split it into features and labels. In this case the features will be the padded n_gram sequences with the last word removed from them and the labels will be the removed word.\n",
    "\n",
    "Complete the `features_and_labels` function below. This function expects the padded n_gram sequences as input and should return a tuple containing the features and the one hot encoded labels.\n",
    "\n",
    "Notice that the function also receives the total of words in the corpus, this parameter will be very important when one hot enconding the labels since every word in the corpus will be a label at least once. If you need a refresh of how the `to_categorical` function works take a look at the [docs](https://www.tensorflow.org/api_docs/python/tf/keras/utils/to_categorical)"
   ]
  },
  {
   "cell_type": "code",
   "execution_count": 17,
   "metadata": {
    "cellView": "code",
    "id": "9WGGbYdnZdmJ"
   },
   "outputs": [],
   "source": [
    "# GRADED FUNCTION: features_and_labels\n",
    "def features_and_labels(input_sequences, total_words):\n",
    "    from tensorflow.keras.utils import to_categorical\n",
    "    ### START CODE HERE\n",
    "    features = input_sequences[:, 0:-1]\n",
    "    labels = input_sequences[:, -1]\n",
    "    one_hot_labels = to_categorical(labels)\n",
    "    ### END CODE HERE\n",
    "\n",
    "    return features, one_hot_labels"
   ]
  },
  {
   "cell_type": "code",
   "execution_count": 18,
   "metadata": {
    "id": "23DolaBRaIAZ"
   },
   "outputs": [
    {
     "name": "stdout",
     "output_type": "stream",
     "text": [
      "labels have shape: (5, 878)\n",
      "\n",
      "features look like this:\n",
      "\n"
     ]
    },
    {
     "data": {
      "text/plain": [
       "array([[  0,   0,   0,  34],\n",
       "       [  0,   0,  34, 417],\n",
       "       [  0,  34, 417, 877],\n",
       "       [ 34, 417, 877, 166],\n",
       "       [417, 877, 166, 213]], dtype=int32)"
      ]
     },
     "execution_count": 18,
     "metadata": {},
     "output_type": "execute_result"
    }
   ],
   "source": [
    "# Test your function with the padded n_grams_seq of the first example\n",
    "first_features, first_labels = features_and_labels(first_padded_seq, total_words)\n",
    "\n",
    "print(f\"labels have shape: {first_labels.shape}\")\n",
    "print(\"\\nfeatures look like this:\\n\")\n",
    "first_features"
   ]
  },
  {
   "cell_type": "markdown",
   "metadata": {
    "id": "7t4yAx2UaQ43"
   },
   "source": [
    "**Expected Output:**\n",
    "\n",
    "```\n",
    "labels have shape: (5, 3211)\n",
    "\n",
    "features look like this:\n",
    "\n",
    "array([[  0,   0,   0,  34],\n",
    "       [  0,   0,  34, 417],\n",
    "       [  0,  34, 417, 877],\n",
    "       [ 34, 417, 877, 166],\n",
    "       [417, 877, 166, 213]], dtype=int32)\n",
    "```"
   ]
  },
  {
   "cell_type": "code",
   "execution_count": 19,
   "metadata": {
    "id": "GRTuLEt3bRKa"
   },
   "outputs": [
    {
     "name": "stdout",
     "output_type": "stream",
     "text": [
      "features have shape: (15462, 10)\n",
      "labels have shape: (15462, 3211)\n"
     ]
    }
   ],
   "source": [
    "# Split the whole corpus\n",
    "features, labels = features_and_labels(input_sequences, total_words)\n",
    "\n",
    "print(f\"features have shape: {features.shape}\")\n",
    "print(f\"labels have shape: {labels.shape}\")"
   ]
  },
  {
   "cell_type": "markdown",
   "metadata": {
    "id": "xXSMK_HpdLns"
   },
   "source": [
    "**Expected Output:**\n",
    "\n",
    "```\n",
    "features have shape: (15462, 10)\n",
    "labels have shape: (15462, 3211)\n",
    "```"
   ]
  },
  {
   "cell_type": "markdown",
   "metadata": {
    "id": "ltxaOCE_aU6J"
   },
   "source": [
    "## Create the model\n",
    "\n",
    "Now you should define a model architecture capable of achieving an accuracy of at least 80%.\n",
    "\n",
    "Some hints to help you in this task:\n",
    "\n",
    "- An appropriate `output_dim` for the first layer (Embedding) is 100, this is already provided for you.\n",
    "- A Bidirectional LSTM is helpful for this particular problem.\n",
    "- The last layer should have the same number of units as the total number of words in the corpus and a softmax activation function.\n",
    "- This problem can be solved with only two layers (excluding the Embedding) so try out small architectures first."
   ]
  },
  {
   "cell_type": "code",
   "execution_count": 20,
   "metadata": {
    "cellView": "code",
    "id": "XrE6kpJFfvRY"
   },
   "outputs": [],
   "source": [
    "# GRADED FUNCTION: create_model\n",
    "def create_model(total_words, max_sequence_len):\n",
    "    import tensorflow\n",
    "    model = Sequential()\n",
    "    ### START CODE HERE\n",
    "    model.add(Embedding(total_words, 100, input_length=max_sequence_len-1))\n",
    "    # model.add(Bidirectional(LSTM(20, return_sequences=True)))\n",
    "    model.add(Bidirectional(LSTM(50)))\n",
    "    # model.add(Dropout(0.3))\n",
    "#     model.add(LSTM(50))\n",
    "    model.add(Dense(128, activation='relu'))\n",
    "    model.add(Dense(total_words, activation='softmax'))\n",
    "\n",
    "\n",
    "    # Compile the model\n",
    "    model.compile(loss='categorical_crossentropy',\n",
    "                  #optimizer=tensorflow.keras.optimizers.Adam(lr=0.01),\n",
    "                  optimizer='adam',\n",
    "                  metrics=['accuracy'])\n",
    "    \n",
    "    ### END CODE HERE\n",
    "\n",
    "    return model"
   ]
  },
  {
   "cell_type": "code",
   "execution_count": 21,
   "metadata": {
    "id": "0IpX_Gu_gISk",
    "scrolled": true
   },
   "outputs": [
    {
     "name": "stderr",
     "output_type": "stream",
     "text": [
      "2022-05-06 18:52:33.379347: I tensorflow/stream_executor/cuda/cuda_gpu_executor.cc:936] successful NUMA node read from SysFS had negative value (-1), but there must be at least one NUMA node, so returning NUMA node zero\n",
      "2022-05-06 18:52:33.412740: I tensorflow/stream_executor/cuda/cuda_gpu_executor.cc:936] successful NUMA node read from SysFS had negative value (-1), but there must be at least one NUMA node, so returning NUMA node zero\n",
      "2022-05-06 18:52:33.413211: I tensorflow/stream_executor/cuda/cuda_gpu_executor.cc:936] successful NUMA node read from SysFS had negative value (-1), but there must be at least one NUMA node, so returning NUMA node zero\n",
      "2022-05-06 18:52:33.413876: I tensorflow/core/platform/cpu_feature_guard.cc:151] This TensorFlow binary is optimized with oneAPI Deep Neural Network Library (oneDNN) to use the following CPU instructions in performance-critical operations:  AVX2 AVX512F FMA\n",
      "To enable them in other operations, rebuild TensorFlow with the appropriate compiler flags.\n",
      "2022-05-06 18:52:33.414472: I tensorflow/stream_executor/cuda/cuda_gpu_executor.cc:936] successful NUMA node read from SysFS had negative value (-1), but there must be at least one NUMA node, so returning NUMA node zero\n",
      "2022-05-06 18:52:33.414862: I tensorflow/stream_executor/cuda/cuda_gpu_executor.cc:936] successful NUMA node read from SysFS had negative value (-1), but there must be at least one NUMA node, so returning NUMA node zero\n",
      "2022-05-06 18:52:33.415187: I tensorflow/stream_executor/cuda/cuda_gpu_executor.cc:936] successful NUMA node read from SysFS had negative value (-1), but there must be at least one NUMA node, so returning NUMA node zero\n",
      "2022-05-06 18:52:33.709639: I tensorflow/stream_executor/cuda/cuda_gpu_executor.cc:936] successful NUMA node read from SysFS had negative value (-1), but there must be at least one NUMA node, so returning NUMA node zero\n",
      "2022-05-06 18:52:33.710004: I tensorflow/stream_executor/cuda/cuda_gpu_executor.cc:936] successful NUMA node read from SysFS had negative value (-1), but there must be at least one NUMA node, so returning NUMA node zero\n",
      "2022-05-06 18:52:33.710322: I tensorflow/stream_executor/cuda/cuda_gpu_executor.cc:936] successful NUMA node read from SysFS had negative value (-1), but there must be at least one NUMA node, so returning NUMA node zero\n",
      "2022-05-06 18:52:33.710643: I tensorflow/core/common_runtime/gpu/gpu_device.cc:1525] Created device /job:localhost/replica:0/task:0/device:GPU:0 with 6073 MB memory:  -> device: 0, name: NVIDIA GeForce RTX 3070 Laptop GPU, pci bus id: 0000:01:00.0, compute capability: 8.6\n"
     ]
    },
    {
     "name": "stdout",
     "output_type": "stream",
     "text": [
      "Epoch 1/150\n",
      "  1/484 [..............................] - ETA: 16:40 - loss: 8.0734 - accuracy: 0.0000e+00"
     ]
    },
    {
     "name": "stderr",
     "output_type": "stream",
     "text": [
      "2022-05-06 18:52:36.077072: I tensorflow/stream_executor/cuda/cuda_dnn.cc:368] Loaded cuDNN version 8400\n",
      "2022-05-06 18:52:36.151994: I tensorflow/stream_executor/cuda/cuda_blas.cc:1786] TensorFloat-32 will be used for the matrix multiplication. This will only be logged once.\n"
     ]
    },
    {
     "name": "stdout",
     "output_type": "stream",
     "text": [
      "484/484 [==============================] - 4s 3ms/step - loss: 6.8569 - accuracy: 0.0221\n",
      "Epoch 2/150\n",
      "484/484 [==============================] - 2s 3ms/step - loss: 6.4745 - accuracy: 0.0260\n",
      "Epoch 3/150\n",
      "484/484 [==============================] - 2s 3ms/step - loss: 6.3183 - accuracy: 0.0333\n",
      "Epoch 4/150\n",
      "484/484 [==============================] - 2s 3ms/step - loss: 6.1145 - accuracy: 0.0380\n",
      "Epoch 5/150\n",
      "484/484 [==============================] - 2s 3ms/step - loss: 5.9198 - accuracy: 0.0452\n",
      "Epoch 6/150\n",
      "484/484 [==============================] - 2s 3ms/step - loss: 5.7117 - accuracy: 0.0508\n",
      "Epoch 7/150\n",
      "484/484 [==============================] - 2s 3ms/step - loss: 5.5111 - accuracy: 0.0623\n",
      "Epoch 8/150\n",
      "484/484 [==============================] - 2s 3ms/step - loss: 5.3021 - accuracy: 0.0734\n",
      "Epoch 9/150\n",
      "484/484 [==============================] - 2s 3ms/step - loss: 5.0955 - accuracy: 0.0850\n",
      "Epoch 10/150\n",
      "484/484 [==============================] - 2s 3ms/step - loss: 4.8749 - accuracy: 0.0975\n",
      "Epoch 11/150\n",
      "484/484 [==============================] - 2s 3ms/step - loss: 4.6448 - accuracy: 0.1156\n",
      "Epoch 12/150\n",
      "484/484 [==============================] - 2s 3ms/step - loss: 4.4073 - accuracy: 0.1337\n",
      "Epoch 13/150\n",
      "484/484 [==============================] - 2s 3ms/step - loss: 4.1559 - accuracy: 0.1585\n",
      "Epoch 14/150\n",
      "484/484 [==============================] - 2s 3ms/step - loss: 3.8917 - accuracy: 0.1806\n",
      "Epoch 15/150\n",
      "484/484 [==============================] - 2s 3ms/step - loss: 3.6343 - accuracy: 0.2224\n",
      "Epoch 16/150\n",
      "484/484 [==============================] - 2s 3ms/step - loss: 3.3725 - accuracy: 0.2667\n",
      "Epoch 17/150\n",
      "484/484 [==============================] - 2s 3ms/step - loss: 3.1281 - accuracy: 0.3086\n",
      "Epoch 18/150\n",
      "484/484 [==============================] - 2s 3ms/step - loss: 2.8997 - accuracy: 0.3544\n",
      "Epoch 19/150\n",
      "484/484 [==============================] - 2s 3ms/step - loss: 2.6879 - accuracy: 0.3966\n",
      "Epoch 20/150\n",
      "484/484 [==============================] - 2s 3ms/step - loss: 2.5040 - accuracy: 0.4331\n",
      "Epoch 21/150\n",
      "484/484 [==============================] - 2s 3ms/step - loss: 2.3327 - accuracy: 0.4677\n",
      "Epoch 22/150\n",
      "484/484 [==============================] - 2s 3ms/step - loss: 2.1875 - accuracy: 0.5043\n",
      "Epoch 23/150\n",
      "484/484 [==============================] - 2s 3ms/step - loss: 2.0451 - accuracy: 0.5301\n",
      "Epoch 24/150\n",
      "484/484 [==============================] - 2s 3ms/step - loss: 1.9285 - accuracy: 0.5592\n",
      "Epoch 25/150\n",
      "484/484 [==============================] - 2s 3ms/step - loss: 1.8169 - accuracy: 0.5795\n",
      "Epoch 26/150\n",
      "484/484 [==============================] - 2s 3ms/step - loss: 1.7166 - accuracy: 0.6018\n",
      "Epoch 27/150\n",
      "484/484 [==============================] - 2s 3ms/step - loss: 1.6232 - accuracy: 0.6213\n",
      "Epoch 28/150\n",
      "484/484 [==============================] - 2s 3ms/step - loss: 1.5477 - accuracy: 0.6388\n",
      "Epoch 29/150\n",
      "484/484 [==============================] - 2s 3ms/step - loss: 1.4648 - accuracy: 0.6605\n",
      "Epoch 30/150\n",
      "484/484 [==============================] - 2s 3ms/step - loss: 1.3972 - accuracy: 0.6704\n",
      "Epoch 31/150\n",
      "484/484 [==============================] - 2s 3ms/step - loss: 1.3332 - accuracy: 0.6868\n",
      "Epoch 32/150\n",
      "484/484 [==============================] - 2s 3ms/step - loss: 1.2723 - accuracy: 0.7022\n",
      "Epoch 33/150\n",
      "484/484 [==============================] - 2s 3ms/step - loss: 1.2191 - accuracy: 0.7124\n",
      "Epoch 34/150\n",
      "484/484 [==============================] - 2s 3ms/step - loss: 1.1642 - accuracy: 0.7258\n",
      "Epoch 35/150\n",
      "484/484 [==============================] - 2s 3ms/step - loss: 1.1259 - accuracy: 0.7341\n",
      "Epoch 36/150\n",
      "484/484 [==============================] - 2s 3ms/step - loss: 1.0781 - accuracy: 0.7433\n",
      "Epoch 37/150\n",
      "484/484 [==============================] - 2s 3ms/step - loss: 1.0365 - accuracy: 0.7557\n",
      "Epoch 38/150\n",
      "484/484 [==============================] - 2s 3ms/step - loss: 1.0054 - accuracy: 0.7581\n",
      "Epoch 39/150\n",
      "484/484 [==============================] - 2s 3ms/step - loss: 0.9655 - accuracy: 0.7670\n",
      "Epoch 40/150\n",
      "484/484 [==============================] - 2s 3ms/step - loss: 0.9494 - accuracy: 0.7734\n",
      "Epoch 41/150\n",
      "484/484 [==============================] - 2s 3ms/step - loss: 0.9158 - accuracy: 0.7784\n",
      "Epoch 42/150\n",
      "484/484 [==============================] - 2s 3ms/step - loss: 0.8900 - accuracy: 0.7848\n",
      "Epoch 43/150\n",
      "484/484 [==============================] - 2s 3ms/step - loss: 0.8621 - accuracy: 0.7892\n",
      "Epoch 44/150\n",
      "484/484 [==============================] - 2s 4ms/step - loss: 0.8341 - accuracy: 0.7969\n",
      "Epoch 45/150\n",
      "484/484 [==============================] - 2s 3ms/step - loss: 0.8185 - accuracy: 0.8016\n",
      "Epoch 46/150\n",
      "484/484 [==============================] - 2s 3ms/step - loss: 0.7960 - accuracy: 0.8026\n",
      "Epoch 47/150\n",
      "484/484 [==============================] - 2s 3ms/step - loss: 0.7831 - accuracy: 0.8046\n",
      "Epoch 48/150\n",
      "484/484 [==============================] - 2s 3ms/step - loss: 0.7680 - accuracy: 0.8099\n",
      "Epoch 49/150\n",
      "484/484 [==============================] - 2s 3ms/step - loss: 0.7390 - accuracy: 0.8165\n",
      "Epoch 50/150\n",
      "484/484 [==============================] - 2s 3ms/step - loss: 0.7323 - accuracy: 0.8162\n",
      "Epoch 51/150\n",
      "484/484 [==============================] - 2s 3ms/step - loss: 0.7141 - accuracy: 0.8207\n",
      "Epoch 52/150\n",
      "484/484 [==============================] - 2s 3ms/step - loss: 0.7177 - accuracy: 0.8185\n",
      "Epoch 53/150\n",
      "484/484 [==============================] - 2s 3ms/step - loss: 0.7008 - accuracy: 0.8218\n",
      "Epoch 54/150\n",
      "484/484 [==============================] - 2s 3ms/step - loss: 0.6873 - accuracy: 0.8251\n",
      "Epoch 55/150\n",
      "484/484 [==============================] - 2s 3ms/step - loss: 0.6777 - accuracy: 0.8280\n",
      "Epoch 56/150\n",
      "484/484 [==============================] - 2s 3ms/step - loss: 0.6734 - accuracy: 0.8269\n",
      "Epoch 57/150\n",
      "484/484 [==============================] - 2s 3ms/step - loss: 0.6648 - accuracy: 0.8296\n",
      "Epoch 58/150\n",
      "484/484 [==============================] - 2s 3ms/step - loss: 0.6496 - accuracy: 0.8333\n",
      "Epoch 59/150\n",
      "484/484 [==============================] - 2s 3ms/step - loss: 0.6396 - accuracy: 0.8336\n",
      "Epoch 60/150\n",
      "484/484 [==============================] - 2s 3ms/step - loss: 0.6280 - accuracy: 0.8368\n",
      "Epoch 61/150\n",
      "484/484 [==============================] - 2s 3ms/step - loss: 0.6274 - accuracy: 0.8345\n",
      "Epoch 62/150\n",
      "484/484 [==============================] - 2s 3ms/step - loss: 0.6296 - accuracy: 0.8362\n",
      "Epoch 63/150\n",
      "484/484 [==============================] - 2s 3ms/step - loss: 0.6206 - accuracy: 0.8386\n",
      "Epoch 64/150\n",
      "484/484 [==============================] - 2s 3ms/step - loss: 0.6264 - accuracy: 0.8345\n",
      "Epoch 65/150\n",
      "484/484 [==============================] - 2s 3ms/step - loss: 0.6112 - accuracy: 0.8388\n",
      "Epoch 66/150\n",
      "484/484 [==============================] - 2s 3ms/step - loss: 0.5936 - accuracy: 0.8423\n",
      "Epoch 67/150\n",
      "484/484 [==============================] - 2s 3ms/step - loss: 0.5857 - accuracy: 0.8448\n",
      "Epoch 68/150\n",
      "484/484 [==============================] - 2s 3ms/step - loss: 0.5832 - accuracy: 0.8434\n",
      "Epoch 69/150\n",
      "484/484 [==============================] - 2s 3ms/step - loss: 0.5894 - accuracy: 0.8410\n",
      "Epoch 70/150\n",
      "484/484 [==============================] - 2s 3ms/step - loss: 0.5912 - accuracy: 0.8412\n",
      "Epoch 71/150\n",
      "484/484 [==============================] - 2s 3ms/step - loss: 0.5925 - accuracy: 0.8408\n",
      "Epoch 72/150\n",
      "484/484 [==============================] - 2s 3ms/step - loss: 0.5984 - accuracy: 0.8390\n",
      "Epoch 73/150\n",
      "484/484 [==============================] - 2s 3ms/step - loss: 0.5753 - accuracy: 0.8437\n",
      "Epoch 74/150\n",
      "484/484 [==============================] - 2s 3ms/step - loss: 0.5861 - accuracy: 0.8412\n",
      "Epoch 75/150\n",
      "484/484 [==============================] - 2s 3ms/step - loss: 0.5736 - accuracy: 0.8447\n",
      "Epoch 76/150\n",
      "484/484 [==============================] - 2s 3ms/step - loss: 0.5691 - accuracy: 0.8432\n",
      "Epoch 77/150\n",
      "484/484 [==============================] - 2s 3ms/step - loss: 0.5572 - accuracy: 0.8456\n",
      "Epoch 78/150\n",
      "484/484 [==============================] - 2s 3ms/step - loss: 0.5489 - accuracy: 0.8476\n",
      "Epoch 79/150\n",
      "484/484 [==============================] - 2s 3ms/step - loss: 0.5482 - accuracy: 0.8507\n",
      "Epoch 80/150\n",
      "484/484 [==============================] - 2s 3ms/step - loss: 0.5478 - accuracy: 0.8485\n",
      "Epoch 81/150\n"
     ]
    },
    {
     "name": "stdout",
     "output_type": "stream",
     "text": [
      "484/484 [==============================] - 2s 3ms/step - loss: 0.5587 - accuracy: 0.8469\n",
      "Epoch 82/150\n",
      "484/484 [==============================] - 2s 3ms/step - loss: 0.6030 - accuracy: 0.8311\n",
      "Epoch 83/150\n",
      "484/484 [==============================] - 2s 3ms/step - loss: 0.5846 - accuracy: 0.8367\n",
      "Epoch 84/150\n",
      "484/484 [==============================] - 2s 3ms/step - loss: 0.5467 - accuracy: 0.8487\n",
      "Epoch 85/150\n",
      "484/484 [==============================] - 2s 3ms/step - loss: 0.5412 - accuracy: 0.8480\n",
      "Epoch 86/150\n",
      "484/484 [==============================] - 2s 3ms/step - loss: 0.5304 - accuracy: 0.8518\n",
      "Epoch 87/150\n",
      "484/484 [==============================] - 2s 3ms/step - loss: 0.5367 - accuracy: 0.8490\n",
      "Epoch 88/150\n",
      "484/484 [==============================] - 2s 3ms/step - loss: 0.5388 - accuracy: 0.8498\n",
      "Epoch 89/150\n",
      "484/484 [==============================] - 2s 3ms/step - loss: 0.5397 - accuracy: 0.8454\n",
      "Epoch 90/150\n",
      "484/484 [==============================] - 2s 3ms/step - loss: 0.5732 - accuracy: 0.8372\n",
      "Epoch 91/150\n",
      "484/484 [==============================] - 2s 3ms/step - loss: 0.5652 - accuracy: 0.8397\n",
      "Epoch 92/150\n",
      "484/484 [==============================] - 2s 3ms/step - loss: 0.5371 - accuracy: 0.8478\n",
      "Epoch 93/150\n",
      "484/484 [==============================] - 2s 3ms/step - loss: 0.5261 - accuracy: 0.8504\n",
      "Epoch 94/150\n",
      "484/484 [==============================] - 2s 3ms/step - loss: 0.5214 - accuracy: 0.8511\n",
      "Epoch 95/150\n",
      "484/484 [==============================] - 2s 3ms/step - loss: 0.5245 - accuracy: 0.8483\n",
      "Epoch 96/150\n",
      "484/484 [==============================] - 2s 3ms/step - loss: 0.5247 - accuracy: 0.8504\n",
      "Epoch 97/150\n",
      "484/484 [==============================] - 2s 3ms/step - loss: 0.5264 - accuracy: 0.8496\n",
      "Epoch 98/150\n",
      "484/484 [==============================] - 2s 3ms/step - loss: 0.5436 - accuracy: 0.8450\n",
      "Epoch 99/150\n",
      "484/484 [==============================] - 2s 3ms/step - loss: 0.5645 - accuracy: 0.8388\n",
      "Epoch 100/150\n",
      "484/484 [==============================] - 2s 3ms/step - loss: 0.5449 - accuracy: 0.8434\n",
      "Epoch 101/150\n",
      "484/484 [==============================] - 2s 3ms/step - loss: 0.5275 - accuracy: 0.8495\n",
      "Epoch 102/150\n",
      "484/484 [==============================] - 2s 3ms/step - loss: 0.5130 - accuracy: 0.8516\n",
      "Epoch 103/150\n",
      "484/484 [==============================] - 2s 3ms/step - loss: 0.5137 - accuracy: 0.8512\n",
      "Epoch 104/150\n",
      "484/484 [==============================] - 2s 3ms/step - loss: 0.5202 - accuracy: 0.8494\n",
      "Epoch 105/150\n",
      "484/484 [==============================] - 2s 3ms/step - loss: 0.5220 - accuracy: 0.8500\n",
      "Epoch 106/150\n",
      "484/484 [==============================] - 2s 3ms/step - loss: 0.5268 - accuracy: 0.8452\n",
      "Epoch 107/150\n",
      "484/484 [==============================] - 2s 3ms/step - loss: 0.5340 - accuracy: 0.8450\n",
      "Epoch 108/150\n",
      "484/484 [==============================] - 2s 3ms/step - loss: 0.5215 - accuracy: 0.8479\n",
      "Epoch 109/150\n",
      "484/484 [==============================] - 2s 3ms/step - loss: 0.5163 - accuracy: 0.8493\n",
      "Epoch 110/150\n",
      "484/484 [==============================] - 2s 3ms/step - loss: 0.5097 - accuracy: 0.8507\n",
      "Epoch 111/150\n",
      "484/484 [==============================] - 2s 3ms/step - loss: 0.5118 - accuracy: 0.8509\n",
      "Epoch 112/150\n",
      "484/484 [==============================] - 2s 3ms/step - loss: 0.5214 - accuracy: 0.8473\n",
      "Epoch 113/150\n",
      "484/484 [==============================] - 2s 3ms/step - loss: 0.5396 - accuracy: 0.8436\n",
      "Epoch 114/150\n",
      "484/484 [==============================] - 2s 3ms/step - loss: 0.5358 - accuracy: 0.8432\n",
      "Epoch 115/150\n",
      "484/484 [==============================] - 2s 3ms/step - loss: 0.5164 - accuracy: 0.8480\n",
      "Epoch 116/150\n",
      "484/484 [==============================] - 2s 3ms/step - loss: 0.5095 - accuracy: 0.8491\n",
      "Epoch 117/150\n",
      "484/484 [==============================] - 2s 3ms/step - loss: 0.5021 - accuracy: 0.8516\n",
      "Epoch 118/150\n",
      "484/484 [==============================] - 2s 3ms/step - loss: 0.5095 - accuracy: 0.8500\n",
      "Epoch 119/150\n",
      "484/484 [==============================] - 2s 3ms/step - loss: 0.5058 - accuracy: 0.8509\n",
      "Epoch 120/150\n",
      "484/484 [==============================] - 2s 3ms/step - loss: 0.5255 - accuracy: 0.8467\n",
      "Epoch 121/150\n",
      "484/484 [==============================] - 2s 3ms/step - loss: 0.5240 - accuracy: 0.8469\n",
      "Epoch 122/150\n",
      "484/484 [==============================] - 2s 3ms/step - loss: 0.5113 - accuracy: 0.8472\n",
      "Epoch 123/150\n",
      "484/484 [==============================] - 2s 3ms/step - loss: 0.5076 - accuracy: 0.8492\n",
      "Epoch 124/150\n",
      "484/484 [==============================] - 2s 3ms/step - loss: 0.5055 - accuracy: 0.8506\n",
      "Epoch 125/150\n",
      "484/484 [==============================] - 2s 3ms/step - loss: 0.5040 - accuracy: 0.8504\n",
      "Epoch 126/150\n",
      "484/484 [==============================] - 2s 3ms/step - loss: 0.5067 - accuracy: 0.8503\n",
      "Epoch 127/150\n",
      "484/484 [==============================] - 2s 3ms/step - loss: 0.5027 - accuracy: 0.8503\n",
      "Epoch 128/150\n",
      "484/484 [==============================] - 2s 3ms/step - loss: 0.5116 - accuracy: 0.8495\n",
      "Epoch 129/150\n",
      "484/484 [==============================] - 2s 3ms/step - loss: 0.5162 - accuracy: 0.8465\n",
      "Epoch 130/150\n",
      "484/484 [==============================] - 2s 3ms/step - loss: 0.5037 - accuracy: 0.8491\n",
      "Epoch 131/150\n",
      "484/484 [==============================] - 2s 3ms/step - loss: 0.4991 - accuracy: 0.8509\n",
      "Epoch 132/150\n",
      "484/484 [==============================] - 2s 3ms/step - loss: 0.4994 - accuracy: 0.8504\n",
      "Epoch 133/150\n",
      "484/484 [==============================] - 2s 3ms/step - loss: 0.5015 - accuracy: 0.8510\n",
      "Epoch 134/150\n",
      "484/484 [==============================] - 2s 3ms/step - loss: 0.4977 - accuracy: 0.8509\n",
      "Epoch 135/150\n",
      "484/484 [==============================] - 2s 3ms/step - loss: 0.5153 - accuracy: 0.8467\n",
      "Epoch 136/150\n",
      "484/484 [==============================] - 2s 3ms/step - loss: 0.5212 - accuracy: 0.8461\n",
      "Epoch 137/150\n",
      "484/484 [==============================] - 2s 3ms/step - loss: 0.5061 - accuracy: 0.8487\n",
      "Epoch 138/150\n",
      "484/484 [==============================] - 2s 3ms/step - loss: 0.5055 - accuracy: 0.8492\n",
      "Epoch 139/150\n",
      "484/484 [==============================] - 2s 3ms/step - loss: 0.4991 - accuracy: 0.8503\n",
      "Epoch 140/150\n",
      "484/484 [==============================] - 2s 3ms/step - loss: 0.4936 - accuracy: 0.8520\n",
      "Epoch 141/150\n",
      "484/484 [==============================] - 2s 3ms/step - loss: 0.4956 - accuracy: 0.8512\n",
      "Epoch 142/150\n",
      "484/484 [==============================] - 2s 3ms/step - loss: 0.4943 - accuracy: 0.8514\n",
      "Epoch 143/150\n",
      "484/484 [==============================] - 2s 3ms/step - loss: 0.5008 - accuracy: 0.8493\n",
      "Epoch 144/150\n",
      "484/484 [==============================] - 2s 3ms/step - loss: 0.5022 - accuracy: 0.8489\n",
      "Epoch 145/150\n",
      "484/484 [==============================] - 2s 3ms/step - loss: 0.5257 - accuracy: 0.8421\n",
      "Epoch 146/150\n",
      "484/484 [==============================] - 2s 3ms/step - loss: 0.5007 - accuracy: 0.8487\n",
      "Epoch 147/150\n",
      "484/484 [==============================] - 2s 3ms/step - loss: 0.4911 - accuracy: 0.8512\n",
      "Epoch 148/150\n",
      "484/484 [==============================] - 2s 3ms/step - loss: 0.4888 - accuracy: 0.8516\n",
      "Epoch 149/150\n",
      "484/484 [==============================] - 2s 3ms/step - loss: 0.4893 - accuracy: 0.8520\n",
      "Epoch 150/150\n",
      "484/484 [==============================] - 2s 3ms/step - loss: 0.4894 - accuracy: 0.8517\n"
     ]
    }
   ],
   "source": [
    "# Get the untrained model\n",
    "model = create_model(total_words, max_sequence_len)\n",
    "\n",
    "# Train the model\n",
    "history = model.fit(features, labels, epochs=150, verbose=1)"
   ]
  },
  {
   "cell_type": "markdown",
   "metadata": {
    "id": "gy72RPgly55q"
   },
   "source": [
    "**To pass this assignment, your model should achieve a training accuracy of at least 80%**. If your model didn't achieve this threshold, try training again with a different model architecture, consider increasing the number of unit in your `LSTM` layer."
   ]
  },
  {
   "cell_type": "code",
   "execution_count": 22,
   "metadata": {
    "id": "1fXTEO3GJ282"
   },
   "outputs": [
    {
     "data": {
      "image/png": "[encoded data removed]",
      "text/plain": [
       "<Figure size 432x288 with 1 Axes>"
      ]
     },
     "metadata": {
      "needs_background": "light"
     },
     "output_type": "display_data"
    },
    {
     "data": {
      "image/png": "[encoded data removed]",
      "text/plain": [
       "<Figure size 432x288 with 1 Axes>"
      ]
     },
     "metadata": {
      "needs_background": "light"
     },
     "output_type": "display_data"
    }
   ],
   "source": [
    "# Take a look at the training curves of your model\n",
    "\n",
    "acc = history.history['accuracy']\n",
    "loss = history.history['loss']\n",
    "\n",
    "epochs = range(len(acc))\n",
    "\n",
    "plt.plot(epochs, acc, 'b', label='Training accuracy')\n",
    "plt.title('Training accuracy')\n",
    "\n",
    "plt.figure()\n",
    "\n",
    "plt.plot(epochs, loss, 'b', label='Training Loss')\n",
    "plt.title('Training loss')\n",
    "plt.legend()\n",
    "\n",
    "plt.show()"
   ]
  },
  {
   "cell_type": "markdown",
   "metadata": {
    "id": "OjvED5A3qrn2"
   },
   "source": [
    "Before closing the assignment, be sure to also download the `history.pkl` file which contains the information of the training history of your model and will be used to compute your grade. You can download this file by running the cell below:"
   ]
  },
  {
   "cell_type": "code",
   "execution_count": 24,
   "metadata": {
    "id": "9QRG73l6qE-c"
   },
   "outputs": [],
   "source": [
    "# def download_history():\n",
    "#   import pickle\n",
    "#   from google.colab import files\n",
    "\n",
    "#   with open('history.pkl', 'wb') as f:\n",
    "#     pickle.dump(history.history, f)\n",
    "\n",
    "#   files.download('history.pkl')\n",
    "\n",
    "# download_history()"
   ]
  },
  {
   "cell_type": "markdown",
   "metadata": {
    "id": "wdsMszk9zBs_"
   },
   "source": [
    "## See your model in action\n",
    "\n",
    "After all your work it is finally time to see your model generating text. \n",
    "\n",
    "Run the cell below to generate the next 100 words of a seed text.\n",
    "\n",
    "After submitting your assignment you are encouraged to try out training for different amounts of epochs and seeing how this affects the coherency of the generated text. Also try changing the seed text to see what you get!"
   ]
  },
  {
   "cell_type": "code",
   "execution_count": 25,
   "metadata": {
    "id": "6Vc6PHgxa6Hm"
   },
   "outputs": [
    {
     "name": "stdout",
     "output_type": "stream",
     "text": [
      "Help me Obi Wan Kenobi, you're my only hope and see his verse kind of that end desire in time directed wanting dwell be time be pride new not call not due of so thine eyes so near show thee so that that that that that is thy treasure might lie in thee that that due of thy treasure all good hate show show show loss that that near that is is so true loss of me fair ' find forth life and life away and hate thee so so i change love of so sort dearer is done i near slain slain love so i know mine love\n"
     ]
    }
   ],
   "source": [
    "seed_text = \"Help me Obi Wan Kenobi, you're my only hope\"\n",
    "next_words = 100\n",
    "  \n",
    "for _ in range(next_words):\n",
    "\t# Convert the text into sequences\n",
    "\ttoken_list = tokenizer.texts_to_sequences([seed_text])[0]\n",
    "\t# Pad the sequences\n",
    "\ttoken_list = pad_sequences([token_list], maxlen=max_sequence_len-1, padding='pre')\n",
    "\t# Get the probabilities of predicting a word\n",
    "\tpredicted = model.predict(token_list, verbose=0)\n",
    "\t# Choose the next word based on the maximum probability\n",
    "\tpredicted = np.argmax(predicted, axis=-1).item()\n",
    "\t# Get the actual word from the word index\n",
    "\toutput_word = tokenizer.index_word[predicted]\n",
    "\t# Append to the current text\n",
    "\tseed_text += \" \" + output_word\n",
    "\n",
    "print(seed_text)"
   ]
  },
  {
   "cell_type": "markdown",
   "metadata": {
    "id": "oQVDbdcYqSux"
   },
   "source": [
    "You will also need to submit this notebook for grading. To download it, click on the File tab in the upper left corner of the screen then click on Download -> Download .ipynb. You can name it anything you want as long as it is a valid .ipynb (jupyter notebook) file.\n",
    "\n",
    "**Congratulations on finishing this week's assignment!**\n",
    "\n",
    "You have successfully implemented a neural network capable of predicting the next word in a sequence of text!\n",
    "\n",
    "**We hope to see you in the next course of the specialization! Keep it up!**"
   ]
  }
 ],
 "metadata": {
  "accelerator": "GPU",
  "jupytext": {
   "main_language": "python"
  },
  "kernelspec": {
   "display_name": "Python 3 (ipykernel)",
   "language": "python",
   "name": "python3"
  },
  "language_info": {
   "codemirror_mode": {
    "name": "ipython",
    "version": 3
   },
   "file_extension": ".py",
   "mimetype": "text/x-python",
   "name": "python",
   "nbconvert_exporter": "python",
   "pygments_lexer": "ipython3",
   "version": "3.8.10"
  }
 },
 "nbformat": 4,
 "nbformat_minor": 4
}
